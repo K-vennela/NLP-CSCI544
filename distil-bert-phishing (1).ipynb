{
 "cells": [
  {
   "cell_type": "markdown",
   "metadata": {},
   "source": [
    "# Importing libraries, loading and transforming data"
   ]
  },
  {
   "cell_type": "code",
   "execution_count": 1,
   "metadata": {
    "execution": {
     "iopub.execute_input": "2023-11-28T03:17:32.237765Z",
     "iopub.status.busy": "2023-11-28T03:17:32.237238Z",
     "iopub.status.idle": "2023-11-28T03:17:50.840002Z",
     "shell.execute_reply": "2023-11-28T03:17:50.838753Z",
     "shell.execute_reply.started": "2023-11-28T03:17:32.237729Z"
    }
   },
   "outputs": [],
   "source": [
    "\n",
    "!pip install -U -q mlflow datasets>=2.14.5 nlp 2>/dev/null"
   ]
  },
  {
   "cell_type": "code",
   "execution_count": 2,
   "metadata": {
    "execution": {
     "iopub.execute_input": "2023-11-28T03:17:50.842704Z",
     "iopub.status.busy": "2023-11-28T03:17:50.842338Z",
     "iopub.status.idle": "2023-11-28T03:18:08.810170Z",
     "shell.execute_reply": "2023-11-28T03:18:08.809252Z",
     "shell.execute_reply.started": "2023-11-28T03:17:50.842673Z"
    }
   },
   "outputs": [],
   "source": [
    "import pandas as pd \n",
    "import gc  \n",
    "import re  \n",
    "import numpy as np  \n",
    "\n",
    "import warnings \n",
    "warnings.filterwarnings(\"ignore\")  \n",
    "\n",
    "import torch \n",
    "from transformers import AutoModel, AutoTokenizer \n",
    "from transformers import TextDataset, LineByLineTextDataset, DataCollatorForLanguageModeling, \\\n",
    "pipeline, Trainer, TrainingArguments, DataCollatorWithPadding  \n",
    "from transformers import AutoModelForSequenceClassification  \n",
    "\n",
    "from nlp import Dataset  \n",
    "from imblearn.over_sampling import RandomOverSampler  \n",
    "import datasets  \n",
    "from datasets import Dataset, Image, ClassLabel \n",
    "from transformers import pipeline  \n",
    "from bs4 import BeautifulSoup  \n",
    "\n",
    "import matplotlib.pyplot as plt  \n",
    "import itertools \n",
    "from sklearn.metrics import ( \n",
    "    accuracy_score,  \n",
    "    roc_auc_score, \n",
    "    confusion_matrix,  \n",
    "    classification_report,  \n",
    "    f1_score \n",
    ")\n",
    "\n",
    "from datasets import load_metric  \n",
    "\n",
    "from tqdm import tqdm  \n",
    "tqdm.pandas()"
   ]
  },
  {
   "cell_type": "code",
   "execution_count": 3,
   "metadata": {
    "execution": {
     "iopub.execute_input": "2023-11-28T03:18:08.811993Z",
     "iopub.status.busy": "2023-11-28T03:18:08.811321Z",
     "iopub.status.idle": "2023-11-28T03:18:08.817298Z",
     "shell.execute_reply": "2023-11-28T03:18:08.816266Z",
     "shell.execute_reply.started": "2023-11-28T03:18:08.811965Z"
    }
   },
   "outputs": [],
   "source": [
    "\n",
    "train_fraction = 0.8\n",
    "\n",
    "num_train_epochs = 10\n",
    "\n",
    "learning_rate = 3e-7\n",
    "\n",
    "train_batch_size = 8\n",
    "\n",
    "eval_batch_size = 64\n",
    "\n",
    "warmup_steps = 50\n",
    "\n",
    "weight_decay = 0.02\n",
    "\n",
    "BERT_MODEL = \"distilbert-base-cased\"\n",
    "\n",
    "output_dir = \"sms-spam-detection-distilbert\""
   ]
  },
  {
   "cell_type": "code",
   "execution_count": 4,
   "metadata": {
    "execution": {
     "iopub.execute_input": "2023-11-28T03:18:08.818982Z",
     "iopub.status.busy": "2023-11-28T03:18:08.818598Z",
     "iopub.status.idle": "2023-11-28T03:18:09.512910Z",
     "shell.execute_reply": "2023-11-28T03:18:09.512002Z",
     "shell.execute_reply.started": "2023-11-28T03:18:08.818957Z"
    }
   },
   "outputs": [
    {
     "name": "stdout",
     "output_type": "stream",
     "text": [
      "There are 1679 duplicates found in the dataset\n",
      "(10249, 2)\n",
      "CPU times: user 150 ms, sys: 34 ms, total: 184 ms\n",
      "Wall time: 364 ms\n"
     ]
    },
    {
     "data": {
      "text/html": [
       "<div>\n",
       "<style scoped>\n",
       "    .dataframe tbody tr th:only-of-type {\n",
       "        vertical-align: middle;\n",
       "    }\n",
       "\n",
       "    .dataframe tbody tr th {\n",
       "        vertical-align: top;\n",
       "    }\n",
       "\n",
       "    .dataframe thead th {\n",
       "        text-align: right;\n",
       "    }\n",
       "</style>\n",
       "<table border=\"1\" class=\"dataframe\">\n",
       "  <thead>\n",
       "    <tr style=\"text-align: right;\">\n",
       "      <th></th>\n",
       "      <th>334</th>\n",
       "      <th>8468</th>\n",
       "      <th>7562</th>\n",
       "      <th>8582</th>\n",
       "      <th>6278</th>\n",
       "    </tr>\n",
       "  </thead>\n",
       "  <tbody>\n",
       "    <tr>\n",
       "      <th>label</th>\n",
       "      <td>1</td>\n",
       "      <td>0</td>\n",
       "      <td>0</td>\n",
       "      <td>1</td>\n",
       "      <td>1</td>\n",
       "    </tr>\n",
       "    <tr>\n",
       "      <th>title</th>\n",
       "      <td>charset=\"iso-8859-1\"Dear friend, I wis...</td>\n",
       "      <td>Yep - speak w/ you then</td>\n",
       "      <td>Also if they're holding a mtg I would think th...</td>\n",
       "      <td>This is for your urgent attention.  First, I m...</td>\n",
       "      <td>Kindest attention, I am very sorry for the inf...</td>\n",
       "    </tr>\n",
       "  </tbody>\n",
       "</table>\n",
       "</div>"
      ],
      "text/plain": [
       "                                                    334   \\\n",
       "label                                                  1   \n",
       "title          charset=\"iso-8859-1\"Dear friend, I wis...   \n",
       "\n",
       "                          8468  \\\n",
       "label                        0   \n",
       "title  Yep - speak w/ you then   \n",
       "\n",
       "                                                    7562  \\\n",
       "label                                                  0   \n",
       "title  Also if they're holding a mtg I would think th...   \n",
       "\n",
       "                                                    8582  \\\n",
       "label                                                  1   \n",
       "title  This is for your urgent attention.  First, I m...   \n",
       "\n",
       "                                                    6278  \n",
       "label                                                  1  \n",
       "title  Kindest attention, I am very sorry for the inf...  "
      ]
     },
     "execution_count": 4,
     "metadata": {},
     "output_type": "execute_result"
    }
   ],
   "source": [
    "%%time\n",
    "df = pd.read_csv(\"/kaggle/input/radev-data/fraud_email_.csv\", encoding='latin-1')\n",
    "\n",
    "item0 = df.shape[0] \n",
    "df = df.drop_duplicates()  \n",
    "item1 = df.shape[0]  \n",
    "print(f\"There are {item0-item1} duplicates found in the dataset\")  \n",
    "\n",
    "df = df.rename(columns={'Class': 'label', 'Text': 'title'}) \n",
    "\n",
    "df = df[['label', 'title']] \n",
    "df['label'] = df['label'].astype('str')\n",
    "\n",
    "\n",
    "df = df[~df['title'].isnull()]  \n",
    "df = df[~df['label'].isnull()] \n",
    "\n",
    "print(df.shape) \n",
    "df.sample(5).T "
   ]
  },
  {
   "cell_type": "code",
   "execution_count": 5,
   "metadata": {
    "execution": {
     "iopub.execute_input": "2023-11-28T03:18:09.516248Z",
     "iopub.status.busy": "2023-11-28T03:18:09.515993Z",
     "iopub.status.idle": "2023-11-28T03:18:09.532441Z",
     "shell.execute_reply": "2023-11-28T03:18:09.531530Z",
     "shell.execute_reply.started": "2023-11-28T03:18:09.516226Z"
    }
   },
   "outputs": [
    {
     "name": "stdout",
     "output_type": "stream",
     "text": [
      "<class 'pandas.core.frame.DataFrame'>\n",
      "Index: 10249 entries, 0 to 11928\n",
      "Data columns (total 2 columns):\n",
      " #   Column  Non-Null Count  Dtype \n",
      "---  ------  --------------  ----- \n",
      " 0   label   10249 non-null  object\n",
      " 1   title   10249 non-null  object\n",
      "dtypes: object(2)\n",
      "memory usage: 240.2+ KB\n"
     ]
    }
   ],
   "source": [
    "df.info()"
   ]
  },
  {
   "cell_type": "code",
   "execution_count": 6,
   "metadata": {
    "execution": {
     "iopub.execute_input": "2023-11-28T03:18:09.534069Z",
     "iopub.status.busy": "2023-11-28T03:18:09.533704Z",
     "iopub.status.idle": "2023-11-28T03:18:09.559590Z",
     "shell.execute_reply": "2023-11-28T03:18:09.558717Z",
     "shell.execute_reply.started": "2023-11-28T03:18:09.534038Z"
    }
   },
   "outputs": [
    {
     "name": "stdout",
     "output_type": "stream",
     "text": [
      "['0' '1']\n",
      "{'0': 0.866356720202874, '1': 1.1823950161513612}\n"
     ]
    }
   ],
   "source": [
    "from sklearn.utils.class_weight import compute_class_weight\n",
    "\n",
    "classes = np.unique(df[['label']])\n",
    "\n",
    "print(classes)\n",
    "\n",
    "weights = compute_class_weight(class_weight='balanced', classes=classes, y=df['label'])\n",
    "\n",
    "class_weights = dict(zip(classes, weights))\n",
    "\n",
    "print(class_weights)"
   ]
  },
  {
   "cell_type": "code",
   "execution_count": 7,
   "metadata": {
    "execution": {
     "iopub.execute_input": "2023-11-28T03:18:09.560999Z",
     "iopub.status.busy": "2023-11-28T03:18:09.560651Z",
     "iopub.status.idle": "2023-11-28T03:18:09.568528Z",
     "shell.execute_reply": "2023-11-28T03:18:09.567711Z",
     "shell.execute_reply.started": "2023-11-28T03:18:09.560969Z"
    }
   },
   "outputs": [
    {
     "name": "stdout",
     "output_type": "stream",
     "text": [
      "Mapping of IDs to Labels: {0: '0', 1: '1'} \n",
      "\n",
      "Mapping of Labels to IDs: {'0': 0, '1': 1}\n"
     ]
    }
   ],
   "source": [
    "labels_list = sorted(list(df['label'].unique()))\n",
    "\n",
    "label2id, id2label = dict(), dict()\n",
    "\n",
    "for i, label in enumerate(labels_list):\n",
    "    label2id[label] = i  # Map the label to its corresponding ID\n",
    "    id2label[i] = label  # Map the ID to its corresponding label\n",
    "\n",
    "print(\"Mapping of IDs to Labels:\", id2label, '\\n')\n",
    "print(\"Mapping of Labels to IDs:\", label2id)"
   ]
  },
  {
   "cell_type": "code",
   "execution_count": 8,
   "metadata": {
    "execution": {
     "iopub.execute_input": "2023-11-28T03:18:09.570707Z",
     "iopub.status.busy": "2023-11-28T03:18:09.569945Z",
     "iopub.status.idle": "2023-11-28T03:18:09.580354Z",
     "shell.execute_reply": "2023-11-28T03:18:09.579554Z",
     "shell.execute_reply.started": "2023-11-28T03:18:09.570676Z"
    }
   },
   "outputs": [
    {
     "data": {
      "text/plain": [
       "[0.866356720202874, 1.1823950161513612]"
      ]
     },
     "execution_count": 8,
     "metadata": {},
     "output_type": "execute_result"
    }
   ],
   "source": [
    "ordered_weigths = [class_weights[x] for x in id2label.values()]\n",
    "ordered_weigths"
   ]
  },
  {
   "cell_type": "code",
   "execution_count": 9,
   "metadata": {
    "execution": {
     "iopub.execute_input": "2023-11-28T03:18:09.581648Z",
     "iopub.status.busy": "2023-11-28T03:18:09.581380Z",
     "iopub.status.idle": "2023-11-28T03:18:09.627443Z",
     "shell.execute_reply": "2023-11-28T03:18:09.626725Z",
     "shell.execute_reply.started": "2023-11-28T03:18:09.581626Z"
    }
   },
   "outputs": [],
   "source": [
    "dataset = Dataset.from_pandas(df)"
   ]
  },
  {
   "cell_type": "code",
   "execution_count": 10,
   "metadata": {
    "execution": {
     "iopub.execute_input": "2023-11-28T03:18:09.628904Z",
     "iopub.status.busy": "2023-11-28T03:18:09.628547Z",
     "iopub.status.idle": "2023-11-28T03:18:09.749521Z",
     "shell.execute_reply": "2023-11-28T03:18:09.748708Z",
     "shell.execute_reply.started": "2023-11-28T03:18:09.628865Z"
    }
   },
   "outputs": [
    {
     "data": {
      "application/vnd.jupyter.widget-view+json": {
       "model_id": "414941759dd64a84b3a0725e7905e922",
       "version_major": 2,
       "version_minor": 0
      },
      "text/plain": [
       "Map:   0%|          | 0/10249 [00:00<?, ? examples/s]"
      ]
     },
     "metadata": {},
     "output_type": "display_data"
    },
    {
     "data": {
      "application/vnd.jupyter.widget-view+json": {
       "model_id": "cf58f62029b24a2d9700c36be9a7b190",
       "version_major": 2,
       "version_minor": 0
      },
      "text/plain": [
       "Casting the dataset:   0%|          | 0/10249 [00:00<?, ? examples/s]"
      ]
     },
     "metadata": {},
     "output_type": "display_data"
    }
   ],
   "source": [
    "ClassLabels = ClassLabel(num_classes=len(labels_list), names=labels_list)\n",
    "\n",
    "def map_label2id(example):\n",
    "    example['label'] = ClassLabels.str2int(example['label'])\n",
    "    return example\n",
    "\n",
    "dataset = dataset.map(map_label2id, batched=True)\n",
    "\n",
    "dataset = dataset.cast_column('label', ClassLabels)\n",
    "\n",
    "dataset = dataset.train_test_split(test_size=1-train_fraction, shuffle=True) # , stratify_by_column=\"label\"\n",
    "\n",
    "df_train = dataset['train']\n",
    "\n",
    "df_test = dataset['test']"
   ]
  },
  {
   "cell_type": "code",
   "execution_count": 11,
   "metadata": {
    "execution": {
     "iopub.execute_input": "2023-11-28T03:18:09.751462Z",
     "iopub.status.busy": "2023-11-28T03:18:09.750858Z",
     "iopub.status.idle": "2023-11-28T03:18:10.035465Z",
     "shell.execute_reply": "2023-11-28T03:18:10.034606Z",
     "shell.execute_reply.started": "2023-11-28T03:18:09.751429Z"
    }
   },
   "outputs": [
    {
     "data": {
      "text/plain": [
       "243"
      ]
     },
     "execution_count": 11,
     "metadata": {},
     "output_type": "execute_result"
    }
   ],
   "source": [
    "del df\n",
    "\n",
    "gc.collect()"
   ]
  },
  {
   "cell_type": "code",
   "execution_count": 12,
   "metadata": {
    "execution": {
     "iopub.execute_input": "2023-11-28T03:18:10.036926Z",
     "iopub.status.busy": "2023-11-28T03:18:10.036647Z",
     "iopub.status.idle": "2023-11-28T03:18:12.929383Z",
     "shell.execute_reply": "2023-11-28T03:18:12.928446Z",
     "shell.execute_reply.started": "2023-11-28T03:18:10.036902Z"
    }
   },
   "outputs": [
    {
     "data": {
      "application/vnd.jupyter.widget-view+json": {
       "model_id": "64274127b63d4e3cb6a3b88e9b4068ee",
       "version_major": 2,
       "version_minor": 0
      },
      "text/plain": [
       "tokenizer_config.json:   0%|          | 0.00/29.0 [00:00<?, ?B/s]"
      ]
     },
     "metadata": {},
     "output_type": "display_data"
    },
    {
     "data": {
      "application/vnd.jupyter.widget-view+json": {
       "model_id": "aedf95682a014fb6a31d649eea995df3",
       "version_major": 2,
       "version_minor": 0
      },
      "text/plain": [
       "config.json:   0%|          | 0.00/465 [00:00<?, ?B/s]"
      ]
     },
     "metadata": {},
     "output_type": "display_data"
    },
    {
     "data": {
      "application/vnd.jupyter.widget-view+json": {
       "model_id": "635dcc27550c4ae49478d2a71d8fa741",
       "version_major": 2,
       "version_minor": 0
      },
      "text/plain": [
       "vocab.txt:   0%|          | 0.00/213k [00:00<?, ?B/s]"
      ]
     },
     "metadata": {},
     "output_type": "display_data"
    },
    {
     "data": {
      "application/vnd.jupyter.widget-view+json": {
       "model_id": "c4eaa344440543d194fa5521d4bb826c",
       "version_major": 2,
       "version_minor": 0
      },
      "text/plain": [
       "tokenizer.json:   0%|          | 0.00/436k [00:00<?, ?B/s]"
      ]
     },
     "metadata": {},
     "output_type": "display_data"
    }
   ],
   "source": [
    "\n",
    "tokenizer = AutoTokenizer.from_pretrained(BERT_MODEL, use_fast=True, low_cpu_mem_usage=False)"
   ]
  },
  {
   "cell_type": "code",
   "execution_count": 13,
   "metadata": {
    "execution": {
     "iopub.execute_input": "2023-11-28T03:18:12.931429Z",
     "iopub.status.busy": "2023-11-28T03:18:12.931108Z",
     "iopub.status.idle": "2023-11-28T03:18:18.458493Z",
     "shell.execute_reply": "2023-11-28T03:18:18.457611Z",
     "shell.execute_reply.started": "2023-11-28T03:18:12.931404Z"
    }
   },
   "outputs": [
    {
     "data": {
      "application/vnd.jupyter.widget-view+json": {
       "model_id": "7489f1c83ddd4c369eeca72ada08ef60",
       "version_major": 2,
       "version_minor": 0
      },
      "text/plain": [
       "Map:   0%|          | 0/8199 [00:00<?, ? examples/s]"
      ]
     },
     "metadata": {},
     "output_type": "display_data"
    },
    {
     "data": {
      "application/vnd.jupyter.widget-view+json": {
       "model_id": "0083d90504474f7f9b9ff64e337cfd8c",
       "version_major": 2,
       "version_minor": 0
      },
      "text/plain": [
       "Map:   0%|          | 0/2050 [00:00<?, ? examples/s]"
      ]
     },
     "metadata": {},
     "output_type": "display_data"
    }
   ],
   "source": [
    "\n",
    "\n",
    "def preprocess_function(examples):\n",
    "   \n",
    "    return tokenizer(examples[\"title\"], truncation=True)\n",
    "\n",
    "\n",
    "df_train = df_train.map(preprocess_function, batched=True)\n",
    "df_test = df_test.map(preprocess_function, batched=True)"
   ]
  },
  {
   "cell_type": "code",
   "execution_count": 14,
   "metadata": {
    "execution": {
     "iopub.execute_input": "2023-11-28T03:18:18.463235Z",
     "iopub.status.busy": "2023-11-28T03:18:18.462913Z",
     "iopub.status.idle": "2023-11-28T03:18:18.472200Z",
     "shell.execute_reply": "2023-11-28T03:18:18.471441Z",
     "shell.execute_reply.started": "2023-11-28T03:18:18.463209Z"
    }
   },
   "outputs": [],
   "source": [
    "df_train = df_train.remove_columns(['title'])\n",
    "\n",
    "df_test = df_test.remove_columns(['title'])"
   ]
  },
  {
   "cell_type": "code",
   "execution_count": 15,
   "metadata": {
    "execution": {
     "iopub.execute_input": "2023-11-28T03:18:18.473583Z",
     "iopub.status.busy": "2023-11-28T03:18:18.473256Z",
     "iopub.status.idle": "2023-11-28T03:18:18.486444Z",
     "shell.execute_reply": "2023-11-28T03:18:18.485576Z",
     "shell.execute_reply.started": "2023-11-28T03:18:18.473532Z"
    }
   },
   "outputs": [
    {
     "data": {
      "text/plain": [
       "Dataset({\n",
       "    features: ['label', '__index_level_0__', 'input_ids', 'attention_mask'],\n",
       "    num_rows: 8199\n",
       "})"
      ]
     },
     "execution_count": 15,
     "metadata": {},
     "output_type": "execute_result"
    }
   ],
   "source": [
    "df_train"
   ]
  },
  {
   "cell_type": "code",
   "execution_count": 16,
   "metadata": {
    "execution": {
     "iopub.execute_input": "2023-11-28T03:18:18.487600Z",
     "iopub.status.busy": "2023-11-28T03:18:18.487329Z",
     "iopub.status.idle": "2023-11-28T03:18:18.498451Z",
     "shell.execute_reply": "2023-11-28T03:18:18.497621Z",
     "shell.execute_reply.started": "2023-11-28T03:18:18.487551Z"
    }
   },
   "outputs": [
    {
     "data": {
      "text/plain": [
       "Dataset({\n",
       "    features: ['label', '__index_level_0__', 'input_ids', 'attention_mask'],\n",
       "    num_rows: 2050\n",
       "})"
      ]
     },
     "execution_count": 16,
     "metadata": {},
     "output_type": "execute_result"
    }
   ],
   "source": [
    "df_test"
   ]
  },
  {
   "cell_type": "code",
   "execution_count": 17,
   "metadata": {
    "execution": {
     "iopub.execute_input": "2023-11-28T03:18:18.499880Z",
     "iopub.status.busy": "2023-11-28T03:18:18.499618Z",
     "iopub.status.idle": "2023-11-28T03:18:18.509366Z",
     "shell.execute_reply": "2023-11-28T03:18:18.508602Z",
     "shell.execute_reply.started": "2023-11-28T03:18:18.499858Z"
    }
   },
   "outputs": [],
   "source": [
    "\n",
    "data_collator = DataCollatorWithPadding(tokenizer=tokenizer)"
   ]
  },
  {
   "cell_type": "code",
   "execution_count": 18,
   "metadata": {
    "execution": {
     "iopub.execute_input": "2023-11-28T03:18:18.511183Z",
     "iopub.status.busy": "2023-11-28T03:18:18.510851Z",
     "iopub.status.idle": "2023-11-28T03:18:18.524173Z",
     "shell.execute_reply": "2023-11-28T03:18:18.523311Z",
     "shell.execute_reply.started": "2023-11-28T03:18:18.511154Z"
    }
   },
   "outputs": [
    {
     "data": {
      "text/plain": [
       "\"[CLS] rahim Danko. < / DIV > < br / > < hr / > Invite your mail contacts to join your friend = s list with Windows Live Spaces. It's easy! < a href = 3D'http : / / spaces. live. c = om / spacesapi. aspx? wx _ action = 3Dcreate & wx _ url = 3D / friends. aspx & mkt = 3Den - us'ta = rget = 3D'_ new'> Try it! < / a > < / body > < / html > = - - _ 9d639d6f - 3ffc - 4c88 - 9446 - fdf6a79b93c8 _ - - [SEP]\""
      ]
     },
     "execution_count": 18,
     "metadata": {},
     "output_type": "execute_result"
    }
   ],
   "source": [
    "tokenizer.decode(df_train[0]['input_ids'])"
   ]
  },
  {
   "cell_type": "markdown",
   "metadata": {},
   "source": [
    "# Loading and training model"
   ]
  },
  {
   "cell_type": "code",
   "execution_count": 19,
   "metadata": {
    "execution": {
     "iopub.execute_input": "2023-11-28T03:18:18.525433Z",
     "iopub.status.busy": "2023-11-28T03:18:18.525169Z",
     "iopub.status.idle": "2023-11-28T03:18:24.101060Z",
     "shell.execute_reply": "2023-11-28T03:18:24.100226Z",
     "shell.execute_reply.started": "2023-11-28T03:18:18.525410Z"
    }
   },
   "outputs": [
    {
     "data": {
      "application/vnd.jupyter.widget-view+json": {
       "model_id": "b8e7039e878b43d481e734a41b091a72",
       "version_major": 2,
       "version_minor": 0
      },
      "text/plain": [
       "model.safetensors:   0%|          | 0.00/263M [00:00<?, ?B/s]"
      ]
     },
     "metadata": {},
     "output_type": "display_data"
    },
    {
     "name": "stderr",
     "output_type": "stream",
     "text": [
      "Some weights of DistilBertForSequenceClassification were not initialized from the model checkpoint at distilbert-base-cased and are newly initialized: ['classifier.weight', 'pre_classifier.bias', 'classifier.bias', 'pre_classifier.weight']\n",
      "You should probably TRAIN this model on a down-stream task to be able to use it for predictions and inference.\n"
     ]
    },
    {
     "name": "stdout",
     "output_type": "stream",
     "text": [
      "65.783042\n"
     ]
    }
   ],
   "source": [
    "model = AutoModelForSequenceClassification.from_pretrained(\n",
    "    BERT_MODEL, num_labels=len(labels_list),\n",
    "    output_attentions=False, \n",
    "    output_hidden_states=False  \n",
    ")\n",
    "\n",
    "model.config.id2label = id2label \n",
    "model.config.label2id = label2id \n",
    "print(model.num_parameters(only_trainable=True) / 1e6)"
   ]
  },
  {
   "cell_type": "code",
   "execution_count": 20,
   "metadata": {
    "execution": {
     "iopub.execute_input": "2023-11-28T03:18:24.102485Z",
     "iopub.status.busy": "2023-11-28T03:18:24.102202Z",
     "iopub.status.idle": "2023-11-28T03:18:25.440466Z",
     "shell.execute_reply": "2023-11-28T03:18:25.439610Z",
     "shell.execute_reply.started": "2023-11-28T03:18:24.102460Z"
    }
   },
   "outputs": [
    {
     "data": {
      "application/vnd.jupyter.widget-view+json": {
       "model_id": "48d4bc4270d0456db035cbd56409c086",
       "version_major": 2,
       "version_minor": 0
      },
      "text/plain": [
       "Downloading builder script:   0%|          | 0.00/1.65k [00:00<?, ?B/s]"
      ]
     },
     "metadata": {},
     "output_type": "display_data"
    }
   ],
   "source": [
    "metric = load_metric(\"accuracy\")\n",
    "\n",
    "def compute_metrics(eval_pred):\n",
    "    logits, labels = eval_pred\n",
    "    \n",
    "    predictions = np.argmax(logits, axis=-1)\n",
    "    \n",
    "    accuracy = metric.compute(predictions=predictions, references=labels)\n",
    "    \n",
    "    return accuracy"
   ]
  },
  {
   "cell_type": "code",
   "execution_count": 21,
   "metadata": {
    "execution": {
     "iopub.execute_input": "2023-11-28T03:18:25.442209Z",
     "iopub.status.busy": "2023-11-28T03:18:25.441873Z",
     "iopub.status.idle": "2023-11-28T03:18:25.449353Z",
     "shell.execute_reply": "2023-11-28T03:18:25.448465Z",
     "shell.execute_reply.started": "2023-11-28T03:18:25.442178Z"
    }
   },
   "outputs": [],
   "source": [
    "class WeightedTrainer(Trainer):\n",
    "    def compute_loss(self, model, inputs, return_outputs=False):\n",
    "        labels = inputs.pop(\"labels\")\n",
    "        # forward pass\n",
    "        outputs = model(**inputs)\n",
    "        logits = outputs.get(\"logits\")\n",
    "        loss_fct = torch.nn.CrossEntropyLoss(weight=torch.tensor(ordered_weigths, device=model.device).float())\n",
    "        loss = loss_fct(logits.view(-1, self.model.config.num_labels), labels.view(-1))\n",
    "        return (loss, outputs) if return_outputs else loss"
   ]
  },
  {
   "cell_type": "code",
   "execution_count": 22,
   "metadata": {
    "execution": {
     "iopub.execute_input": "2023-11-28T03:18:25.450810Z",
     "iopub.status.busy": "2023-11-28T03:18:25.450499Z",
     "iopub.status.idle": "2023-11-28T03:18:30.708814Z",
     "shell.execute_reply": "2023-11-28T03:18:30.707866Z",
     "shell.execute_reply.started": "2023-11-28T03:18:25.450786Z"
    }
   },
   "outputs": [],
   "source": [
    "# Create TrainingArguments to configure the training process\n",
    "training_args = TrainingArguments(\n",
    "    output_dir=output_dir,  # Directory to save the model checkpoints and logs\n",
    "    logging_dir='./logs',  # Directory to store training logs\n",
    "    num_train_epochs=num_train_epochs,  # Number of training epochs\n",
    "    per_device_train_batch_size=train_batch_size,  # Batch size for training data\n",
    "    per_device_eval_batch_size=eval_batch_size,  # Batch size for evaluation data\n",
    "    logging_strategy='steps',  # Logging frequency during training (steps or epoch)\n",
    "    logging_first_step=True,  # Log the first training step\n",
    "    load_best_model_at_end=True,  # Load the best model at the end of training\n",
    "    logging_steps=1,  # Log every training step (useful for debugging)\n",
    "    learning_rate=learning_rate, # Set the learning rate for the optimizer.\n",
    "    evaluation_strategy='epoch',  # Evaluation frequency (epoch or steps)\n",
    "    warmup_steps=warmup_steps,  # Number of warmup steps for the learning rate\n",
    "    weight_decay=weight_decay,  # Weight decay for regularization\n",
    "    eval_steps=1,  # Evaluate every training step (useful for debugging)\n",
    "    save_strategy='epoch',  # Save model checkpoints every epoch\n",
    "    save_total_limit=1,  # Limit the number of saved checkpoints to save space\n",
    "    report_to=\"mlflow\",  # Log training metrics to MLflow\n",
    ")\n",
    "\n",
    "# Define the trainer:\n",
    "# Instantiate the trainer class and configure its settings\n",
    "trainer = WeightedTrainer(\n",
    "    model=model,  # The pretrained or custom model to be trained\n",
    "    args=training_args,  # TrainingArguments for configuring training\n",
    "    compute_metrics=compute_metrics,  # Function for computing evaluation metrics\n",
    "    train_dataset=df_train,  # Training dataset\n",
    "    eval_dataset=df_test,  # Evaluation dataset\n",
    "    data_collator=data_collator  # Data collator for batching and preprocessing\n",
    ")"
   ]
  },
  {
   "cell_type": "code",
   "execution_count": 23,
   "metadata": {
    "execution": {
     "iopub.execute_input": "2023-11-28T03:18:30.710741Z",
     "iopub.status.busy": "2023-11-28T03:18:30.710108Z",
     "iopub.status.idle": "2023-11-28T03:18:51.804042Z",
     "shell.execute_reply": "2023-11-28T03:18:51.803133Z",
     "shell.execute_reply.started": "2023-11-28T03:18:30.710706Z"
    }
   },
   "outputs": [
    {
     "name": "stderr",
     "output_type": "stream",
     "text": [
      "You're using a DistilBertTokenizerFast tokenizer. Please note that with a fast tokenizer, using the `__call__` method is faster than using a method to encode the text followed by a call to the `pad` method to get a padded encoding.\n"
     ]
    },
    {
     "data": {
      "text/html": [
       "\n",
       "    <div>\n",
       "      \n",
       "      <progress value='66' max='33' style='width:300px; height:20px; vertical-align: middle;'></progress>\n",
       "      [33/33 04:28]\n",
       "    </div>\n",
       "    "
      ],
      "text/plain": [
       "<IPython.core.display.HTML object>"
      ]
     },
     "metadata": {},
     "output_type": "display_data"
    },
    {
     "data": {
      "text/plain": [
       "{'eval_loss': 0.6961093544960022,\n",
       " 'eval_accuracy': 0.4175609756097561,\n",
       " 'eval_runtime': 20.9929,\n",
       " 'eval_samples_per_second': 97.652,\n",
       " 'eval_steps_per_second': 1.572}"
      ]
     },
     "execution_count": 23,
     "metadata": {},
     "output_type": "execute_result"
    }
   ],
   "source": [
    "# Get initial metrics\n",
    "trainer.evaluate()"
   ]
  },
  {
   "cell_type": "code",
   "execution_count": 24,
   "metadata": {
    "execution": {
     "iopub.execute_input": "2023-11-28T03:18:51.805832Z",
     "iopub.status.busy": "2023-11-28T03:18:51.805274Z",
     "iopub.status.idle": "2023-11-28T04:00:45.698975Z",
     "shell.execute_reply": "2023-11-28T04:00:45.698058Z",
     "shell.execute_reply.started": "2023-11-28T03:18:51.805797Z"
    }
   },
   "outputs": [
    {
     "data": {
      "text/html": [
       "\n",
       "    <div>\n",
       "      \n",
       "      <progress value='10250' max='10250' style='width:300px; height:20px; vertical-align: middle;'></progress>\n",
       "      [10250/10250 41:53, Epoch 10/10]\n",
       "    </div>\n",
       "    <table border=\"1\" class=\"dataframe\">\n",
       "  <thead>\n",
       " <tr style=\"text-align: left;\">\n",
       "      <th>Epoch</th>\n",
       "      <th>Training Loss</th>\n",
       "      <th>Validation Loss</th>\n",
       "      <th>Accuracy</th>\n",
       "    </tr>\n",
       "  </thead>\n",
       "  <tbody>\n",
       "    <tr>\n",
       "      <td>1</td>\n",
       "      <td>0.499300</td>\n",
       "      <td>0.321453</td>\n",
       "      <td>0.917561</td>\n",
       "    </tr>\n",
       "    <tr>\n",
       "      <td>2</td>\n",
       "      <td>0.437900</td>\n",
       "      <td>0.145855</td>\n",
       "      <td>0.953659</td>\n",
       "    </tr>\n",
       "    <tr>\n",
       "      <td>3</td>\n",
       "      <td>0.072500</td>\n",
       "      <td>0.092608</td>\n",
       "      <td>0.969268</td>\n",
       "    </tr>\n",
       "    <tr>\n",
       "      <td>4</td>\n",
       "      <td>0.018500</td>\n",
       "      <td>0.067137</td>\n",
       "      <td>0.978537</td>\n",
       "    </tr>\n",
       "    <tr>\n",
       "      <td>5</td>\n",
       "      <td>0.012400</td>\n",
       "      <td>0.054800</td>\n",
       "      <td>0.984390</td>\n",
       "    </tr>\n",
       "    <tr>\n",
       "      <td>6</td>\n",
       "      <td>0.004900</td>\n",
       "      <td>0.049733</td>\n",
       "      <td>0.986829</td>\n",
       "    </tr>\n",
       "    <tr>\n",
       "      <td>7</td>\n",
       "      <td>0.002900</td>\n",
       "      <td>0.046784</td>\n",
       "      <td>0.987317</td>\n",
       "    </tr>\n",
       "    <tr>\n",
       "      <td>8</td>\n",
       "      <td>0.003000</td>\n",
       "      <td>0.045073</td>\n",
       "      <td>0.989268</td>\n",
       "    </tr>\n",
       "    <tr>\n",
       "      <td>9</td>\n",
       "      <td>0.003600</td>\n",
       "      <td>0.045492</td>\n",
       "      <td>0.989268</td>\n",
       "    </tr>\n",
       "    <tr>\n",
       "      <td>10</td>\n",
       "      <td>0.004600</td>\n",
       "      <td>0.044407</td>\n",
       "      <td>0.988293</td>\n",
       "    </tr>\n",
       "  </tbody>\n",
       "</table><p>"
      ],
      "text/plain": [
       "<IPython.core.display.HTML object>"
      ]
     },
     "metadata": {},
     "output_type": "display_data"
    },
    {
     "data": {
      "text/plain": [
       "TrainOutput(global_step=10250, training_loss=0.12279533836865661, metrics={'train_runtime': 2513.5278, 'train_samples_per_second': 32.619, 'train_steps_per_second': 4.078, 'total_flos': 1.0601950375091172e+16, 'train_loss': 0.12279533836865661, 'epoch': 10.0})"
      ]
     },
     "execution_count": 24,
     "metadata": {},
     "output_type": "execute_result"
    }
   ],
   "source": [
    "trainer.train()"
   ]
  },
  {
   "cell_type": "code",
   "execution_count": 25,
   "metadata": {
    "execution": {
     "iopub.execute_input": "2023-11-28T04:00:45.700416Z",
     "iopub.status.busy": "2023-11-28T04:00:45.700146Z",
     "iopub.status.idle": "2023-11-28T04:01:05.400617Z",
     "shell.execute_reply": "2023-11-28T04:01:05.399529Z",
     "shell.execute_reply.started": "2023-11-28T04:00:45.700392Z"
    }
   },
   "outputs": [
    {
     "data": {
      "text/html": [],
      "text/plain": [
       "<IPython.core.display.HTML object>"
      ]
     },
     "metadata": {},
     "output_type": "display_data"
    },
    {
     "data": {
      "text/plain": [
       "{'eval_loss': 0.04440723732113838,\n",
       " 'eval_accuracy': 0.9882926829268293,\n",
       " 'eval_runtime': 19.6783,\n",
       " 'eval_samples_per_second': 104.176,\n",
       " 'eval_steps_per_second': 1.677,\n",
       " 'epoch': 10.0}"
      ]
     },
     "execution_count": 25,
     "metadata": {},
     "output_type": "execute_result"
    }
   ],
   "source": [
    "trainer.evaluate()"
   ]
  },
  {
   "cell_type": "code",
   "execution_count": 26,
   "metadata": {
    "execution": {
     "iopub.execute_input": "2023-11-28T04:01:05.402228Z",
     "iopub.status.busy": "2023-11-28T04:01:05.401925Z",
     "iopub.status.idle": "2023-11-28T04:01:25.073139Z",
     "shell.execute_reply": "2023-11-28T04:01:25.072256Z",
     "shell.execute_reply.started": "2023-11-28T04:01:05.402201Z"
    }
   },
   "outputs": [
    {
     "name": "stdout",
     "output_type": "stream",
     "text": [
      "{'test_loss': 0.04440723732113838, 'test_accuracy': 0.9882926829268293, 'test_runtime': 19.6616, 'test_samples_per_second': 104.264, 'test_steps_per_second': 1.678}\n"
     ]
    }
   ],
   "source": [
    "outputs = trainer.predict(df_test)\n",
    "\n",
    "print(outputs.metrics)"
   ]
  },
  {
   "cell_type": "code",
   "execution_count": 27,
   "metadata": {
    "execution": {
     "iopub.execute_input": "2023-11-28T04:01:25.074549Z",
     "iopub.status.busy": "2023-11-28T04:01:25.074298Z",
     "iopub.status.idle": "2023-11-28T04:01:25.464950Z",
     "shell.execute_reply": "2023-11-28T04:01:25.463768Z",
     "shell.execute_reply.started": "2023-11-28T04:01:25.074527Z"
    }
   },
   "outputs": [
    {
     "name": "stdout",
     "output_type": "stream",
     "text": [
      "Accuracy: 0.9883\n",
      "F1 Score: 0.9880\n"
     ]
    },
    {
     "data": {
      "image/png": "[encoded data removed]",
      "text/plain": [
       "<Figure size 800x600 with 2 Axes>"
      ]
     },
     "metadata": {},
     "output_type": "display_data"
    },
    {
     "name": "stdout",
     "output_type": "stream",
     "text": [
      "\n",
      "Classification report:\n",
      "\n",
      "              precision    recall  f1-score   support\n",
      "\n",
      "           0     0.9883    0.9916    0.9900      1193\n",
      "           1     0.9883    0.9837    0.9860       857\n",
      "\n",
      "    accuracy                         0.9883      2050\n",
      "   macro avg     0.9883    0.9876    0.9880      2050\n",
      "weighted avg     0.9883    0.9883    0.9883      2050\n",
      "\n"
     ]
    }
   ],
   "source": [
    "y_true = outputs.label_ids\n",
    "\n",
    "y_pred = outputs.predictions.argmax(1)\n",
    "\n",
    "def plot_confusion_matrix(cm, classes, title='Confusion Matrix', cmap=plt.cm.Blues, figsize=(10, 8), is_norm=True):\n",
    "    \"\"\"\n",
    "    This function plots a confusion matrix.\n",
    "\n",
    "    Parameters:\n",
    "        cm (array-like): Confusion matrix as returned by sklearn.metrics.confusion_matrix.\n",
    "        classes (list): List of class names, e.g., ['Class 0', 'Class 1'].\n",
    "        title (str): Title for the plot.\n",
    "        cmap (matplotlib colormap): Colormap for the plot.\n",
    "    \"\"\"\n",
    "    plt.figure(figsize=figsize)\n",
    "    \n",
    "    \n",
    "    plt.imshow(cm, interpolation='nearest', cmap=cmap)\n",
    "    plt.title(title)\n",
    "    plt.colorbar()\n",
    "\n",
    "    tick_marks = np.arange(len(classes))\n",
    "    plt.xticks(tick_marks, classes, rotation=90)\n",
    "    plt.yticks(tick_marks, classes)\n",
    "    \n",
    "    if is_norm:\n",
    "        fmt = '.3f'\n",
    "    else:\n",
    "        fmt = '.0f'\n",
    "    thresh = cm.max() / 2.0\n",
    "    for i, j in itertools.product(range(cm.shape[0]), range(cm.shape[1])):\n",
    "        plt.text(j, i, format(cm[i, j], fmt), horizontalalignment=\"center\", color=\"white\" if cm[i, j] > thresh else \"black\")\n",
    "\n",
    "    plt.ylabel('True label')\n",
    "    plt.xlabel('Predicted label')\n",
    "\n",
    "    plt.tight_layout()\n",
    "    plt.show()\n",
    "\n",
    "accuracy = accuracy_score(y_true, y_pred)\n",
    "f1 = f1_score(y_true, y_pred, average='macro')\n",
    "\n",
    "print(f\"Accuracy: {accuracy:.4f}\")\n",
    "print(f\"F1 Score: {f1:.4f}\")\n",
    "\n",
    "if len(labels_list) <= 120:\n",
    "    cm = confusion_matrix(y_true, y_pred, normalize='true')\n",
    "\n",
    "    plot_confusion_matrix(cm, labels_list, figsize=(8, 6))\n",
    "\n",
    "print()\n",
    "print(\"Classification report:\")\n",
    "print()\n",
    "print(classification_report(y_true, y_pred, target_names=labels_list, digits=4))"
   ]
  },
  {
   "cell_type": "markdown",
   "metadata": {},
   "source": [
    "# Saving the model and checking its performance with a sample input"
   ]
  },
  {
   "cell_type": "code",
   "execution_count": 28,
   "metadata": {
    "execution": {
     "iopub.execute_input": "2023-11-28T04:01:25.466552Z",
     "iopub.status.busy": "2023-11-28T04:01:25.466220Z",
     "iopub.status.idle": "2023-11-28T04:01:26.097603Z",
     "shell.execute_reply": "2023-11-28T04:01:26.096782Z",
     "shell.execute_reply.started": "2023-11-28T04:01:25.466522Z"
    }
   },
   "outputs": [],
   "source": [
    "trainer.save_model()"
   ]
  },
  {
   "cell_type": "code",
   "execution_count": 29,
   "metadata": {
    "execution": {
     "iopub.execute_input": "2023-11-28T04:01:26.098897Z",
     "iopub.status.busy": "2023-11-28T04:01:26.098628Z",
     "iopub.status.idle": "2023-11-28T04:01:26.114888Z",
     "shell.execute_reply": "2023-11-28T04:01:26.113897Z",
     "shell.execute_reply.started": "2023-11-28T04:01:26.098873Z"
    }
   },
   "outputs": [
    {
     "data": {
      "text/plain": [
       "('./sms-spam-detection-distilbert/vocab.txt',)"
      ]
     },
     "execution_count": 29,
     "metadata": {},
     "output_type": "execute_result"
    }
   ],
   "source": [
    "tokenizer.save_vocabulary(save_directory=f\"./{output_dir}\")"
   ]
  },
  {
   "cell_type": "code",
   "execution_count": 30,
   "metadata": {
    "execution": {
     "iopub.execute_input": "2023-11-28T04:01:26.116580Z",
     "iopub.status.busy": "2023-11-28T04:01:26.116195Z",
     "iopub.status.idle": "2023-11-28T04:01:27.209061Z",
     "shell.execute_reply": "2023-11-28T04:01:27.208038Z",
     "shell.execute_reply.started": "2023-11-28T04:01:26.116528Z"
    }
   },
   "outputs": [
    {
     "data": {
      "text/plain": [
       "[{'label': '0', 'score': 0.9979867935180664},\n",
       " {'label': '1', 'score': 0.002013192279264331}]"
      ]
     },
     "execution_count": 30,
     "metadata": {},
     "output_type": "execute_result"
    }
   ],
   "source": [
    "pipe = pipeline(\"text-classification\", output_dir, tokenizer=BERT_MODEL)\n",
    "sample_title = '''Elon Musk buys Twitter, and so can you'''\n",
    "pipe(sample_title, top_k=10)"
   ]
  },
  {
   "cell_type": "code",
   "execution_count": null,
   "metadata": {},
   "outputs": [],
   "source": []
  },
  {
   "cell_type": "code",
   "execution_count": 34,
   "metadata": {
    "execution": {
     "iopub.execute_input": "2023-11-28T04:13:11.998799Z",
     "iopub.status.busy": "2023-11-28T04:13:11.998373Z",
     "iopub.status.idle": "2023-11-28T04:13:12.465082Z",
     "shell.execute_reply": "2023-11-28T04:13:12.464122Z",
     "shell.execute_reply.started": "2023-11-28T04:13:11.998761Z"
    }
   },
   "outputs": [
    {
     "name": "stdout",
     "output_type": "stream",
     "text": [
      "There are 1019 duplicates found in the dataset\n",
      "(9275, 2)\n",
      "CPU times: user 225 ms, sys: 24 ms, total: 249 ms\n",
      "Wall time: 453 ms\n"
     ]
    },
    {
     "data": {
      "text/html": [
       "<div>\n",
       "<style scoped>\n",
       "    .dataframe tbody tr th:only-of-type {\n",
       "        vertical-align: middle;\n",
       "    }\n",
       "\n",
       "    .dataframe tbody tr th {\n",
       "        vertical-align: top;\n",
       "    }\n",
       "\n",
       "    .dataframe thead th {\n",
       "        text-align: right;\n",
       "    }\n",
       "</style>\n",
       "<table border=\"1\" class=\"dataframe\">\n",
       "  <thead>\n",
       "    <tr style=\"text-align: right;\">\n",
       "      <th></th>\n",
       "      <th>1384</th>\n",
       "      <th>5288</th>\n",
       "      <th>5840</th>\n",
       "      <th>7103</th>\n",
       "      <th>1073</th>\n",
       "    </tr>\n",
       "  </thead>\n",
       "  <tbody>\n",
       "    <tr>\n",
       "      <th>label</th>\n",
       "      <td>0</td>\n",
       "      <td>0</td>\n",
       "      <td>0</td>\n",
       "      <td>0</td>\n",
       "      <td>0</td>\n",
       "    </tr>\n",
       "    <tr>\n",
       "      <th>title</th>\n",
       "      <td>Finance Guest Account (GUEST)'s trip approval ...</td>\n",
       "      <td>ST. 1st Class Herring, Its not a problem, I ca...</td>\n",
       "      <td>\"Thanks\" Ben for this, hi all and happy new ye...</td>\n",
       "      <td>fatto Da: Lucia Rana [mailto:l.rana@hackingtea...</td>\n",
       "      <td>To be automatically unsubscribed from this lis...</td>\n",
       "    </tr>\n",
       "  </tbody>\n",
       "</table>\n",
       "</div>"
      ],
      "text/plain": [
       "                                                    1384  \\\n",
       "label                                                  0   \n",
       "title  Finance Guest Account (GUEST)'s trip approval ...   \n",
       "\n",
       "                                                    5288  \\\n",
       "label                                                  0   \n",
       "title  ST. 1st Class Herring, Its not a problem, I ca...   \n",
       "\n",
       "                                                    5840  \\\n",
       "label                                                  0   \n",
       "title  \"Thanks\" Ben for this, hi all and happy new ye...   \n",
       "\n",
       "                                                    7103  \\\n",
       "label                                                  0   \n",
       "title  fatto Da: Lucia Rana [mailto:l.rana@hackingtea...   \n",
       "\n",
       "                                                    1073  \n",
       "label                                                  0  \n",
       "title  To be automatically unsubscribed from this lis...  "
      ]
     },
     "execution_count": 34,
     "metadata": {},
     "output_type": "execute_result"
    }
   ],
   "source": [
    "%%time\n",
    "df = pd.read_csv(\"/kaggle/input/iswpa-dataset/IWSPA-AP-Parsed.csv\", encoding='latin-1')\n",
    "\n",
    "item0 = df.shape[0]  \n",
    "df = df.drop_duplicates()  \n",
    "item1 = df.shape[0]  \n",
    "print(f\"There are {item0-item1} duplicates found in the dataset\") \n",
    "\n",
    "df = df.rename(columns={'is_phishing': 'label', 'email_body': 'title'}) \n",
    "\n",
    "df = df[['label', 'title']]  \n",
    "df['label'] = df['label'].astype('str')\n",
    "\n",
    "\n",
    "df = df[~df['title'].isnull()] \n",
    "df = df[~df['label'].isnull()] \n",
    "\n",
    "print(df.shape) \n",
    "df.sample(5).T  "
   ]
  },
  {
   "cell_type": "code",
   "execution_count": 35,
   "metadata": {
    "execution": {
     "iopub.execute_input": "2023-11-28T04:13:12.467534Z",
     "iopub.status.busy": "2023-11-28T04:13:12.466924Z",
     "iopub.status.idle": "2023-11-28T04:13:12.478400Z",
     "shell.execute_reply": "2023-11-28T04:13:12.477437Z",
     "shell.execute_reply.started": "2023-11-28T04:13:12.467499Z"
    }
   },
   "outputs": [
    {
     "name": "stdout",
     "output_type": "stream",
     "text": [
      "<class 'pandas.core.frame.DataFrame'>\n",
      "Index: 9275 entries, 0 to 10295\n",
      "Data columns (total 2 columns):\n",
      " #   Column  Non-Null Count  Dtype \n",
      "---  ------  --------------  ----- \n",
      " 0   label   9275 non-null   object\n",
      " 1   title   9275 non-null   object\n",
      "dtypes: object(2)\n",
      "memory usage: 217.4+ KB\n"
     ]
    }
   ],
   "source": [
    "df.info()"
   ]
  },
  {
   "cell_type": "code",
   "execution_count": 36,
   "metadata": {
    "execution": {
     "iopub.execute_input": "2023-11-28T04:13:12.479708Z",
     "iopub.status.busy": "2023-11-28T04:13:12.479410Z",
     "iopub.status.idle": "2023-11-28T04:13:12.521305Z",
     "shell.execute_reply": "2023-11-28T04:13:12.520578Z",
     "shell.execute_reply.started": "2023-11-28T04:13:12.479672Z"
    }
   },
   "outputs": [],
   "source": [
    "dataset = Dataset.from_pandas(df)"
   ]
  },
  {
   "cell_type": "code",
   "execution_count": null,
   "metadata": {},
   "outputs": [],
   "source": []
  },
  {
   "cell_type": "code",
   "execution_count": null,
   "metadata": {},
   "outputs": [],
   "source": []
  },
  {
   "cell_type": "code",
   "execution_count": 37,
   "metadata": {
    "execution": {
     "iopub.execute_input": "2023-11-28T04:13:12.592825Z",
     "iopub.status.busy": "2023-11-28T04:13:12.592479Z",
     "iopub.status.idle": "2023-11-28T04:13:12.735117Z",
     "shell.execute_reply": "2023-11-28T04:13:12.734229Z",
     "shell.execute_reply.started": "2023-11-28T04:13:12.592791Z"
    }
   },
   "outputs": [
    {
     "data": {
      "application/vnd.jupyter.widget-view+json": {
       "model_id": "eb8361427f3e4ddd8ece110e4418ee2c",
       "version_major": 2,
       "version_minor": 0
      },
      "text/plain": [
       "Map:   0%|          | 0/9275 [00:00<?, ? examples/s]"
      ]
     },
     "metadata": {},
     "output_type": "display_data"
    },
    {
     "data": {
      "application/vnd.jupyter.widget-view+json": {
       "model_id": "6c7fe71886ae47ac94464b9c3a7cb44b",
       "version_major": 2,
       "version_minor": 0
      },
      "text/plain": [
       "Casting the dataset:   0%|          | 0/9275 [00:00<?, ? examples/s]"
      ]
     },
     "metadata": {},
     "output_type": "display_data"
    }
   ],
   "source": [
    "ClassLabels = ClassLabel(num_classes=len(labels_list), names=labels_list)\n",
    "\n",
    "def map_label2id(example):\n",
    "    example['label'] = ClassLabels.str2int(example['label'])\n",
    "    return example\n",
    "\n",
    "dataset = dataset.map(map_label2id, batched=True)\n",
    "\n",
    "dataset = dataset.cast_column('label', ClassLabels)\n",
    "\n",
    "dataset = dataset.train_test_split(test_size=1, shuffle=True) # , stratify_by_column=\"label\"\n",
    "\n",
    "df_train = dataset['train']\n",
    "\n",
    "df_test = dataset['test']"
   ]
  },
  {
   "cell_type": "code",
   "execution_count": 38,
   "metadata": {
    "execution": {
     "iopub.execute_input": "2023-11-28T04:13:13.047204Z",
     "iopub.status.busy": "2023-11-28T04:13:13.046205Z",
     "iopub.status.idle": "2023-11-28T04:13:13.336915Z",
     "shell.execute_reply": "2023-11-28T04:13:13.336083Z",
     "shell.execute_reply.started": "2023-11-28T04:13:13.047164Z"
    }
   },
   "outputs": [],
   "source": [
    "\n",
    "tokenizer = AutoTokenizer.from_pretrained(BERT_MODEL, use_fast=True, low_cpu_mem_usage=False)"
   ]
  },
  {
   "cell_type": "code",
   "execution_count": 39,
   "metadata": {
    "execution": {
     "iopub.execute_input": "2023-11-28T04:13:13.338819Z",
     "iopub.status.busy": "2023-11-28T04:13:13.338525Z",
     "iopub.status.idle": "2023-11-28T04:13:25.032881Z",
     "shell.execute_reply": "2023-11-28T04:13:25.032053Z",
     "shell.execute_reply.started": "2023-11-28T04:13:13.338795Z"
    }
   },
   "outputs": [
    {
     "data": {
      "application/vnd.jupyter.widget-view+json": {
       "model_id": "247758fec3874904b2ec72670dc7dab1",
       "version_major": 2,
       "version_minor": 0
      },
      "text/plain": [
       "Map:   0%|          | 0/9274 [00:00<?, ? examples/s]"
      ]
     },
     "metadata": {},
     "output_type": "display_data"
    },
    {
     "data": {
      "application/vnd.jupyter.widget-view+json": {
       "model_id": "c3f2978c11d44e199c0dd6ef84edf51a",
       "version_major": 2,
       "version_minor": 0
      },
      "text/plain": [
       "Map:   0%|          | 0/1 [00:00<?, ? examples/s]"
      ]
     },
     "metadata": {},
     "output_type": "display_data"
    }
   ],
   "source": [
    "\n",
    "def preprocess_function(examples):\n",
    "   \n",
    "    return tokenizer(examples[\"title\"], truncation=True)\n",
    "\n",
    "\n",
    "df_train = df_train.map(preprocess_function, batched=True)\n",
    "df_test = df_test.map(preprocess_function, batched=True)"
   ]
  },
  {
   "cell_type": "code",
   "execution_count": 40,
   "metadata": {
    "execution": {
     "iopub.execute_input": "2023-11-28T04:13:25.034338Z",
     "iopub.status.busy": "2023-11-28T04:13:25.034084Z",
     "iopub.status.idle": "2023-11-28T04:13:25.042843Z",
     "shell.execute_reply": "2023-11-28T04:13:25.041907Z",
     "shell.execute_reply.started": "2023-11-28T04:13:25.034316Z"
    }
   },
   "outputs": [],
   "source": [
    "df_train = df_train.remove_columns(['title'])\n",
    "\n",
    "df_test = df_test.remove_columns(['title'])"
   ]
  },
  {
   "cell_type": "code",
   "execution_count": 41,
   "metadata": {
    "execution": {
     "iopub.execute_input": "2023-11-28T04:13:25.045044Z",
     "iopub.status.busy": "2023-11-28T04:13:25.044683Z",
     "iopub.status.idle": "2023-11-28T04:13:25.051021Z",
     "shell.execute_reply": "2023-11-28T04:13:25.050032Z",
     "shell.execute_reply.started": "2023-11-28T04:13:25.045020Z"
    }
   },
   "outputs": [],
   "source": [
    "data_collator = DataCollatorWithPadding(tokenizer=tokenizer)"
   ]
  },
  {
   "cell_type": "code",
   "execution_count": 42,
   "metadata": {
    "execution": {
     "iopub.execute_input": "2023-11-28T04:13:25.052646Z",
     "iopub.status.busy": "2023-11-28T04:13:25.052356Z",
     "iopub.status.idle": "2023-11-28T04:13:25.066871Z",
     "shell.execute_reply": "2023-11-28T04:13:25.065974Z",
     "shell.execute_reply.started": "2023-11-28T04:13:25.052622Z"
    }
   },
   "outputs": [
    {
     "data": {
      "text/plain": [
       "'[CLS] Alessandro Scarafile updated a event in the 00. TENTATIVE calendar Jan 2013, 2015 Until Jan 2114, 2015 Support Morocco ( ALFAHAD ) Client needs help for firewall configuration and system check. Refer to ticket YMN - 265 - 89975. You are receiving this notification because you are watching the following : 00. TENTATIVE Sent by Atlassian Confluence 5. 6. 3, the Enterprise Wiki [SEP]'"
      ]
     },
     "execution_count": 42,
     "metadata": {},
     "output_type": "execute_result"
    }
   ],
   "source": [
    "tokenizer.decode(df_train[0]['input_ids'])"
   ]
  },
  {
   "cell_type": "code",
   "execution_count": 43,
   "metadata": {
    "execution": {
     "iopub.execute_input": "2023-11-28T04:13:25.068143Z",
     "iopub.status.busy": "2023-11-28T04:13:25.067907Z",
     "iopub.status.idle": "2023-11-28T04:14:53.135743Z",
     "shell.execute_reply": "2023-11-28T04:14:53.134852Z",
     "shell.execute_reply.started": "2023-11-28T04:13:25.068122Z"
    }
   },
   "outputs": [
    {
     "data": {
      "text/html": [],
      "text/plain": [
       "<IPython.core.display.HTML object>"
      ]
     },
     "metadata": {},
     "output_type": "display_data"
    },
    {
     "name": "stdout",
     "output_type": "stream",
     "text": [
      "{'test_loss': 1.0493415594100952, 'test_accuracy': 0.7524261375889584, 'test_runtime': 88.0566, 'test_samples_per_second': 105.319, 'test_steps_per_second': 1.647}\n"
     ]
    }
   ],
   "source": [
    "outputs = trainer.predict(df_train)\n",
    "\n",
    "print(outputs.metrics)"
   ]
  },
  {
   "cell_type": "code",
   "execution_count": 44,
   "metadata": {
    "execution": {
     "iopub.execute_input": "2023-11-28T04:14:53.137242Z",
     "iopub.status.busy": "2023-11-28T04:14:53.136963Z",
     "iopub.status.idle": "2023-11-28T04:14:53.489837Z",
     "shell.execute_reply": "2023-11-28T04:14:53.488865Z",
     "shell.execute_reply.started": "2023-11-28T04:14:53.137218Z"
    }
   },
   "outputs": [
    {
     "name": "stdout",
     "output_type": "stream",
     "text": [
      "Accuracy: 0.7524\n",
      "F1 Score: 0.6091\n"
     ]
    },
    {
     "data": {
      "image/png": "[encoded data removed]",
      "text/plain": [
       "<Figure size 800x600 with 2 Axes>"
      ]
     },
     "metadata": {},
     "output_type": "display_data"
    },
    {
     "name": "stdout",
     "output_type": "stream",
     "text": [
      "\n",
      "Classification report:\n",
      "\n",
      "              precision    recall  f1-score   support\n",
      "\n",
      "           0     0.9441    0.7661    0.8458      8220\n",
      "           1     0.2615    0.6461    0.3723      1054\n",
      "\n",
      "    accuracy                         0.7524      9274\n",
      "   macro avg     0.6028    0.7061    0.6091      9274\n",
      "weighted avg     0.8665    0.7524    0.7920      9274\n",
      "\n"
     ]
    }
   ],
   "source": [
    "y_true = outputs.label_ids\n",
    "\n",
    "y_pred = outputs.predictions.argmax(1)\n",
    "\n",
    "def plot_confusion_matrix(cm, classes, title='Confusion Matrix', cmap=plt.cm.Blues, figsize=(10, 8), is_norm=True):\n",
    "   \n",
    "    # Create a figure with a specified size\n",
    "    plt.figure(figsize=figsize)\n",
    "    \n",
    "    \n",
    "    # Display the confusion matrix as an image with a colormap\n",
    "    plt.imshow(cm, interpolation='nearest', cmap=cmap)\n",
    "    plt.title(title)\n",
    "    plt.colorbar()\n",
    "\n",
    "    # Define tick marks and labels for the classes on the axes\n",
    "    tick_marks = np.arange(len(classes))\n",
    "    plt.xticks(tick_marks, classes, rotation=90)\n",
    "    plt.yticks(tick_marks, classes)\n",
    "    \n",
    "    if is_norm:\n",
    "        fmt = '.3f'\n",
    "    else:\n",
    "        fmt = '.0f'\n",
    "    # Add text annotations to the plot indicating the values in the cells\n",
    "    thresh = cm.max() / 2.0\n",
    "    for i, j in itertools.product(range(cm.shape[0]), range(cm.shape[1])):\n",
    "        plt.text(j, i, format(cm[i, j], fmt), horizontalalignment=\"center\", color=\"white\" if cm[i, j] > thresh else \"black\")\n",
    "\n",
    "    # Label the axes\n",
    "    plt.ylabel('True label')\n",
    "    plt.xlabel('Predicted label')\n",
    "\n",
    "    # Ensure the plot layout is tight\n",
    "    plt.tight_layout()\n",
    "    # Display the plot\n",
    "    plt.show()\n",
    "\n",
    "# Calculate accuracy and F1 score\n",
    "accuracy = accuracy_score(y_true, y_pred)\n",
    "f1 = f1_score(y_true, y_pred, average='macro')\n",
    "\n",
    "# Display accuracy and F1 score\n",
    "print(f\"Accuracy: {accuracy:.4f}\")\n",
    "print(f\"F1 Score: {f1:.4f}\")\n",
    "\n",
    "# Get the confusion matrix if there are a relatively small number of labels\n",
    "if len(labels_list) <= 120:\n",
    "    # Compute the confusion matrix\n",
    "    cm = confusion_matrix(y_true, y_pred, normalize='true')\n",
    "\n",
    "    # Plot the confusion matrix using the defined function\n",
    "    plot_confusion_matrix(cm, labels_list, figsize=(8, 6))\n",
    "\n",
    "# Finally, display classification report\n",
    "print()\n",
    "print(\"Classification report:\")\n",
    "print()\n",
    "print(classification_report(y_true, y_pred, target_names=labels_list, digits=4))"
   ]
  },
  {
   "cell_type": "code",
   "execution_count": null,
   "metadata": {},
   "outputs": [],
   "source": []
  },
  {
   "cell_type": "code",
   "execution_count": null,
   "metadata": {},
   "outputs": [],
   "source": []
  },
  {
   "cell_type": "code",
   "execution_count": null,
   "metadata": {},
   "outputs": [],
   "source": []
  }
 ],
 "metadata": {
  "kaggle": {
   "accelerator": "gpu",
   "dataSources": [
    {
     "datasetId": 483,
     "sourceId": 982,
     "sourceType": "datasetVersion"
    },
    {
     "datasetId": 4015456,
     "sourceId": 6986875,
     "sourceType": "datasetVersion"
    },
    {
     "datasetId": 4015659,
     "sourceId": 6987166,
     "sourceType": "datasetVersion"
    }
   ],
   "dockerImageVersionId": 30588,
   "isGpuEnabled": true,
   "isInternetEnabled": true,
   "language": "python",
   "sourceType": "notebook"
  },
  "kernelspec": {
   "display_name": "Python 3",
   "language": "python",
   "name": "python3"
  },
  "language_info": {
   "codemirror_mode": {
    "name": "ipython",
    "version": 3
   },
   "file_extension": ".py",
   "mimetype": "text/x-python",
   "name": "python",
   "nbconvert_exporter": "python",
   "pygments_lexer": "ipython3",
   "version": "3.8.5"
  }
 },
 "nbformat": 4,
 "nbformat_minor": 4
}
