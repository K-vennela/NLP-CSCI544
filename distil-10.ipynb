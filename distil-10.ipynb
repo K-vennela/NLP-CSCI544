{
 "cells": [
  {
   "cell_type": "markdown",
   "metadata": {},
   "source": [
    "# Importing libraries, loading and transforming data"
   ]
  },
  {
   "cell_type": "code",
   "execution_count": 1,
   "metadata": {
    "execution": {
     "iopub.execute_input": "2023-11-26T18:41:00.885793Z",
     "iopub.status.busy": "2023-11-26T18:41:00.885518Z",
     "iopub.status.idle": "2023-11-26T18:41:19.581308Z",
     "shell.execute_reply": "2023-11-26T18:41:19.580272Z",
     "shell.execute_reply.started": "2023-11-26T18:41:00.885766Z"
    }
   },
   "outputs": [],
   "source": [
    "\n",
    "!pip install -U -q mlflow datasets>=2.14.5 nlp 2>/dev/null"
   ]
  },
  {
   "cell_type": "code",
   "execution_count": 2,
   "metadata": {
    "execution": {
     "iopub.execute_input": "2023-11-26T18:41:19.583555Z",
     "iopub.status.busy": "2023-11-26T18:41:19.583258Z",
     "iopub.status.idle": "2023-11-26T18:41:38.112093Z",
     "shell.execute_reply": "2023-11-26T18:41:38.111048Z",
     "shell.execute_reply.started": "2023-11-26T18:41:19.583526Z"
    }
   },
   "outputs": [],
   "source": [
    "import pandas as pd  \n",
    "import gc  \n",
    "import re \n",
    "import numpy as np  \n",
    "\n",
    "import warnings \n",
    "warnings.filterwarnings(\"ignore\") \n",
    "\n",
    "import torch \n",
    "from transformers import AutoModel, AutoTokenizer \n",
    "from transformers import TextDataset, LineByLineTextDataset, DataCollatorForLanguageModeling, \\\n",
    "pipeline, Trainer, TrainingArguments, DataCollatorWithPadding \n",
    "from transformers import AutoModelForSequenceClassification \n",
    "\n",
    "from nlp import Dataset \n",
    "from imblearn.over_sampling import RandomOverSampler  \n",
    "import datasets  \n",
    "from datasets import Dataset, Image, ClassLabel  \n",
    "from transformers import pipeline \n",
    "from bs4 import BeautifulSoup  \n",
    "\n",
    "import matplotlib.pyplot as plt  \n",
    "import itertools  \n",
    "from sklearn.metrics import ( \n",
    "    accuracy_score,  \n",
    "    roc_auc_score, \n",
    "    confusion_matrix,  \n",
    "    classification_report, \n",
    "    f1_score \n",
    ")\n",
    "\n",
    "from datasets import load_metric \n",
    "\n",
    "from tqdm import tqdm  \n",
    "tqdm.pandas() "
   ]
  },
  {
   "cell_type": "code",
   "execution_count": 3,
   "metadata": {
    "execution": {
     "iopub.execute_input": "2023-11-26T18:41:38.114728Z",
     "iopub.status.busy": "2023-11-26T18:41:38.113589Z",
     "iopub.status.idle": "2023-11-26T18:41:38.119436Z",
     "shell.execute_reply": "2023-11-26T18:41:38.118614Z",
     "shell.execute_reply.started": "2023-11-26T18:41:38.114698Z"
    }
   },
   "outputs": [],
   "source": [
    "\n",
    "train_fraction = 0.8\n",
    "\n",
    "num_train_epochs = 10\n",
    "\n",
    "learning_rate = 3e-7\n",
    "\n",
    "train_batch_size = 8\n",
    "\n",
    "eval_batch_size = 64\n",
    "\n",
    "warmup_steps = 50\n",
    "\n",
    "weight_decay = 0.02\n",
    "\n",
    "BERT_MODEL = \"distilbert-base-cased\"\n",
    "\n",
    "output_dir = \"sms-spam-detection-distilbert\""
   ]
  },
  {
   "cell_type": "code",
   "execution_count": 12,
   "metadata": {
    "execution": {
     "iopub.execute_input": "2023-11-26T18:49:36.673568Z",
     "iopub.status.busy": "2023-11-26T18:49:36.673209Z",
     "iopub.status.idle": "2023-11-26T18:49:36.886502Z",
     "shell.execute_reply": "2023-11-26T18:49:36.885433Z",
     "shell.execute_reply.started": "2023-11-26T18:49:36.673537Z"
    }
   },
   "outputs": [],
   "source": [
    "iswpadf=pd.read_csv(\"/kaggle/input/iswpa-dataset/IWSPA-AP-Parsed.csv\", encoding='latin-1')\n",
    "iswpadf = iswpadf.rename(columns={'is_phishing': 'label', 'email_body': 'title'}) # Rename the columns to standard ones\n",
    "iswpadf\n",
    "\n",
    "df_1 = iswpadf[iswpadf['label'] == 1]\n",
    "df_0 = iswpadf[iswpadf['label'] == 0]\n",
    "\n",
    "# Determine 10% sample size for each\n",
    "sample_size_1 = int(len(df_1) * 0.10)\n",
    "sample_size_0 = int(len(df_0) * 0.10)\n",
    "\n",
    "sampled_1 = df_1.sample(sample_size_1)\n",
    "sampled_0 = df_0.sample(sample_size_0)\n",
    "\n",
    "new_df = pd.concat([sampled_1, sampled_0])\n",
    "new_df=new_df[['label', 'title']]\n"
   ]
  },
  {
   "cell_type": "code",
   "execution_count": 13,
   "metadata": {
    "execution": {
     "iopub.execute_input": "2023-11-26T18:49:37.847706Z",
     "iopub.status.busy": "2023-11-26T18:49:37.847013Z",
     "iopub.status.idle": "2023-11-26T18:49:38.037840Z",
     "shell.execute_reply": "2023-11-26T18:49:38.036919Z",
     "shell.execute_reply.started": "2023-11-26T18:49:37.847673Z"
    }
   },
   "outputs": [
    {
     "name": "stdout",
     "output_type": "stream",
     "text": [
      "                                                   title  label\n",
      "0      Supply Quality China's EXCLUSIVE dimensions at...      1\n",
      "1                             over. SidLet me know. Thx.      0\n",
      "2      Dear Friend,Greetings to you.I wish to accost ...      1\n",
      "3      MR. CHEUNG PUIHANG SENG BANK LTD.DES VOEUX RD....      1\n",
      "4              Not a surprising assessment from Embassy.      0\n",
      "...                                                  ...    ...\n",
      "1523   Great. One domain.com below. Hit RR2 when you'...      0\n",
      "2720   This is the letter to the editor that I placed...      0\n",
      "3217   This email is intended to provide a brief summ...      0\n",
      "10248  Rabbi Feintuch, I recently read an article in ...      0\n",
      "10293  Let me know if you have any edits Alex Shapiro...      0\n",
      "\n",
      "[12958 rows x 2 columns]\n",
      "There are 1712 duplicates found in the dataset\n",
      "(11245, 2)\n",
      "CPU times: user 166 ms, sys: 11.9 ms, total: 178 ms\n",
      "Wall time: 177 ms\n"
     ]
    },
    {
     "data": {
      "text/html": [
       "<div>\n",
       "<style scoped>\n",
       "    .dataframe tbody tr th:only-of-type {\n",
       "        vertical-align: middle;\n",
       "    }\n",
       "\n",
       "    .dataframe tbody tr th {\n",
       "        vertical-align: top;\n",
       "    }\n",
       "\n",
       "    .dataframe thead th {\n",
       "        text-align: right;\n",
       "    }\n",
       "</style>\n",
       "<table border=\"1\" class=\"dataframe\">\n",
       "  <thead>\n",
       "    <tr style=\"text-align: right;\">\n",
       "      <th></th>\n",
       "      <th>6547</th>\n",
       "      <th>1382</th>\n",
       "      <th>1308</th>\n",
       "      <th>10532</th>\n",
       "      <th>3864</th>\n",
       "    </tr>\n",
       "  </thead>\n",
       "  <tbody>\n",
       "    <tr>\n",
       "      <th>label</th>\n",
       "      <td>0</td>\n",
       "      <td>1</td>\n",
       "      <td>0</td>\n",
       "      <td>0</td>\n",
       "      <td>0</td>\n",
       "    </tr>\n",
       "    <tr>\n",
       "      <th>title</th>\n",
       "      <td>Hi Keith, Busy, busy, busy as usual. Here are ...</td>\n",
       "      <td>Beloved,I am sorry for my unannounced communic...</td>\n",
       "      <td>Need links for a couple of these. Thanks! SL: ...</td>\n",
       "      <td>Below is Palau's statement on the recent meeti...</td>\n",
       "      <td>Cc: Abedin HumaHappy to chat at your convenience</td>\n",
       "    </tr>\n",
       "  </tbody>\n",
       "</table>\n",
       "</div>"
      ],
      "text/plain": [
       "                                                   6547   \\\n",
       "label                                                  0   \n",
       "title  Hi Keith, Busy, busy, busy as usual. Here are ...   \n",
       "\n",
       "                                                   1382   \\\n",
       "label                                                  1   \n",
       "title  Beloved,I am sorry for my unannounced communic...   \n",
       "\n",
       "                                                   1308   \\\n",
       "label                                                  0   \n",
       "title  Need links for a couple of these. Thanks! SL: ...   \n",
       "\n",
       "                                                   10532  \\\n",
       "label                                                  0   \n",
       "title  Below is Palau's statement on the recent meeti...   \n",
       "\n",
       "                                                  3864   \n",
       "label                                                 0  \n",
       "title  Cc: Abedin HumaHappy to chat at your convenience  "
      ]
     },
     "execution_count": 13,
     "metadata": {},
     "output_type": "execute_result"
    }
   ],
   "source": [
    "%%time\n",
    "df = pd.read_csv(\"/kaggle/input/radev-data/fraud_email_.csv\", encoding='latin-1')\n",
    "df = df.rename(columns={'Class': 'label', 'Text': 'title'}) \n",
    "\n",
    "df=pd.concat([df,new_df])\n",
    "print(df)\n",
    "item0 = df.shape[0] \n",
    "df = df.drop_duplicates() \n",
    "item1 = df.shape[0]  \n",
    "print(f\"There are {item0-item1} duplicates found in the dataset\") \n",
    "\n",
    "df = df.rename(columns={'Class': 'label', 'Text': 'title'})\n",
    "\n",
    "df = df[['label', 'title']]  \n",
    "df['label'] = df['label'].astype('str')\n",
    "\n",
    "\n",
    "df = df[~df['title'].isnull()] \n",
    "df = df[~df['label'].isnull()]  \n",
    "\n",
    "print(df.shape)  \n",
    "df.sample(5).T  \n",
    "\n"
   ]
  },
  {
   "cell_type": "code",
   "execution_count": 14,
   "metadata": {
    "execution": {
     "iopub.execute_input": "2023-11-26T18:49:42.351939Z",
     "iopub.status.busy": "2023-11-26T18:49:42.351010Z",
     "iopub.status.idle": "2023-11-26T18:49:42.369258Z",
     "shell.execute_reply": "2023-11-26T18:49:42.368235Z",
     "shell.execute_reply.started": "2023-11-26T18:49:42.351907Z"
    }
   },
   "outputs": [
    {
     "name": "stdout",
     "output_type": "stream",
     "text": [
      "<class 'pandas.core.frame.DataFrame'>\n",
      "Index: 11245 entries, 0 to 10293\n",
      "Data columns (total 2 columns):\n",
      " #   Column  Non-Null Count  Dtype \n",
      "---  ------  --------------  ----- \n",
      " 0   label   11245 non-null  object\n",
      " 1   title   11245 non-null  object\n",
      "dtypes: object(2)\n",
      "memory usage: 263.6+ KB\n"
     ]
    }
   ],
   "source": [
    "df.info()"
   ]
  },
  {
   "cell_type": "code",
   "execution_count": 15,
   "metadata": {
    "execution": {
     "iopub.execute_input": "2023-11-26T18:49:44.356387Z",
     "iopub.status.busy": "2023-11-26T18:49:44.355795Z",
     "iopub.status.idle": "2023-11-26T18:49:44.381656Z",
     "shell.execute_reply": "2023-11-26T18:49:44.380776Z",
     "shell.execute_reply.started": "2023-11-26T18:49:44.356354Z"
    }
   },
   "outputs": [
    {
     "name": "stdout",
     "output_type": "stream",
     "text": [
      "['0' '1']\n",
      "{'0': 0.8268382352941176, '1': 1.264904386951631}\n"
     ]
    }
   ],
   "source": [
    "from sklearn.utils.class_weight import compute_class_weight\n",
    "\n",
    "classes = np.unique(df[['label']])\n",
    "\n",
    "print(classes)\n",
    "\n",
    "weights = compute_class_weight(class_weight='balanced', classes=classes, y=df['label'])\n",
    "\n",
    "class_weights = dict(zip(classes, weights))\n",
    "\n",
    "print(class_weights)"
   ]
  },
  {
   "cell_type": "code",
   "execution_count": 16,
   "metadata": {
    "execution": {
     "iopub.execute_input": "2023-11-26T18:49:44.882061Z",
     "iopub.status.busy": "2023-11-26T18:49:44.881450Z",
     "iopub.status.idle": "2023-11-26T18:49:44.889282Z",
     "shell.execute_reply": "2023-11-26T18:49:44.888246Z",
     "shell.execute_reply.started": "2023-11-26T18:49:44.882032Z"
    }
   },
   "outputs": [
    {
     "name": "stdout",
     "output_type": "stream",
     "text": [
      "Mapping of IDs to Labels: {0: '0', 1: '1'} \n",
      "\n",
      "Mapping of Labels to IDs: {'0': 0, '1': 1}\n"
     ]
    }
   ],
   "source": [
    "labels_list = sorted(list(df['label'].unique()))\n",
    "\n",
    "label2id, id2label = dict(), dict()\n",
    "\n",
    "for i, label in enumerate(labels_list):\n",
    "    label2id[label] = i  # Map the label to its corresponding ID\n",
    "    id2label[i] = label  # Map the ID to its corresponding label\n",
    "\n",
    "print(\"Mapping of IDs to Labels:\", id2label, '\\n')\n",
    "print(\"Mapping of Labels to IDs:\", label2id)"
   ]
  },
  {
   "cell_type": "code",
   "execution_count": 17,
   "metadata": {
    "execution": {
     "iopub.execute_input": "2023-11-26T18:49:45.403499Z",
     "iopub.status.busy": "2023-11-26T18:49:45.403156Z",
     "iopub.status.idle": "2023-11-26T18:49:45.409242Z",
     "shell.execute_reply": "2023-11-26T18:49:45.408395Z",
     "shell.execute_reply.started": "2023-11-26T18:49:45.403473Z"
    }
   },
   "outputs": [
    {
     "data": {
      "text/plain": [
       "[0.8268382352941176, 1.264904386951631]"
      ]
     },
     "execution_count": 17,
     "metadata": {},
     "output_type": "execute_result"
    }
   ],
   "source": [
    "ordered_weigths = [class_weights[x] for x in id2label.values()]\n",
    "ordered_weigths"
   ]
  },
  {
   "cell_type": "code",
   "execution_count": 18,
   "metadata": {
    "execution": {
     "iopub.execute_input": "2023-11-26T18:49:46.947556Z",
     "iopub.status.busy": "2023-11-26T18:49:46.947169Z",
     "iopub.status.idle": "2023-11-26T18:49:47.006913Z",
     "shell.execute_reply": "2023-11-26T18:49:47.006161Z",
     "shell.execute_reply.started": "2023-11-26T18:49:46.947529Z"
    }
   },
   "outputs": [],
   "source": [
    "dataset = Dataset.from_pandas(df)"
   ]
  },
  {
   "cell_type": "code",
   "execution_count": 19,
   "metadata": {
    "execution": {
     "iopub.execute_input": "2023-11-26T18:49:47.507307Z",
     "iopub.status.busy": "2023-11-26T18:49:47.506898Z",
     "iopub.status.idle": "2023-11-26T18:49:47.640528Z",
     "shell.execute_reply": "2023-11-26T18:49:47.639678Z",
     "shell.execute_reply.started": "2023-11-26T18:49:47.507281Z"
    }
   },
   "outputs": [
    {
     "data": {
      "application/vnd.jupyter.widget-view+json": {
       "model_id": "c27aeaa8fc1f4ed2845a3c3716bd3adc",
       "version_major": 2,
       "version_minor": 0
      },
      "text/plain": [
       "Map:   0%|          | 0/11245 [00:00<?, ? examples/s]"
      ]
     },
     "metadata": {},
     "output_type": "display_data"
    },
    {
     "data": {
      "application/vnd.jupyter.widget-view+json": {
       "model_id": "cf47790f676541ba875472ece1f72d03",
       "version_major": 2,
       "version_minor": 0
      },
      "text/plain": [
       "Casting the dataset:   0%|          | 0/11245 [00:00<?, ? examples/s]"
      ]
     },
     "metadata": {},
     "output_type": "display_data"
    }
   ],
   "source": [
    "ClassLabels = ClassLabel(num_classes=len(labels_list), names=labels_list)\n",
    "\n",
    "def map_label2id(example):\n",
    "    example['label'] = ClassLabels.str2int(example['label'])\n",
    "    return example\n",
    "\n",
    "dataset = dataset.map(map_label2id, batched=True)\n",
    "\n",
    "dataset = dataset.cast_column('label', ClassLabels)\n",
    "\n",
    "dataset = dataset.train_test_split(test_size=1-train_fraction, shuffle=True) # , stratify_by_column=\"label\"\n",
    "\n",
    "df_train = dataset['train']\n",
    "\n",
    "df_test = dataset['test']"
   ]
  },
  {
   "cell_type": "code",
   "execution_count": 20,
   "metadata": {
    "execution": {
     "iopub.execute_input": "2023-11-26T18:49:47.790896Z",
     "iopub.status.busy": "2023-11-26T18:49:47.790589Z",
     "iopub.status.idle": "2023-11-26T18:49:48.144620Z",
     "shell.execute_reply": "2023-11-26T18:49:48.143579Z",
     "shell.execute_reply.started": "2023-11-26T18:49:47.790871Z"
    }
   },
   "outputs": [
    {
     "data": {
      "text/plain": [
       "11806"
      ]
     },
     "execution_count": 20,
     "metadata": {},
     "output_type": "execute_result"
    }
   ],
   "source": [
    "del df\n",
    "\n",
    "gc.collect()"
   ]
  },
  {
   "cell_type": "code",
   "execution_count": 21,
   "metadata": {
    "execution": {
     "iopub.execute_input": "2023-11-26T18:49:48.146499Z",
     "iopub.status.busy": "2023-11-26T18:49:48.146172Z",
     "iopub.status.idle": "2023-11-26T18:49:49.671913Z",
     "shell.execute_reply": "2023-11-26T18:49:49.671164Z",
     "shell.execute_reply.started": "2023-11-26T18:49:48.146473Z"
    }
   },
   "outputs": [
    {
     "data": {
      "application/vnd.jupyter.widget-view+json": {
       "model_id": "c0a3f7736d8d450d967d02b349518ba6",
       "version_major": 2,
       "version_minor": 0
      },
      "text/plain": [
       "tokenizer_config.json:   0%|          | 0.00/29.0 [00:00<?, ?B/s]"
      ]
     },
     "metadata": {},
     "output_type": "display_data"
    },
    {
     "data": {
      "application/vnd.jupyter.widget-view+json": {
       "model_id": "74d9f6ba2f2f49fca8fbbb65add91d5c",
       "version_major": 2,
       "version_minor": 0
      },
      "text/plain": [
       "config.json:   0%|          | 0.00/465 [00:00<?, ?B/s]"
      ]
     },
     "metadata": {},
     "output_type": "display_data"
    },
    {
     "data": {
      "application/vnd.jupyter.widget-view+json": {
       "model_id": "510ab76789894fbc8b128741ea1318e7",
       "version_major": 2,
       "version_minor": 0
      },
      "text/plain": [
       "vocab.txt:   0%|          | 0.00/213k [00:00<?, ?B/s]"
      ]
     },
     "metadata": {},
     "output_type": "display_data"
    },
    {
     "data": {
      "application/vnd.jupyter.widget-view+json": {
       "model_id": "fa7cf0ebc62941dfab1e974797fd27ce",
       "version_major": 2,
       "version_minor": 0
      },
      "text/plain": [
       "tokenizer.json:   0%|          | 0.00/436k [00:00<?, ?B/s]"
      ]
     },
     "metadata": {},
     "output_type": "display_data"
    }
   ],
   "source": [
    "\n",
    "tokenizer = AutoTokenizer.from_pretrained(BERT_MODEL, use_fast=True, low_cpu_mem_usage=False)"
   ]
  },
  {
   "cell_type": "code",
   "execution_count": 22,
   "metadata": {
    "execution": {
     "iopub.execute_input": "2023-11-26T18:49:49.673798Z",
     "iopub.status.busy": "2023-11-26T18:49:49.673516Z",
     "iopub.status.idle": "2023-11-26T18:49:56.189105Z",
     "shell.execute_reply": "2023-11-26T18:49:56.188267Z",
     "shell.execute_reply.started": "2023-11-26T18:49:49.673774Z"
    }
   },
   "outputs": [
    {
     "data": {
      "application/vnd.jupyter.widget-view+json": {
       "model_id": "17b178ca22a841a38d1cf6be12dfde3c",
       "version_major": 2,
       "version_minor": 0
      },
      "text/plain": [
       "Map:   0%|          | 0/8996 [00:00<?, ? examples/s]"
      ]
     },
     "metadata": {},
     "output_type": "display_data"
    },
    {
     "data": {
      "application/vnd.jupyter.widget-view+json": {
       "model_id": "4bdcdc8b2ab74898b650b7cf98088621",
       "version_major": 2,
       "version_minor": 0
      },
      "text/plain": [
       "Map:   0%|          | 0/2249 [00:00<?, ? examples/s]"
      ]
     },
     "metadata": {},
     "output_type": "display_data"
    }
   ],
   "source": [
    "\n",
    "def preprocess_function(examples):\n",
    "    # The main task of this function is to tokenize the text data in the 'title' column of the examples.\n",
    "    # Tokenization is the process of breaking down text into smaller units, such as words or subwords.\n",
    "    # In this case, the tokenizer is applied to each 'title' in the examples.\n",
    "\n",
    "    # The 'truncation=True' parameter indicates that if a title is too long to fit within the model's maximum input length,\n",
    "    # it should be truncated to fit. Truncation can help ensure that the input data is within the model's capacity.\n",
    "\n",
    "    return tokenizer(examples[\"title\"], truncation=True)\n",
    "\n",
    "\n",
    "df_train = df_train.map(preprocess_function, batched=True)\n",
    "df_test = df_test.map(preprocess_function, batched=True)"
   ]
  },
  {
   "cell_type": "code",
   "execution_count": 23,
   "metadata": {
    "execution": {
     "iopub.execute_input": "2023-11-26T18:49:56.190675Z",
     "iopub.status.busy": "2023-11-26T18:49:56.190323Z",
     "iopub.status.idle": "2023-11-26T18:49:56.200110Z",
     "shell.execute_reply": "2023-11-26T18:49:56.199240Z",
     "shell.execute_reply.started": "2023-11-26T18:49:56.190642Z"
    }
   },
   "outputs": [],
   "source": [
    "df_train = df_train.remove_columns(['title'])\n",
    "\n",
    "df_test = df_test.remove_columns(['title'])"
   ]
  },
  {
   "cell_type": "code",
   "execution_count": 24,
   "metadata": {
    "execution": {
     "iopub.execute_input": "2023-11-26T18:49:56.202241Z",
     "iopub.status.busy": "2023-11-26T18:49:56.201984Z",
     "iopub.status.idle": "2023-11-26T18:49:56.213840Z",
     "shell.execute_reply": "2023-11-26T18:49:56.212974Z",
     "shell.execute_reply.started": "2023-11-26T18:49:56.202219Z"
    }
   },
   "outputs": [
    {
     "data": {
      "text/plain": [
       "Dataset({\n",
       "    features: ['label', '__index_level_0__', 'input_ids', 'attention_mask'],\n",
       "    num_rows: 8996\n",
       "})"
      ]
     },
     "execution_count": 24,
     "metadata": {},
     "output_type": "execute_result"
    }
   ],
   "source": [
    "df_train"
   ]
  },
  {
   "cell_type": "code",
   "execution_count": 25,
   "metadata": {
    "execution": {
     "iopub.execute_input": "2023-11-26T18:49:56.215253Z",
     "iopub.status.busy": "2023-11-26T18:49:56.214909Z",
     "iopub.status.idle": "2023-11-26T18:49:56.223739Z",
     "shell.execute_reply": "2023-11-26T18:49:56.222989Z",
     "shell.execute_reply.started": "2023-11-26T18:49:56.215223Z"
    }
   },
   "outputs": [
    {
     "data": {
      "text/plain": [
       "Dataset({\n",
       "    features: ['label', '__index_level_0__', 'input_ids', 'attention_mask'],\n",
       "    num_rows: 2249\n",
       "})"
      ]
     },
     "execution_count": 25,
     "metadata": {},
     "output_type": "execute_result"
    }
   ],
   "source": [
    "df_test"
   ]
  },
  {
   "cell_type": "code",
   "execution_count": 26,
   "metadata": {
    "execution": {
     "iopub.execute_input": "2023-11-26T18:49:56.225249Z",
     "iopub.status.busy": "2023-11-26T18:49:56.224876Z",
     "iopub.status.idle": "2023-11-26T18:49:56.234976Z",
     "shell.execute_reply": "2023-11-26T18:49:56.234144Z",
     "shell.execute_reply.started": "2023-11-26T18:49:56.225212Z"
    }
   },
   "outputs": [],
   "source": [
    "\n",
    "data_collator = DataCollatorWithPadding(tokenizer=tokenizer)"
   ]
  },
  {
   "cell_type": "code",
   "execution_count": 27,
   "metadata": {
    "execution": {
     "iopub.execute_input": "2023-11-26T18:49:56.236464Z",
     "iopub.status.busy": "2023-11-26T18:49:56.236113Z",
     "iopub.status.idle": "2023-11-26T18:49:56.253006Z",
     "shell.execute_reply": "2023-11-26T18:49:56.252159Z",
     "shell.execute_reply.started": "2023-11-26T18:49:56.236435Z"
    }
   },
   "outputs": [
    {
     "data": {
      "text/plain": [
       "'[CLS] FROM MR JOHNSON MUGABE = 2E E - MAIL = 3B mm = 5Fm = 5F17johnson = 40yahoo = 2Ecom = 2EauDEAR SIR = 2C Compliments of the day = 2CI understand quite well that this message will sound so strange to you but it is a very serious matter that we need to tackle together very urgent = 2E Before i proceed further = 2CLet me formally introduce myself to you = 2EI am MR = 2E JOHNSON MUGABE = 2C 30 years of age = 2C the first adopted son of president Robert Mugabe = 2C the current Zimbabwean President = 2E I am contacting you today for an urgent assistance to transfer into your account the sum of US $ 19 = 2E8 = 28 NINTEEN POINT EIGHT MILION STATES DOLLARS = 29 = 2E I hope that you may be aware of the recent differences that is going on rigth now between my father and the opposition party in my country = 2C this also brought about the commonwealth community sanctioning my father and freezing all his foreign account both in America and britain = 2EThis decision was carried out during the 4 days Commonwealth meeting that was held in Malawi in a part of South East Africa recently = 2E It will interest you to hear that i never supported my fathers treatment to the white zimbabwean citizens = 2C and this has seriously brought about some personal misunderstanding between me and my father = 2EI have been opposing him since the past five = 287 = 29 years = 2E Fight so hard to see that he leaves the presidential seat after governing for past 32 years On this account i disassociated myself from him and we do not have any thing in common right now = 2EHe even forced me to leave the country with immediate effect after receiving the sanction from the common wealth community = 2C Although he thought that i am behind his delimma = 2E In the year 2004 when i was in good term with my father = 2C he gave me a treasure box containing the sum of US $ 19 = 2E8 milion to deposite in a private security company in Thailand for safe keeping = 2C So i did exactly as he instructed me without disclosing the actual content of the box to [SEP]'"
      ]
     },
     "execution_count": 27,
     "metadata": {},
     "output_type": "execute_result"
    }
   ],
   "source": [
    "tokenizer.decode(df_train[0]['input_ids'])"
   ]
  },
  {
   "cell_type": "markdown",
   "metadata": {},
   "source": [
    "# Loading and training model"
   ]
  },
  {
   "cell_type": "code",
   "execution_count": 28,
   "metadata": {
    "execution": {
     "iopub.execute_input": "2023-11-26T18:50:06.484585Z",
     "iopub.status.busy": "2023-11-26T18:50:06.483737Z",
     "iopub.status.idle": "2023-11-26T18:50:08.402559Z",
     "shell.execute_reply": "2023-11-26T18:50:08.401665Z",
     "shell.execute_reply.started": "2023-11-26T18:50:06.484551Z"
    }
   },
   "outputs": [
    {
     "data": {
      "application/vnd.jupyter.widget-view+json": {
       "model_id": "acbb796b9891491da657d4dd5edd485b",
       "version_major": 2,
       "version_minor": 0
      },
      "text/plain": [
       "model.safetensors:   0%|          | 0.00/263M [00:00<?, ?B/s]"
      ]
     },
     "metadata": {},
     "output_type": "display_data"
    },
    {
     "name": "stderr",
     "output_type": "stream",
     "text": [
      "Some weights of DistilBertForSequenceClassification were not initialized from the model checkpoint at distilbert-base-cased and are newly initialized: ['classifier.bias', 'pre_classifier.bias', 'classifier.weight', 'pre_classifier.weight']\n",
      "You should probably TRAIN this model on a down-stream task to be able to use it for predictions and inference.\n"
     ]
    },
    {
     "name": "stdout",
     "output_type": "stream",
     "text": [
      "65.783042\n"
     ]
    }
   ],
   "source": [
    "model = AutoModelForSequenceClassification.from_pretrained(\n",
    "    BERT_MODEL, num_labels=len(labels_list),\n",
    "    output_attentions=False, \n",
    "    output_hidden_states=False \n",
    ")\n",
    "\n",
    "model.config.id2label = id2label  \n",
    "model.config.label2id = label2id  \n",
    "\n",
    "print(model.num_parameters(only_trainable=True) / 1e6)"
   ]
  },
  {
   "cell_type": "code",
   "execution_count": 29,
   "metadata": {
    "execution": {
     "iopub.execute_input": "2023-11-26T18:50:14.244935Z",
     "iopub.status.busy": "2023-11-26T18:50:14.244252Z",
     "iopub.status.idle": "2023-11-26T18:50:14.910559Z",
     "shell.execute_reply": "2023-11-26T18:50:14.909666Z",
     "shell.execute_reply.started": "2023-11-26T18:50:14.244901Z"
    }
   },
   "outputs": [
    {
     "data": {
      "application/vnd.jupyter.widget-view+json": {
       "model_id": "4a0e37bf0013461b832378e2bacbd823",
       "version_major": 2,
       "version_minor": 0
      },
      "text/plain": [
       "Downloading builder script:   0%|          | 0.00/1.65k [00:00<?, ?B/s]"
      ]
     },
     "metadata": {},
     "output_type": "display_data"
    }
   ],
   "source": [
    "metric = load_metric(\"accuracy\")\n",
    "\n",
    "\n",
    "def compute_metrics(eval_pred):\n",
    "   \n",
    "    logits, labels = eval_pred\n",
    "    \n",
    "    \n",
    "    predictions = np.argmax(logits, axis=-1)\n",
    "    \n",
    "    \n",
    "    accuracy = metric.compute(predictions=predictions, references=labels)\n",
    "    \n",
    "    return accuracy"
   ]
  },
  {
   "cell_type": "code",
   "execution_count": 30,
   "metadata": {
    "execution": {
     "iopub.execute_input": "2023-11-26T18:50:16.660471Z",
     "iopub.status.busy": "2023-11-26T18:50:16.659614Z",
     "iopub.status.idle": "2023-11-26T18:50:16.666627Z",
     "shell.execute_reply": "2023-11-26T18:50:16.665753Z",
     "shell.execute_reply.started": "2023-11-26T18:50:16.660436Z"
    }
   },
   "outputs": [],
   "source": [
    "class WeightedTrainer(Trainer):\n",
    "    def compute_loss(self, model, inputs, return_outputs=False):\n",
    "        labels = inputs.pop(\"labels\")\n",
    "        # forward pass\n",
    "        outputs = model(**inputs)\n",
    "        logits = outputs.get(\"logits\")\n",
    "        # compute custom loss (suppose one has labels with different weights)\n",
    "        loss_fct = torch.nn.CrossEntropyLoss(weight=torch.tensor(ordered_weigths, device=model.device).float())\n",
    "        loss = loss_fct(logits.view(-1, self.model.config.num_labels), labels.view(-1))\n",
    "        return (loss, outputs) if return_outputs else loss"
   ]
  },
  {
   "cell_type": "code",
   "execution_count": 31,
   "metadata": {
    "execution": {
     "iopub.execute_input": "2023-11-26T18:50:17.269133Z",
     "iopub.status.busy": "2023-11-26T18:50:17.268764Z",
     "iopub.status.idle": "2023-11-26T18:50:22.757755Z",
     "shell.execute_reply": "2023-11-26T18:50:22.757004Z",
     "shell.execute_reply.started": "2023-11-26T18:50:17.269107Z"
    }
   },
   "outputs": [],
   "source": [
    "# Create TrainingArguments to configure the training process\n",
    "training_args = TrainingArguments(\n",
    "    output_dir=output_dir,  # Directory to save the model checkpoints and logs\n",
    "    logging_dir='./logs',  # Directory to store training logs\n",
    "    num_train_epochs=num_train_epochs,  # Number of training epochs\n",
    "    per_device_train_batch_size=train_batch_size,  # Batch size for training data\n",
    "    per_device_eval_batch_size=eval_batch_size,  # Batch size for evaluation data\n",
    "    logging_strategy='steps',  # Logging frequency during training (steps or epoch)\n",
    "    logging_first_step=True,  # Log the first training step\n",
    "    load_best_model_at_end=True,  # Load the best model at the end of training\n",
    "    logging_steps=1,  # Log every training step (useful for debugging)\n",
    "    learning_rate=learning_rate, # Set the learning rate for the optimizer.\n",
    "    evaluation_strategy='epoch',  # Evaluation frequency (epoch or steps)\n",
    "    warmup_steps=warmup_steps,  # Number of warmup steps for the learning rate\n",
    "    weight_decay=weight_decay,  # Weight decay for regularization\n",
    "    eval_steps=1,  # Evaluate every training step (useful for debugging)\n",
    "    save_strategy='epoch',  # Save model checkpoints every epoch\n",
    "    save_total_limit=1,  # Limit the number of saved checkpoints to save space\n",
    "    report_to=\"mlflow\",  # Log training metrics to MLflow\n",
    ")\n",
    "\n",
    "\n",
    "trainer = WeightedTrainer(\n",
    "    model=model, \n",
    "    args=training_args,  \n",
    "    compute_metrics=compute_metrics, \n",
    "    train_dataset=df_train,\n",
    "    eval_dataset=df_test, \n",
    "    data_collator=data_collator  \n",
    ")"
   ]
  },
  {
   "cell_type": "code",
   "execution_count": 32,
   "metadata": {
    "execution": {
     "iopub.execute_input": "2023-11-26T18:50:22.759480Z",
     "iopub.status.busy": "2023-11-26T18:50:22.759158Z",
     "iopub.status.idle": "2023-11-26T18:50:45.533444Z",
     "shell.execute_reply": "2023-11-26T18:50:45.532565Z",
     "shell.execute_reply.started": "2023-11-26T18:50:22.759455Z"
    }
   },
   "outputs": [
    {
     "name": "stderr",
     "output_type": "stream",
     "text": [
      "You're using a DistilBertTokenizerFast tokenizer. Please note that with a fast tokenizer, using the `__call__` method is faster than using a method to encode the text followed by a call to the `pad` method to get a padded encoding.\n"
     ]
    },
    {
     "data": {
      "text/html": [
       "\n",
       "    <div>\n",
       "      \n",
       "      <progress value='72' max='36' style='width:300px; height:20px; vertical-align: middle;'></progress>\n",
       "      [36/36 04:53]\n",
       "    </div>\n",
       "    "
      ],
      "text/plain": [
       "<IPython.core.display.HTML object>"
      ]
     },
     "metadata": {},
     "output_type": "display_data"
    },
    {
     "data": {
      "text/plain": [
       "{'eval_loss': 0.7017505764961243,\n",
       " 'eval_accuracy': 0.3588261449533126,\n",
       " 'eval_runtime': 22.673,\n",
       " 'eval_samples_per_second': 99.193,\n",
       " 'eval_steps_per_second': 1.588}"
      ]
     },
     "execution_count": 32,
     "metadata": {},
     "output_type": "execute_result"
    }
   ],
   "source": [
    "trainer.evaluate()"
   ]
  },
  {
   "cell_type": "code",
   "execution_count": 33,
   "metadata": {
    "execution": {
     "iopub.execute_input": "2023-11-26T18:50:45.534762Z",
     "iopub.status.busy": "2023-11-26T18:50:45.534482Z",
     "iopub.status.idle": "2023-11-26T19:36:29.484571Z",
     "shell.execute_reply": "2023-11-26T19:36:29.483673Z",
     "shell.execute_reply.started": "2023-11-26T18:50:45.534737Z"
    }
   },
   "outputs": [
    {
     "data": {
      "text/html": [
       "\n",
       "    <div>\n",
       "      \n",
       "      <progress value='11250' max='11250' style='width:300px; height:20px; vertical-align: middle;'></progress>\n",
       "      [11250/11250 45:43, Epoch 10/10]\n",
       "    </div>\n",
       "    <table border=\"1\" class=\"dataframe\">\n",
       "  <thead>\n",
       " <tr style=\"text-align: left;\">\n",
       "      <th>Epoch</th>\n",
       "      <th>Training Loss</th>\n",
       "      <th>Validation Loss</th>\n",
       "      <th>Accuracy</th>\n",
       "    </tr>\n",
       "  </thead>\n",
       "  <tbody>\n",
       "    <tr>\n",
       "      <td>1</td>\n",
       "      <td>0.925600</td>\n",
       "      <td>0.402420</td>\n",
       "      <td>0.873277</td>\n",
       "    </tr>\n",
       "    <tr>\n",
       "      <td>2</td>\n",
       "      <td>0.137400</td>\n",
       "      <td>0.241697</td>\n",
       "      <td>0.935082</td>\n",
       "    </tr>\n",
       "    <tr>\n",
       "      <td>3</td>\n",
       "      <td>0.059000</td>\n",
       "      <td>0.153372</td>\n",
       "      <td>0.956870</td>\n",
       "    </tr>\n",
       "    <tr>\n",
       "      <td>4</td>\n",
       "      <td>0.067000</td>\n",
       "      <td>0.123226</td>\n",
       "      <td>0.965318</td>\n",
       "    </tr>\n",
       "    <tr>\n",
       "      <td>5</td>\n",
       "      <td>0.007900</td>\n",
       "      <td>0.110475</td>\n",
       "      <td>0.970209</td>\n",
       "    </tr>\n",
       "    <tr>\n",
       "      <td>6</td>\n",
       "      <td>0.010200</td>\n",
       "      <td>0.103641</td>\n",
       "      <td>0.973321</td>\n",
       "    </tr>\n",
       "    <tr>\n",
       "      <td>7</td>\n",
       "      <td>0.010500</td>\n",
       "      <td>0.098923</td>\n",
       "      <td>0.975989</td>\n",
       "    </tr>\n",
       "    <tr>\n",
       "      <td>8</td>\n",
       "      <td>0.006900</td>\n",
       "      <td>0.098356</td>\n",
       "      <td>0.977768</td>\n",
       "    </tr>\n",
       "    <tr>\n",
       "      <td>9</td>\n",
       "      <td>0.007400</td>\n",
       "      <td>0.096058</td>\n",
       "      <td>0.977768</td>\n",
       "    </tr>\n",
       "    <tr>\n",
       "      <td>10</td>\n",
       "      <td>0.009800</td>\n",
       "      <td>0.095681</td>\n",
       "      <td>0.978657</td>\n",
       "    </tr>\n",
       "  </tbody>\n",
       "</table><p>"
      ],
      "text/plain": [
       "<IPython.core.display.HTML object>"
      ]
     },
     "metadata": {},
     "output_type": "display_data"
    },
    {
     "data": {
      "text/plain": [
       "TrainOutput(global_step=11250, training_loss=0.17132030871671936, metrics={'train_runtime': 2743.5287, 'train_samples_per_second': 32.79, 'train_steps_per_second': 4.101, 'total_flos': 1.161209734069272e+16, 'train_loss': 0.17132030871671936, 'epoch': 10.0})"
      ]
     },
     "execution_count": 33,
     "metadata": {},
     "output_type": "execute_result"
    }
   ],
   "source": [
    "trainer.train()"
   ]
  },
  {
   "cell_type": "code",
   "execution_count": 34,
   "metadata": {
    "execution": {
     "iopub.execute_input": "2023-11-26T19:47:24.382350Z",
     "iopub.status.busy": "2023-11-26T19:47:24.381926Z",
     "iopub.status.idle": "2023-11-26T19:47:45.405667Z",
     "shell.execute_reply": "2023-11-26T19:47:45.404804Z",
     "shell.execute_reply.started": "2023-11-26T19:47:24.382317Z"
    }
   },
   "outputs": [
    {
     "data": {
      "text/html": [],
      "text/plain": [
       "<IPython.core.display.HTML object>"
      ]
     },
     "metadata": {},
     "output_type": "display_data"
    },
    {
     "data": {
      "text/plain": [
       "{'eval_loss': 0.09568127989768982,\n",
       " 'eval_accuracy': 0.9786571809693198,\n",
       " 'eval_runtime': 20.9996,\n",
       " 'eval_samples_per_second': 107.097,\n",
       " 'eval_steps_per_second': 1.714,\n",
       " 'epoch': 10.0}"
      ]
     },
     "execution_count": 34,
     "metadata": {},
     "output_type": "execute_result"
    }
   ],
   "source": [
    "trainer.evaluate()"
   ]
  },
  {
   "cell_type": "code",
   "execution_count": 35,
   "metadata": {
    "execution": {
     "iopub.execute_input": "2023-11-26T19:47:45.407746Z",
     "iopub.status.busy": "2023-11-26T19:47:45.407443Z",
     "iopub.status.idle": "2023-11-26T19:48:06.553158Z",
     "shell.execute_reply": "2023-11-26T19:48:06.552328Z",
     "shell.execute_reply.started": "2023-11-26T19:47:45.407719Z"
    }
   },
   "outputs": [
    {
     "name": "stdout",
     "output_type": "stream",
     "text": [
      "{'test_loss': 0.09568127989768982, 'test_accuracy': 0.9786571809693198, 'test_runtime': 21.1364, 'test_samples_per_second': 106.404, 'test_steps_per_second': 1.703}\n"
     ]
    }
   ],
   "source": [
    "outputs = trainer.predict(df_test)\n",
    "\n",
    "print(outputs.metrics)"
   ]
  },
  {
   "cell_type": "code",
   "execution_count": 36,
   "metadata": {
    "execution": {
     "iopub.execute_input": "2023-11-26T19:48:06.554913Z",
     "iopub.status.busy": "2023-11-26T19:48:06.554552Z",
     "iopub.status.idle": "2023-11-26T19:48:06.959040Z",
     "shell.execute_reply": "2023-11-26T19:48:06.957968Z",
     "shell.execute_reply.started": "2023-11-26T19:48:06.554880Z"
    }
   },
   "outputs": [
    {
     "name": "stdout",
     "output_type": "stream",
     "text": [
      "Accuracy: 0.9787\n",
      "F1 Score: 0.9777\n"
     ]
    },
    {
     "data": {
      "image/png": "[encoded data removed]",
      "text/plain": [
       "<Figure size 800x600 with 2 Axes>"
      ]
     },
     "metadata": {},
     "output_type": "display_data"
    },
    {
     "name": "stdout",
     "output_type": "stream",
     "text": [
      "\n",
      "Classification report:\n",
      "\n",
      "              precision    recall  f1-score   support\n",
      "\n",
      "           0     0.9724    0.9926    0.9824      1347\n",
      "           1     0.9886    0.9579    0.9730       902\n",
      "\n",
      "    accuracy                         0.9787      2249\n",
      "   macro avg     0.9805    0.9752    0.9777      2249\n",
      "weighted avg     0.9789    0.9787    0.9786      2249\n",
      "\n"
     ]
    }
   ],
   "source": [
    "y_true = outputs.label_ids\n",
    "\n",
    "y_pred = outputs.predictions.argmax(1)\n",
    "\n",
    "def plot_confusion_matrix(cm, classes, title='Confusion Matrix', cmap=plt.cm.Blues, figsize=(10, 8), is_norm=True):\n",
    "    \"\"\"\n",
    "    This function plots a confusion matrix.\n",
    "\n",
    "    Parameters:\n",
    "        cm (array-like): Confusion matrix as returned by sklearn.metrics.confusion_matrix.\n",
    "        classes (list): List of class names, e.g., ['Class 0', 'Class 1'].\n",
    "        title (str): Title for the plot.\n",
    "        cmap (matplotlib colormap): Colormap for the plot.\n",
    "    \"\"\"\n",
    "    plt.figure(figsize=figsize)\n",
    "    \n",
    "    \n",
    "    plt.imshow(cm, interpolation='nearest', cmap=cmap)\n",
    "    plt.title(title)\n",
    "    plt.colorbar()\n",
    "\n",
    "    tick_marks = np.arange(len(classes))\n",
    "    plt.xticks(tick_marks, classes, rotation=90)\n",
    "    plt.yticks(tick_marks, classes)\n",
    "    \n",
    "    if is_norm:\n",
    "        fmt = '.3f'\n",
    "    else:\n",
    "        fmt = '.0f'\n",
    "    thresh = cm.max() / 2.0\n",
    "    for i, j in itertools.product(range(cm.shape[0]), range(cm.shape[1])):\n",
    "        plt.text(j, i, format(cm[i, j], fmt), horizontalalignment=\"center\", color=\"white\" if cm[i, j] > thresh else \"black\")\n",
    "\n",
    "    plt.ylabel('True label')\n",
    "    plt.xlabel('Predicted label')\n",
    "\n",
    "    plt.tight_layout()\n",
    "    plt.show()\n",
    "\n",
    "accuracy = accuracy_score(y_true, y_pred)\n",
    "f1 = f1_score(y_true, y_pred, average='macro')\n",
    "\n",
    "print(f\"Accuracy: {accuracy:.4f}\")\n",
    "print(f\"F1 Score: {f1:.4f}\")\n",
    "\n",
    "if len(labels_list) <= 120:\n",
    "    cm = confusion_matrix(y_true, y_pred, normalize='true')\n",
    "\n",
    "    plot_confusion_matrix(cm, labels_list, figsize=(8, 6))\n",
    "\n",
    "# Finally, display classification report\n",
    "print()\n",
    "print(\"Classification report:\")\n",
    "print()\n",
    "print(classification_report(y_true, y_pred, target_names=labels_list, digits=4))"
   ]
  },
  {
   "cell_type": "markdown",
   "metadata": {},
   "source": [
    "# Saving the model and checking its performance with a sample input"
   ]
  },
  {
   "cell_type": "code",
   "execution_count": 37,
   "metadata": {
    "execution": {
     "iopub.execute_input": "2023-11-26T19:48:20.076490Z",
     "iopub.status.busy": "2023-11-26T19:48:20.075777Z",
     "iopub.status.idle": "2023-11-26T19:48:20.653849Z",
     "shell.execute_reply": "2023-11-26T19:48:20.652847Z",
     "shell.execute_reply.started": "2023-11-26T19:48:20.076458Z"
    }
   },
   "outputs": [],
   "source": [
    "trainer.save_model()"
   ]
  },
  {
   "cell_type": "code",
   "execution_count": 38,
   "metadata": {
    "execution": {
     "iopub.execute_input": "2023-11-26T19:48:20.656187Z",
     "iopub.status.busy": "2023-11-26T19:48:20.655476Z",
     "iopub.status.idle": "2023-11-26T19:48:20.673495Z",
     "shell.execute_reply": "2023-11-26T19:48:20.672564Z",
     "shell.execute_reply.started": "2023-11-26T19:48:20.656151Z"
    }
   },
   "outputs": [
    {
     "data": {
      "text/plain": [
       "('./sms-spam-detection-distilbert/vocab.txt',)"
      ]
     },
     "execution_count": 38,
     "metadata": {},
     "output_type": "execute_result"
    }
   ],
   "source": [
    "tokenizer.save_vocabulary(save_directory=f\"./{output_dir}\")"
   ]
  },
  {
   "cell_type": "code",
   "execution_count": 39,
   "metadata": {
    "execution": {
     "iopub.execute_input": "2023-11-26T19:48:20.910037Z",
     "iopub.status.busy": "2023-11-26T19:48:20.909420Z",
     "iopub.status.idle": "2023-11-26T19:48:21.845423Z",
     "shell.execute_reply": "2023-11-26T19:48:21.844418Z",
     "shell.execute_reply.started": "2023-11-26T19:48:20.910005Z"
    }
   },
   "outputs": [
    {
     "data": {
      "text/plain": [
       "[{'label': '0', 'score': 0.9938880801200867},\n",
       " {'label': '1', 'score': 0.006111975759267807}]"
      ]
     },
     "execution_count": 39,
     "metadata": {},
     "output_type": "execute_result"
    }
   ],
   "source": [
    "pipe = pipeline(\"text-classification\", output_dir, tokenizer=BERT_MODEL)\n",
    "sample_title = '''Elon Musk buys Twitter, and so can you'''\n",
    "pipe(sample_title, top_k=10)"
   ]
  },
  {
   "cell_type": "markdown",
   "metadata": {},
   "source": [
    "### TEST Results"
   ]
  },
  {
   "cell_type": "code",
   "execution_count": 45,
   "metadata": {
    "execution": {
     "iopub.execute_input": "2023-11-26T19:48:48.226095Z",
     "iopub.status.busy": "2023-11-26T19:48:48.225330Z",
     "iopub.status.idle": "2023-11-26T19:48:48.487969Z",
     "shell.execute_reply": "2023-11-26T19:48:48.487013Z",
     "shell.execute_reply.started": "2023-11-26T19:48:48.226063Z"
    }
   },
   "outputs": [
    {
     "name": "stdout",
     "output_type": "stream",
     "text": [
      "There are 1019 duplicates found in the dataset\n",
      "(9275, 2)\n",
      "CPU times: user 221 ms, sys: 20 ms, total: 241 ms\n",
      "Wall time: 249 ms\n"
     ]
    },
    {
     "data": {
      "text/html": [
       "<div>\n",
       "<style scoped>\n",
       "    .dataframe tbody tr th:only-of-type {\n",
       "        vertical-align: middle;\n",
       "    }\n",
       "\n",
       "    .dataframe tbody tr th {\n",
       "        vertical-align: top;\n",
       "    }\n",
       "\n",
       "    .dataframe thead th {\n",
       "        text-align: right;\n",
       "    }\n",
       "</style>\n",
       "<table border=\"1\" class=\"dataframe\">\n",
       "  <thead>\n",
       "    <tr style=\"text-align: right;\">\n",
       "      <th></th>\n",
       "      <th>1384</th>\n",
       "      <th>5288</th>\n",
       "      <th>5840</th>\n",
       "      <th>7103</th>\n",
       "      <th>1073</th>\n",
       "    </tr>\n",
       "  </thead>\n",
       "  <tbody>\n",
       "    <tr>\n",
       "      <th>label</th>\n",
       "      <td>0</td>\n",
       "      <td>0</td>\n",
       "      <td>0</td>\n",
       "      <td>0</td>\n",
       "      <td>0</td>\n",
       "    </tr>\n",
       "    <tr>\n",
       "      <th>title</th>\n",
       "      <td>Finance Guest Account (GUEST)'s trip approval ...</td>\n",
       "      <td>ST. 1st Class Herring, Its not a problem, I ca...</td>\n",
       "      <td>\"Thanks\" Ben for this, hi all and happy new ye...</td>\n",
       "      <td>fatto Da: Lucia Rana [mailto:l.rana@hackingtea...</td>\n",
       "      <td>To be automatically unsubscribed from this lis...</td>\n",
       "    </tr>\n",
       "  </tbody>\n",
       "</table>\n",
       "</div>"
      ],
      "text/plain": [
       "                                                    1384  \\\n",
       "label                                                  0   \n",
       "title  Finance Guest Account (GUEST)'s trip approval ...   \n",
       "\n",
       "                                                    5288  \\\n",
       "label                                                  0   \n",
       "title  ST. 1st Class Herring, Its not a problem, I ca...   \n",
       "\n",
       "                                                    5840  \\\n",
       "label                                                  0   \n",
       "title  \"Thanks\" Ben for this, hi all and happy new ye...   \n",
       "\n",
       "                                                    7103  \\\n",
       "label                                                  0   \n",
       "title  fatto Da: Lucia Rana [mailto:l.rana@hackingtea...   \n",
       "\n",
       "                                                    1073  \n",
       "label                                                  0  \n",
       "title  To be automatically unsubscribed from this lis...  "
      ]
     },
     "execution_count": 45,
     "metadata": {},
     "output_type": "execute_result"
    }
   ],
   "source": [
    "%%time\n",
    "df = pd.read_csv(\"/kaggle/input/iswpa-dataset/IWSPA-AP-Parsed.csv\", encoding='latin-1')\n",
    "\n",
    "item0 = df.shape[0] \n",
    "df = df.drop_duplicates()\n",
    "item1 = df.shape[0]  \n",
    "print(f\"There are {item0-item1} duplicates found in the dataset\") \n",
    "\n",
    "df = df.rename(columns={'is_phishing': 'label', 'email_body': 'title'})\n",
    "\n",
    "df = df[['label', 'title']] \n",
    "df['label'] = df['label'].astype('str')\n",
    "\n",
    "\n",
    "df = df[~df['title'].isnull()]  \n",
    "df = df[~df['label'].isnull()] \n",
    "\n",
    "print(df.shape) \n",
    "df.sample(5).T  "
   ]
  },
  {
   "cell_type": "code",
   "execution_count": 46,
   "metadata": {
    "execution": {
     "iopub.execute_input": "2023-11-26T19:48:50.188977Z",
     "iopub.status.busy": "2023-11-26T19:48:50.188620Z",
     "iopub.status.idle": "2023-11-26T19:48:50.201960Z",
     "shell.execute_reply": "2023-11-26T19:48:50.200899Z",
     "shell.execute_reply.started": "2023-11-26T19:48:50.188948Z"
    }
   },
   "outputs": [
    {
     "name": "stdout",
     "output_type": "stream",
     "text": [
      "<class 'pandas.core.frame.DataFrame'>\n",
      "Index: 9275 entries, 0 to 10295\n",
      "Data columns (total 2 columns):\n",
      " #   Column  Non-Null Count  Dtype \n",
      "---  ------  --------------  ----- \n",
      " 0   label   9275 non-null   object\n",
      " 1   title   9275 non-null   object\n",
      "dtypes: object(2)\n",
      "memory usage: 217.4+ KB\n"
     ]
    }
   ],
   "source": [
    "df.info()"
   ]
  },
  {
   "cell_type": "code",
   "execution_count": 47,
   "metadata": {
    "execution": {
     "iopub.execute_input": "2023-11-26T19:48:50.910647Z",
     "iopub.status.busy": "2023-11-26T19:48:50.910289Z",
     "iopub.status.idle": "2023-11-26T19:48:50.950231Z",
     "shell.execute_reply": "2023-11-26T19:48:50.949261Z",
     "shell.execute_reply.started": "2023-11-26T19:48:50.910618Z"
    }
   },
   "outputs": [],
   "source": [
    "dataset = Dataset.from_pandas(df)"
   ]
  },
  {
   "cell_type": "code",
   "execution_count": 48,
   "metadata": {
    "execution": {
     "iopub.execute_input": "2023-11-26T19:48:53.254118Z",
     "iopub.status.busy": "2023-11-26T19:48:53.253751Z",
     "iopub.status.idle": "2023-11-26T19:48:53.393655Z",
     "shell.execute_reply": "2023-11-26T19:48:53.392777Z",
     "shell.execute_reply.started": "2023-11-26T19:48:53.254088Z"
    }
   },
   "outputs": [
    {
     "data": {
      "application/vnd.jupyter.widget-view+json": {
       "model_id": "3398bf649c3a481ea07b07c91f310415",
       "version_major": 2,
       "version_minor": 0
      },
      "text/plain": [
       "Map:   0%|          | 0/9275 [00:00<?, ? examples/s]"
      ]
     },
     "metadata": {},
     "output_type": "display_data"
    },
    {
     "data": {
      "application/vnd.jupyter.widget-view+json": {
       "model_id": "0c0cef4806104649b95bacd863d85207",
       "version_major": 2,
       "version_minor": 0
      },
      "text/plain": [
       "Casting the dataset:   0%|          | 0/9275 [00:00<?, ? examples/s]"
      ]
     },
     "metadata": {},
     "output_type": "display_data"
    }
   ],
   "source": [
    "ClassLabels = ClassLabel(num_classes=len(labels_list), names=labels_list)\n",
    "\n",
    "def map_label2id(example):\n",
    "    example['label'] = ClassLabels.str2int(example['label'])\n",
    "    return example\n",
    "\n",
    "dataset = dataset.map(map_label2id, batched=True)\n",
    "\n",
    "dataset = dataset.cast_column('label', ClassLabels)\n",
    "\n",
    "dataset = dataset.train_test_split(test_size=1, shuffle=True) # , stratify_by_column=\"label\"\n",
    "\n",
    "df_train = dataset['train']\n",
    "\n",
    "df_test = dataset['test']"
   ]
  },
  {
   "cell_type": "code",
   "execution_count": 49,
   "metadata": {
    "execution": {
     "iopub.execute_input": "2023-11-26T19:48:53.637071Z",
     "iopub.status.busy": "2023-11-26T19:48:53.636350Z",
     "iopub.status.idle": "2023-11-26T19:48:53.770339Z",
     "shell.execute_reply": "2023-11-26T19:48:53.769494Z",
     "shell.execute_reply.started": "2023-11-26T19:48:53.637038Z"
    }
   },
   "outputs": [],
   "source": [
    "\n",
    "tokenizer = AutoTokenizer.from_pretrained(BERT_MODEL, use_fast=True, low_cpu_mem_usage=False)"
   ]
  },
  {
   "cell_type": "code",
   "execution_count": 50,
   "metadata": {
    "execution": {
     "iopub.execute_input": "2023-11-26T19:49:26.894010Z",
     "iopub.status.busy": "2023-11-26T19:49:26.893648Z",
     "iopub.status.idle": "2023-11-26T19:49:40.232286Z",
     "shell.execute_reply": "2023-11-26T19:49:40.231427Z",
     "shell.execute_reply.started": "2023-11-26T19:49:26.893980Z"
    }
   },
   "outputs": [
    {
     "data": {
      "application/vnd.jupyter.widget-view+json": {
       "model_id": "1005b61dceda46a9b8a5b576b6d101ea",
       "version_major": 2,
       "version_minor": 0
      },
      "text/plain": [
       "Map:   0%|          | 0/9274 [00:00<?, ? examples/s]"
      ]
     },
     "metadata": {},
     "output_type": "display_data"
    },
    {
     "data": {
      "application/vnd.jupyter.widget-view+json": {
       "model_id": "3e2fd5eec2c246e08532bb7fa01aeee5",
       "version_major": 2,
       "version_minor": 0
      },
      "text/plain": [
       "Map:   0%|          | 0/1 [00:00<?, ? examples/s]"
      ]
     },
     "metadata": {},
     "output_type": "display_data"
    }
   ],
   "source": [
    "\n",
    "\n",
    "def preprocess_function(examples):\n",
    "   \n",
    "    return tokenizer(examples[\"title\"], truncation=True)\n",
    "\n",
    "\n",
    "\n",
    "df_train = df_train.map(preprocess_function, batched=True)\n",
    "df_test = df_test.map(preprocess_function, batched=True)"
   ]
  },
  {
   "cell_type": "code",
   "execution_count": 51,
   "metadata": {
    "execution": {
     "iopub.execute_input": "2023-11-26T19:49:42.379256Z",
     "iopub.status.busy": "2023-11-26T19:49:42.378383Z",
     "iopub.status.idle": "2023-11-26T19:49:42.388232Z",
     "shell.execute_reply": "2023-11-26T19:49:42.387245Z",
     "shell.execute_reply.started": "2023-11-26T19:49:42.379215Z"
    }
   },
   "outputs": [],
   "source": [
    "df_train = df_train.remove_columns(['title'])\n",
    "\n",
    "df_test = df_test.remove_columns(['title'])"
   ]
  },
  {
   "cell_type": "code",
   "execution_count": 52,
   "metadata": {
    "execution": {
     "iopub.execute_input": "2023-11-26T19:49:43.993003Z",
     "iopub.status.busy": "2023-11-26T19:49:43.992622Z",
     "iopub.status.idle": "2023-11-26T19:49:43.997743Z",
     "shell.execute_reply": "2023-11-26T19:49:43.996689Z",
     "shell.execute_reply.started": "2023-11-26T19:49:43.992971Z"
    }
   },
   "outputs": [],
   "source": [
    "\n",
    "data_collator = DataCollatorWithPadding(tokenizer=tokenizer)"
   ]
  },
  {
   "cell_type": "code",
   "execution_count": 53,
   "metadata": {
    "execution": {
     "iopub.execute_input": "2023-11-26T19:49:45.250055Z",
     "iopub.status.busy": "2023-11-26T19:49:45.249320Z",
     "iopub.status.idle": "2023-11-26T19:49:45.258019Z",
     "shell.execute_reply": "2023-11-26T19:49:45.257135Z",
     "shell.execute_reply.started": "2023-11-26T19:49:45.250024Z"
    }
   },
   "outputs": [
    {
     "data": {
      "text/plain": [
       "'[CLS] Alessandro Scarafile updated a event in the 00. TENTATIVE calendar Jan 2013, 2015 Until Jan 2114, 2015 Support Morocco ( ALFAHAD ) Client needs help for firewall configuration and system check. Refer to ticket YMN - 265 - 89975. You are receiving this notification because you are watching the following : 00. TENTATIVE Sent by Atlassian Confluence 5. 6. 3, the Enterprise Wiki [SEP]'"
      ]
     },
     "execution_count": 53,
     "metadata": {},
     "output_type": "execute_result"
    }
   ],
   "source": [
    "tokenizer.decode(df_train[0]['input_ids'])"
   ]
  },
  {
   "cell_type": "code",
   "execution_count": 54,
   "metadata": {
    "execution": {
     "iopub.execute_input": "2023-11-26T19:49:46.462276Z",
     "iopub.status.busy": "2023-11-26T19:49:46.461524Z",
     "iopub.status.idle": "2023-11-26T19:51:14.222138Z",
     "shell.execute_reply": "2023-11-26T19:51:14.221245Z",
     "shell.execute_reply.started": "2023-11-26T19:49:46.462241Z"
    }
   },
   "outputs": [
    {
     "data": {
      "text/html": [],
      "text/plain": [
       "<IPython.core.display.HTML object>"
      ]
     },
     "metadata": {},
     "output_type": "display_data"
    },
    {
     "name": "stdout",
     "output_type": "stream",
     "text": [
      "{'test_loss': 0.36423200368881226, 'test_accuracy': 0.9110416217381928, 'test_runtime': 87.7481, 'test_samples_per_second': 105.689, 'test_steps_per_second': 1.652}\n"
     ]
    }
   ],
   "source": [
    "outputs = trainer.predict(df_train)\n",
    "\n",
    "print(outputs.metrics)"
   ]
  },
  {
   "cell_type": "code",
   "execution_count": 55,
   "metadata": {
    "execution": {
     "iopub.execute_input": "2023-11-26T19:51:16.658023Z",
     "iopub.status.busy": "2023-11-26T19:51:16.657141Z",
     "iopub.status.idle": "2023-11-26T19:51:16.998308Z",
     "shell.execute_reply": "2023-11-26T19:51:16.997501Z",
     "shell.execute_reply.started": "2023-11-26T19:51:16.657990Z"
    }
   },
   "outputs": [
    {
     "name": "stdout",
     "output_type": "stream",
     "text": [
      "Accuracy: 0.9110\n",
      "F1 Score: 0.7756\n"
     ]
    },
    {
     "data": {
      "image/png": "[encoded data removed]",
      "text/plain": [
       "<Figure size 800x600 with 2 Axes>"
      ]
     },
     "metadata": {},
     "output_type": "display_data"
    },
    {
     "name": "stdout",
     "output_type": "stream",
     "text": [
      "\n",
      "Classification report:\n",
      "\n",
      "              precision    recall  f1-score   support\n",
      "\n",
      "           0     0.9477    0.9522    0.9499      8220\n",
      "           1     0.6128    0.5901    0.6013      1054\n",
      "\n",
      "    accuracy                         0.9110      9274\n",
      "   macro avg     0.7803    0.7712    0.7756      9274\n",
      "weighted avg     0.9096    0.9110    0.9103      9274\n",
      "\n"
     ]
    }
   ],
   "source": [
    "y_true = outputs.label_ids\n",
    "\n",
    "y_pred = outputs.predictions.argmax(1)\n",
    "\n",
    "def plot_confusion_matrix(cm, classes, title='Confusion Matrix', cmap=plt.cm.Blues, figsize=(10, 8), is_norm=True):\n",
    "  \n",
    "    plt.figure(figsize=figsize)\n",
    "    \n",
    "    \n",
    "    plt.imshow(cm, interpolation='nearest', cmap=cmap)\n",
    "    plt.title(title)\n",
    "    plt.colorbar()\n",
    "\n",
    "    tick_marks = np.arange(len(classes))\n",
    "    plt.xticks(tick_marks, classes, rotation=90)\n",
    "    plt.yticks(tick_marks, classes)\n",
    "    \n",
    "    if is_norm:\n",
    "        fmt = '.3f'\n",
    "    else:\n",
    "        fmt = '.0f'\n",
    "    thresh = cm.max() / 2.0\n",
    "    for i, j in itertools.product(range(cm.shape[0]), range(cm.shape[1])):\n",
    "        plt.text(j, i, format(cm[i, j], fmt), horizontalalignment=\"center\", color=\"white\" if cm[i, j] > thresh else \"black\")\n",
    "\n",
    "    plt.ylabel('True label')\n",
    "    plt.xlabel('Predicted label')\n",
    "\n",
    "    plt.tight_layout()\n",
    "    plt.show()\n",
    "\n",
    "accuracy = accuracy_score(y_true, y_pred)\n",
    "f1 = f1_score(y_true, y_pred, average='macro')\n",
    "\n",
    "print(f\"Accuracy: {accuracy:.4f}\")\n",
    "print(f\"F1 Score: {f1:.4f}\")\n",
    "\n",
    "if len(labels_list) <= 120:\n",
    "    cm = confusion_matrix(y_true, y_pred, normalize='true')\n",
    "\n",
    "    plot_confusion_matrix(cm, labels_list, figsize=(8, 6))\n",
    "\n",
    "print()\n",
    "print(\"Classification report:\")\n",
    "print()\n",
    "print(classification_report(y_true, y_pred, target_names=labels_list, digits=4))"
   ]
  },
  {
   "cell_type": "code",
   "execution_count": null,
   "metadata": {},
   "outputs": [],
   "source": []
  },
  {
   "cell_type": "code",
   "execution_count": null,
   "metadata": {},
   "outputs": [],
   "source": []
  }
 ],
 "metadata": {
  "kaggle": {
   "accelerator": "gpu",
   "dataSources": [
    {
     "datasetId": 483,
     "sourceId": 982,
     "sourceType": "datasetVersion"
    },
    {
     "datasetId": 4015456,
     "sourceId": 6986875,
     "sourceType": "datasetVersion"
    },
    {
     "datasetId": 4015659,
     "sourceId": 6987166,
     "sourceType": "datasetVersion"
    }
   ],
   "dockerImageVersionId": 30588,
   "isGpuEnabled": true,
   "isInternetEnabled": true,
   "language": "python",
   "sourceType": "notebook"
  },
  "kernelspec": {
   "display_name": "Python 3",
   "language": "python",
   "name": "python3"
  },
  "language_info": {
   "codemirror_mode": {
    "name": "ipython",
    "version": 3
   },
   "file_extension": ".py",
   "mimetype": "text/x-python",
   "name": "python",
   "nbconvert_exporter": "python",
   "pygments_lexer": "ipython3",
   "version": "3.8.5"
  }
 },
 "nbformat": 4,
 "nbformat_minor": 4
}
