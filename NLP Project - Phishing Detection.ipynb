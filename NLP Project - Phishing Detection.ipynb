{
 "cells": [
  {
   "cell_type": "code",
   "execution_count": 60,
   "metadata": {},
   "outputs": [],
   "source": [
    "import warnings\n",
    "warnings.filterwarnings('ignore')\n",
    "import numpy as np\n",
    "import pandas as pd\n",
    "import seaborn as sns\n",
    "import matplotlib.pyplot as plt\n",
    "from bs4 import BeautifulSoup\n",
    "import nltk\n",
    "import re\n",
    "import contractions\n",
    "from sklearn.naive_bayes import MultinomialNB\n",
    "from nltk.corpus import stopwords\n",
    "from nltk.stem import WordNetLemmatizer\n",
    "from sklearn.model_selection import train_test_split\n",
    "from sklearn.feature_extraction.text import TfidfVectorizer, CountVectorizer\n",
    "from sklearn.linear_model import Perceptron\n",
    "from sklearn.metrics import precision_score, recall_score, f1_score, accuracy_score\n",
    "from sklearn.svm import LinearSVC\n",
    "from sklearn.linear_model import LogisticRegression\n",
    "import warnings\n",
    "import gensim.downloader as api\n",
    "import torch.nn as nn\n",
    "import torch.nn.functional as F\n",
    "import torch\n",
    "from torch.utils.data import DataLoader, Dataset\n",
    "from torch.utils.data.sampler import SubsetRandomSampler\n",
    "from sklearn.metrics import precision_recall_fscore_support as score\n"
   ]
  },
  {
   "cell_type": "code",
   "execution_count": 2,
   "metadata": {},
   "outputs": [
    {
     "name": "stderr",
     "output_type": "stream",
     "text": [
      "[nltk_data] Downloading package wordnet to /Users/anudeep/nltk_data...\n",
      "[nltk_data]   Package wordnet is already up-to-date!\n",
      "[nltk_data] Downloading package stopwords to\n",
      "[nltk_data]     /Users/anudeep/nltk_data...\n",
      "[nltk_data]   Package stopwords is already up-to-date!\n",
      "[nltk_data] Downloading package omw-1.4 to /Users/anudeep/nltk_data...\n",
      "[nltk_data]   Package omw-1.4 is already up-to-date!\n"
     ]
    }
   ],
   "source": [
    "nltk.download('wordnet')\n",
    "nltk.download('stopwords')\n",
    "nltk.download('omw-1.4')\n",
    "stopWords=set(stopwords.words('english'))"
   ]
  },
  {
   "cell_type": "code",
   "execution_count": 3,
   "metadata": {},
   "outputs": [],
   "source": [
    "SEED = 42"
   ]
  },
  {
   "cell_type": "code",
   "execution_count": 4,
   "metadata": {},
   "outputs": [],
   "source": [
    "dataset = pd.read_csv('./datasets/fraud_email_.csv')"
   ]
  },
  {
   "cell_type": "code",
   "execution_count": 5,
   "metadata": {},
   "outputs": [
    {
     "data": {
      "text/plain": [
       "(11929, 2)"
      ]
     },
     "execution_count": 5,
     "metadata": {},
     "output_type": "execute_result"
    }
   ],
   "source": [
    "dataset.shape"
   ]
  },
  {
   "cell_type": "code",
   "execution_count": 6,
   "metadata": {},
   "outputs": [
    {
     "data": {
      "text/plain": [
       "(5187, 6742)"
      ]
     },
     "execution_count": 6,
     "metadata": {},
     "output_type": "execute_result"
    }
   ],
   "source": [
    "len(dataset[dataset['Class'] == 1]), len(dataset[dataset['Class'] == 0])"
   ]
  },
  {
   "cell_type": "code",
   "execution_count": 7,
   "metadata": {},
   "outputs": [
    {
     "data": {
      "text/html": [
       "<div>\n",
       "<style scoped>\n",
       "    .dataframe tbody tr th:only-of-type {\n",
       "        vertical-align: middle;\n",
       "    }\n",
       "\n",
       "    .dataframe tbody tr th {\n",
       "        vertical-align: top;\n",
       "    }\n",
       "\n",
       "    .dataframe thead th {\n",
       "        text-align: right;\n",
       "    }\n",
       "</style>\n",
       "<table border=\"1\" class=\"dataframe\">\n",
       "  <thead>\n",
       "    <tr style=\"text-align: right;\">\n",
       "      <th></th>\n",
       "      <th>Text</th>\n",
       "      <th>Class</th>\n",
       "    </tr>\n",
       "  </thead>\n",
       "  <tbody>\n",
       "    <tr>\n",
       "      <th>0</th>\n",
       "      <td>Supply Quality China's EXCLUSIVE dimensions at...</td>\n",
       "      <td>1</td>\n",
       "    </tr>\n",
       "    <tr>\n",
       "      <th>1</th>\n",
       "      <td>over. SidLet me know. Thx.</td>\n",
       "      <td>0</td>\n",
       "    </tr>\n",
       "    <tr>\n",
       "      <th>2</th>\n",
       "      <td>Dear Friend,Greetings to you.I wish to accost ...</td>\n",
       "      <td>1</td>\n",
       "    </tr>\n",
       "    <tr>\n",
       "      <th>3</th>\n",
       "      <td>MR. CHEUNG PUIHANG SENG BANK LTD.DES VOEUX RD....</td>\n",
       "      <td>1</td>\n",
       "    </tr>\n",
       "    <tr>\n",
       "      <th>4</th>\n",
       "      <td>Not a surprising assessment from Embassy.</td>\n",
       "      <td>0</td>\n",
       "    </tr>\n",
       "    <tr>\n",
       "      <th>...</th>\n",
       "      <td>...</td>\n",
       "      <td>...</td>\n",
       "    </tr>\n",
       "    <tr>\n",
       "      <th>11924</th>\n",
       "      <td>Travel well. I'll look forward to hearing your...</td>\n",
       "      <td>0</td>\n",
       "    </tr>\n",
       "    <tr>\n",
       "      <th>11925</th>\n",
       "      <td>Dear friend, I wish to begin by way of introdu...</td>\n",
       "      <td>1</td>\n",
       "    </tr>\n",
       "    <tr>\n",
       "      <th>11926</th>\n",
       "      <td>Follow Up Flag: Follow upFlag Status: FlaggedM...</td>\n",
       "      <td>0</td>\n",
       "    </tr>\n",
       "    <tr>\n",
       "      <th>11927</th>\n",
       "      <td>sbwhoeop B6Saturday January 23 2010 4:09 PMRe:...</td>\n",
       "      <td>0</td>\n",
       "    </tr>\n",
       "    <tr>\n",
       "      <th>11928</th>\n",
       "      <td>FYI. We are revising call sheet for call to Ka...</td>\n",
       "      <td>0</td>\n",
       "    </tr>\n",
       "  </tbody>\n",
       "</table>\n",
       "<p>11929 rows × 2 columns</p>\n",
       "</div>"
      ],
      "text/plain": [
       "                                                    Text  Class\n",
       "0      Supply Quality China's EXCLUSIVE dimensions at...      1\n",
       "1                             over. SidLet me know. Thx.      0\n",
       "2      Dear Friend,Greetings to you.I wish to accost ...      1\n",
       "3      MR. CHEUNG PUIHANG SENG BANK LTD.DES VOEUX RD....      1\n",
       "4              Not a surprising assessment from Embassy.      0\n",
       "...                                                  ...    ...\n",
       "11924  Travel well. I'll look forward to hearing your...      0\n",
       "11925  Dear friend, I wish to begin by way of introdu...      1\n",
       "11926  Follow Up Flag: Follow upFlag Status: FlaggedM...      0\n",
       "11927  sbwhoeop B6Saturday January 23 2010 4:09 PMRe:...      0\n",
       "11928  FYI. We are revising call sheet for call to Ka...      0\n",
       "\n",
       "[11929 rows x 2 columns]"
      ]
     },
     "execution_count": 7,
     "metadata": {},
     "output_type": "execute_result"
    }
   ],
   "source": [
    "dataset"
   ]
  },
  {
   "cell_type": "markdown",
   "metadata": {},
   "source": [
    "## Pre-processing data"
   ]
  },
  {
   "cell_type": "code",
   "execution_count": 8,
   "metadata": {},
   "outputs": [],
   "source": [
    "def remove_contractions(text):\n",
    "    words = []\n",
    "    for word in text.split():  \n",
    "        words.append(contractions.fix(word))\n",
    "    res = ' '.join(words)\n",
    "    return res\n",
    "\n",
    "def dataCleaning(text):\n",
    "    text=str(text)\n",
    "    text=text.lower()\n",
    "    # Remove non-alphabetical characters and extra spaces\n",
    "    text = remove_contractions(text)\n",
    "    text = re.sub(r'\\.', ' . ', text)\n",
    "    text = re.sub(r'\\,', ' , ', text)\n",
    "    text = re.sub(r'\\:', ' : ', text)\n",
    "    text = re.sub(r'\\s+', ' ', text).strip()\n",
    "    words=[]\n",
    "     # Perform contractions\n",
    "    return text\n",
    "\n",
    "def removestopwords(text):\n",
    "    words=text.split(' ')\n",
    "    words = [word for word in words if word not in stopWords]    \n",
    "    text = ' '.join(words)\n",
    "    return text\n",
    "\n",
    "def performlemmatization(text):\n",
    "    lemmatizer = WordNetLemmatizer()\n",
    "    \n",
    "    words=text.split(' ')\n",
    "    words = [lemmatizer.lemmatize(word) for word in words]    \n",
    "    text = ' '.join(words)\n",
    "    return text\n",
    "\n",
    "def add_space_for_punctuations(text):\n",
    "    # This regular expression captures:\n",
    "    # 1. A word (\\w+)\n",
    "    # 2. A punctuation character ([.,!?])\n",
    "    pattern = re.compile(r'(\\w+)([.,!?])')\n",
    "    result = pattern.sub(r'\\1 \\2', text)\n",
    "    return result"
   ]
  },
  {
   "cell_type": "code",
   "execution_count": 9,
   "metadata": {},
   "outputs": [],
   "source": [
    "dataset[\"email_body_clean\"] = dataset[\"Text\"].apply(dataCleaning)\n",
    "dataset[\"email_body_clean\"] = dataset[\"email_body_clean\"].apply(removestopwords)\n",
    "# dataset[\"email_body_clean\"] = dataset[\"email_body_clean\"].apply(add_space_for_punctuations)\n",
    "# dataset[\"email_body_clean\"] = dataset[\"email_body_clean\"].apply(performlemmatization)"
   ]
  },
  {
   "cell_type": "code",
   "execution_count": 10,
   "metadata": {},
   "outputs": [
    {
     "data": {
      "text/html": [
       "<div>\n",
       "<style scoped>\n",
       "    .dataframe tbody tr th:only-of-type {\n",
       "        vertical-align: middle;\n",
       "    }\n",
       "\n",
       "    .dataframe tbody tr th {\n",
       "        vertical-align: top;\n",
       "    }\n",
       "\n",
       "    .dataframe thead th {\n",
       "        text-align: right;\n",
       "    }\n",
       "</style>\n",
       "<table border=\"1\" class=\"dataframe\">\n",
       "  <thead>\n",
       "    <tr style=\"text-align: right;\">\n",
       "      <th></th>\n",
       "      <th>Text</th>\n",
       "      <th>Class</th>\n",
       "      <th>email_body_clean</th>\n",
       "    </tr>\n",
       "  </thead>\n",
       "  <tbody>\n",
       "    <tr>\n",
       "      <th>0</th>\n",
       "      <td>Supply Quality China's EXCLUSIVE dimensions at...</td>\n",
       "      <td>1</td>\n",
       "      <td>supply quality china's exclusive dimensions un...</td>\n",
       "    </tr>\n",
       "    <tr>\n",
       "      <th>1</th>\n",
       "      <td>over. SidLet me know. Thx.</td>\n",
       "      <td>0</td>\n",
       "      <td>. sidlet know . thanks .</td>\n",
       "    </tr>\n",
       "    <tr>\n",
       "      <th>2</th>\n",
       "      <td>Dear Friend,Greetings to you.I wish to accost ...</td>\n",
       "      <td>1</td>\n",
       "      <td>dear friend , greetings . wish accost request ...</td>\n",
       "    </tr>\n",
       "    <tr>\n",
       "      <th>3</th>\n",
       "      <td>MR. CHEUNG PUIHANG SENG BANK LTD.DES VOEUX RD....</td>\n",
       "      <td>1</td>\n",
       "      <td>mr . cheung puihang seng bank ltd . des voeux ...</td>\n",
       "    </tr>\n",
       "    <tr>\n",
       "      <th>4</th>\n",
       "      <td>Not a surprising assessment from Embassy.</td>\n",
       "      <td>0</td>\n",
       "      <td>surprising assessment embassy .</td>\n",
       "    </tr>\n",
       "    <tr>\n",
       "      <th>...</th>\n",
       "      <td>...</td>\n",
       "      <td>...</td>\n",
       "      <td>...</td>\n",
       "    </tr>\n",
       "    <tr>\n",
       "      <th>11924</th>\n",
       "      <td>Travel well. I'll look forward to hearing your...</td>\n",
       "      <td>0</td>\n",
       "      <td>travel well . look forward hearing report .</td>\n",
       "    </tr>\n",
       "    <tr>\n",
       "      <th>11925</th>\n",
       "      <td>Dear friend, I wish to begin by way of introdu...</td>\n",
       "      <td>1</td>\n",
       "      <td>dear friend , wish begin way introduction . wi...</td>\n",
       "    </tr>\n",
       "    <tr>\n",
       "      <th>11926</th>\n",
       "      <td>Follow Up Flag: Follow upFlag Status: FlaggedM...</td>\n",
       "      <td>0</td>\n",
       "      <td>follow flag : follow upflag status : flaggedmo...</td>\n",
       "    </tr>\n",
       "    <tr>\n",
       "      <th>11927</th>\n",
       "      <td>sbwhoeop B6Saturday January 23 2010 4:09 PMRe:...</td>\n",
       "      <td>0</td>\n",
       "      <td>sbwhoeop b6saturday january 23 2010 4 : 09 pmr...</td>\n",
       "    </tr>\n",
       "    <tr>\n",
       "      <th>11928</th>\n",
       "      <td>FYI. We are revising call sheet for call to Ka...</td>\n",
       "      <td>0</td>\n",
       "      <td>fyi . revising call sheet call karzai - potent...</td>\n",
       "    </tr>\n",
       "  </tbody>\n",
       "</table>\n",
       "<p>11929 rows × 3 columns</p>\n",
       "</div>"
      ],
      "text/plain": [
       "                                                    Text  Class  \\\n",
       "0      Supply Quality China's EXCLUSIVE dimensions at...      1   \n",
       "1                             over. SidLet me know. Thx.      0   \n",
       "2      Dear Friend,Greetings to you.I wish to accost ...      1   \n",
       "3      MR. CHEUNG PUIHANG SENG BANK LTD.DES VOEUX RD....      1   \n",
       "4              Not a surprising assessment from Embassy.      0   \n",
       "...                                                  ...    ...   \n",
       "11924  Travel well. I'll look forward to hearing your...      0   \n",
       "11925  Dear friend, I wish to begin by way of introdu...      1   \n",
       "11926  Follow Up Flag: Follow upFlag Status: FlaggedM...      0   \n",
       "11927  sbwhoeop B6Saturday January 23 2010 4:09 PMRe:...      0   \n",
       "11928  FYI. We are revising call sheet for call to Ka...      0   \n",
       "\n",
       "                                        email_body_clean  \n",
       "0      supply quality china's exclusive dimensions un...  \n",
       "1                               . sidlet know . thanks .  \n",
       "2      dear friend , greetings . wish accost request ...  \n",
       "3      mr . cheung puihang seng bank ltd . des voeux ...  \n",
       "4                        surprising assessment embassy .  \n",
       "...                                                  ...  \n",
       "11924        travel well . look forward hearing report .  \n",
       "11925  dear friend , wish begin way introduction . wi...  \n",
       "11926  follow flag : follow upflag status : flaggedmo...  \n",
       "11927  sbwhoeop b6saturday january 23 2010 4 : 09 pmr...  \n",
       "11928  fyi . revising call sheet call karzai - potent...  \n",
       "\n",
       "[11929 rows x 3 columns]"
      ]
     },
     "execution_count": 10,
     "metadata": {},
     "output_type": "execute_result"
    }
   ],
   "source": [
    "dataset"
   ]
  },
  {
   "cell_type": "markdown",
   "metadata": {},
   "source": [
    "### Run models using TFIDF as features"
   ]
  },
  {
   "cell_type": "code",
   "execution_count": 11,
   "metadata": {},
   "outputs": [],
   "source": [
    "tfidf_vectorizer = TfidfVectorizer()\n",
    "tfidf_features = tfidf_vectorizer.fit_transform(dataset[\"email_body_clean\"])\n",
    "X_train_tfidf, X_test_tfidf, y_train, y_test = train_test_split(tfidf_features, dataset['Class'].to_numpy(), \n",
    "                                                                test_size=0.5, random_state=SEED)\n",
    "\n",
    "count_vectorizer = CountVectorizer()\n",
    "count_features = count_vectorizer.fit_transform(dataset[\"email_body_clean\"])\n",
    "\n",
    "X_train_count, X_test_count, _, _ = train_test_split(count_features, dataset['Class'].to_numpy(), \n",
    "                                                                test_size=0.5, random_state=SEED)\n"
   ]
  },
  {
   "cell_type": "code",
   "execution_count": 164,
   "metadata": {},
   "outputs": [],
   "source": [
    "def print_scores(y_test, y_predtest):\n",
    "    precision = precision_score(y_test, y_predtest,average=\"macro\")\n",
    "    recall = recall_score(y_test, y_predtest,average=\"macro\")\n",
    "    f1 = f1_score(y_test, y_predtest,average=\"macro\")\n",
    "    accuracy = accuracy_score(y_test, y_predtest)\n",
    "    print(precision,recall,f1,accuracy)\n",
    "    \n",
    "    cm =confusion_matrix(y_test, y_predtest)\n",
    "    TN = cm[0][0]\n",
    "    FP = cm[0][1]\n",
    "    FN = cm[1][0]\n",
    "    TP = cm[1][1]\n",
    "    print(\"precision for 1 - \", TP/(TP+FP), \"Recall for 1 - \",TP/(TP+FN))\n",
    "    print(TP+FN,sum(y_test))\n",
    "    y_test_inv = [ abs(i-1) for i in y_test]\n",
    "    y_predtest_inv = [ abs(i-1) for i in y_predtest]\n",
    "    \n",
    "    cm =confusion_matrix(y_test_inv, y_predtest_inv)\n",
    "    TN = cm[0][0]\n",
    "    FP = cm[0][1]\n",
    "    FN = cm[1][0]\n",
    "    TP = cm[1][1]\n",
    "    print(TP+FN,sum(y_test))\n",
    "    print(\"precision for 0 - \", TP/(TP+FP), \"Recall for 0 - \",TP/(TP+FN))\n",
    "    "
   ]
  },
  {
   "cell_type": "code",
   "execution_count": 13,
   "metadata": {},
   "outputs": [
    {
     "data": {
      "text/plain": [
       "(2585, 5965, 2602, 5964)"
      ]
     },
     "execution_count": 13,
     "metadata": {},
     "output_type": "execute_result"
    }
   ],
   "source": [
    "sum(y_test), len(y_test), sum(y_train), len(y_train)"
   ]
  },
  {
   "cell_type": "code",
   "execution_count": 14,
   "metadata": {},
   "outputs": [
    {
     "data": {
      "text/plain": [
       "((5964, 110912), (5965, 110912))"
      ]
     },
     "execution_count": 14,
     "metadata": {},
     "output_type": "execute_result"
    }
   ],
   "source": [
    "X_train_tfidf.shape, X_test_tfidf.shape"
   ]
  },
  {
   "cell_type": "code",
   "execution_count": 15,
   "metadata": {},
   "outputs": [
    {
     "data": {
      "text/plain": [
       "(5965,)"
      ]
     },
     "execution_count": 15,
     "metadata": {},
     "output_type": "execute_result"
    }
   ],
   "source": [
    "SVM_tfidf = LinearSVC(C=1.0)\n",
    "SVM_tfidf.fit(X_train_tfidf, y_train)\n",
    "ypredtest_svm_tfidf = SVM_tfidf.predict(X_test_tfidf)\n",
    "ypredtest_svm_tfidf.shape"
   ]
  },
  {
   "cell_type": "code",
   "execution_count": 16,
   "metadata": {},
   "outputs": [
    {
     "data": {
      "text/plain": [
       "(5965,)"
      ]
     },
     "execution_count": 16,
     "metadata": {},
     "output_type": "execute_result"
    }
   ],
   "source": [
    "SVM_count = LinearSVC(C=1.0)\n",
    "SVM_count.fit(X_train_count, y_train)\n",
    "ypredtest_svm_count = SVM_count.predict(X_test_count)\n",
    "ypredtest_svm_count.shape"
   ]
  },
  {
   "cell_type": "code",
   "execution_count": 17,
   "metadata": {},
   "outputs": [
    {
     "data": {
      "text/plain": [
       "(5965,)"
      ]
     },
     "execution_count": 17,
     "metadata": {},
     "output_type": "execute_result"
    }
   ],
   "source": [
    "perceptron_tfidf = Perceptron()\n",
    "perceptron_tfidf.fit(X_train_count, y_train)\n",
    "ypredtest_perceptron = perceptron_tfidf.predict(X_test_count)\n",
    "ypredtest_perceptron.shape"
   ]
  },
  {
   "cell_type": "code",
   "execution_count": 18,
   "metadata": {},
   "outputs": [
    {
     "name": "stdout",
     "output_type": "stream",
     "text": [
      "SVM with TFIDF:\n",
      "0.9988090512107979 0.9733075435203095 0.9858934169278997 0.987929589270746\n"
     ]
    }
   ],
   "source": [
    "print(\"SVM with TFIDF:\")\n",
    "print_scores(y_test, ypredtest_svm_tfidf)"
   ]
  },
  {
   "cell_type": "code",
   "execution_count": 19,
   "metadata": {},
   "outputs": [
    {
     "name": "stdout",
     "output_type": "stream",
     "text": [
      "SVM with count:\n",
      "0.9928853754940712 0.9717601547388781 0.9822091886608015 0.9847443419949706\n"
     ]
    }
   ],
   "source": [
    "print(\"SVM with count:\")\n",
    "print_scores(y_test, ypredtest_svm_count)"
   ]
  },
  {
   "cell_type": "code",
   "execution_count": 20,
   "metadata": {},
   "outputs": [
    {
     "name": "stdout",
     "output_type": "stream",
     "text": [
      "Perceptron with count:\n",
      "0.9725400457665904 0.9864603481624759 0.9794507393892836 0.9820620284995809\n"
     ]
    }
   ],
   "source": [
    "print(\"Perceptron with count:\")\n",
    "print_scores(y_test, ypredtest_perceptron)"
   ]
  },
  {
   "cell_type": "code",
   "execution_count": 21,
   "metadata": {},
   "outputs": [],
   "source": [
    "########## TEST The Model with Other datasets ##########"
   ]
  },
  {
   "cell_type": "code",
   "execution_count": 22,
   "metadata": {},
   "outputs": [],
   "source": [
    "iswda_dataset = pd.read_csv('./datasets/IWSPA-AP-Parsed.csv')"
   ]
  },
  {
   "cell_type": "code",
   "execution_count": 23,
   "metadata": {},
   "outputs": [
    {
     "data": {
      "text/html": [
       "<div>\n",
       "<style scoped>\n",
       "    .dataframe tbody tr th:only-of-type {\n",
       "        vertical-align: middle;\n",
       "    }\n",
       "\n",
       "    .dataframe tbody tr th {\n",
       "        vertical-align: top;\n",
       "    }\n",
       "\n",
       "    .dataframe thead th {\n",
       "        text-align: right;\n",
       "    }\n",
       "</style>\n",
       "<table border=\"1\" class=\"dataframe\">\n",
       "  <thead>\n",
       "    <tr style=\"text-align: right;\">\n",
       "      <th></th>\n",
       "      <th>email_from</th>\n",
       "      <th>email_to</th>\n",
       "      <th>email_subject</th>\n",
       "      <th>email_body</th>\n",
       "      <th>is_phishing</th>\n",
       "    </tr>\n",
       "  </thead>\n",
       "  <tbody>\n",
       "    <tr>\n",
       "      <th>0</th>\n",
       "      <td>\"eBay\"&lt;aw-confirm@ebay.com&gt;</td>\n",
       "      <td>undisclosed-recipients:;</td>\n",
       "      <td>Account On-hold: Please confirm your eBay info...</td>\n",
       "      <td>Message sent trough eBay System Your registere...</td>\n",
       "      <td>1</td>\n",
       "    </tr>\n",
       "    <tr>\n",
       "      <th>1</th>\n",
       "      <td>\"eBay Priority Protection\" &lt;unpaid@eBay.com&gt;</td>\n",
       "      <td>user@domain.com</td>\n",
       "      <td>Alert eBay Unpaid Item Strike Received</td>\n",
       "      <td>&lt;!-- style2 {color: #0000CC} --&gt; Alert eBay Un...</td>\n",
       "      <td>1</td>\n",
       "    </tr>\n",
       "    <tr>\n",
       "      <th>2</th>\n",
       "      <td>\"Jenn Crabtree\" &lt;Jenn.Crabtree@alz.org&gt;</td>\n",
       "      <td>undisclosed-recipients:;</td>\n",
       "      <td>Aknowledge The Receipt Of the Mail</td>\n",
       "      <td>A Computer Database Maintainance is currently ...</td>\n",
       "      <td>1</td>\n",
       "    </tr>\n",
       "    <tr>\n",
       "      <th>3</th>\n",
       "      <td>\"E-gold\"&lt;AccSecRobot_noreplay@e-gold.com&gt;</td>\n",
       "      <td>undisclosed-recipients:;</td>\n",
       "      <td>Notification of limited account access</td>\n",
       "      <td>We recently reviewed your e-gold account, and ...</td>\n",
       "      <td>1</td>\n",
       "    </tr>\n",
       "    <tr>\n",
       "      <th>4</th>\n",
       "      <td>\"Simon John Rubias Dela Cruz\" &lt;SimonJohn@dls.c...</td>\n",
       "      <td>undisclosed-recipients:;</td>\n",
       "      <td>KEEPING TRACK OF YOUR USAGE.</td>\n",
       "      <td>Your web mail quota has exceeded the set quota...</td>\n",
       "      <td>1</td>\n",
       "    </tr>\n",
       "    <tr>\n",
       "      <th>...</th>\n",
       "      <td>...</td>\n",
       "      <td>...</td>\n",
       "      <td>...</td>\n",
       "      <td>...</td>\n",
       "      <td>...</td>\n",
       "    </tr>\n",
       "    <tr>\n",
       "      <th>10291</th>\n",
       "      <td>NaN</td>\n",
       "      <td>NaN</td>\n",
       "      <td>NaN</td>\n",
       "      <td>body,#bodyTable,#bodyCell{ height:100% !import...</td>\n",
       "      <td>0</td>\n",
       "    </tr>\n",
       "    <tr>\n",
       "      <th>10292</th>\n",
       "      <td>NaN</td>\n",
       "      <td>NaN</td>\n",
       "      <td>NaN</td>\n",
       "      <td>Donald Trump on Thursday fired back at Paul Ry...</td>\n",
       "      <td>0</td>\n",
       "    </tr>\n",
       "    <tr>\n",
       "      <th>10293</th>\n",
       "      <td>NaN</td>\n",
       "      <td>NaN</td>\n",
       "      <td>NaN</td>\n",
       "      <td>Let me know if you have any edits Alex Shapiro...</td>\n",
       "      <td>0</td>\n",
       "    </tr>\n",
       "    <tr>\n",
       "      <th>10294</th>\n",
       "      <td>NaN</td>\n",
       "      <td>NaN</td>\n",
       "      <td>NaN</td>\n",
       "      <td>By Henry C. Jackson | 04/25/2016 05:43 PM EDT ...</td>\n",
       "      <td>0</td>\n",
       "    </tr>\n",
       "    <tr>\n",
       "      <th>10295</th>\n",
       "      <td>NaN</td>\n",
       "      <td>NaN</td>\n",
       "      <td>NaN</td>\n",
       "      <td>Agnes's William's photo appears to be a young ...</td>\n",
       "      <td>0</td>\n",
       "    </tr>\n",
       "  </tbody>\n",
       "</table>\n",
       "<p>10296 rows × 5 columns</p>\n",
       "</div>"
      ],
      "text/plain": [
       "                                              email_from  \\\n",
       "0                            \"eBay\"<aw-confirm@ebay.com>   \n",
       "1           \"eBay Priority Protection\" <unpaid@eBay.com>   \n",
       "2                \"Jenn Crabtree\" <Jenn.Crabtree@alz.org>   \n",
       "3              \"E-gold\"<AccSecRobot_noreplay@e-gold.com>   \n",
       "4      \"Simon John Rubias Dela Cruz\" <SimonJohn@dls.c...   \n",
       "...                                                  ...   \n",
       "10291                                                NaN   \n",
       "10292                                                NaN   \n",
       "10293                                                NaN   \n",
       "10294                                                NaN   \n",
       "10295                                                NaN   \n",
       "\n",
       "                       email_to  \\\n",
       "0      undisclosed-recipients:;   \n",
       "1               user@domain.com   \n",
       "2      undisclosed-recipients:;   \n",
       "3      undisclosed-recipients:;   \n",
       "4      undisclosed-recipients:;   \n",
       "...                         ...   \n",
       "10291                       NaN   \n",
       "10292                       NaN   \n",
       "10293                       NaN   \n",
       "10294                       NaN   \n",
       "10295                       NaN   \n",
       "\n",
       "                                           email_subject  \\\n",
       "0      Account On-hold: Please confirm your eBay info...   \n",
       "1                 Alert eBay Unpaid Item Strike Received   \n",
       "2                     Aknowledge The Receipt Of the Mail   \n",
       "3                 Notification of limited account access   \n",
       "4                           KEEPING TRACK OF YOUR USAGE.   \n",
       "...                                                  ...   \n",
       "10291                                                NaN   \n",
       "10292                                                NaN   \n",
       "10293                                                NaN   \n",
       "10294                                                NaN   \n",
       "10295                                                NaN   \n",
       "\n",
       "                                              email_body  is_phishing  \n",
       "0      Message sent trough eBay System Your registere...            1  \n",
       "1      <!-- style2 {color: #0000CC} --> Alert eBay Un...            1  \n",
       "2      A Computer Database Maintainance is currently ...            1  \n",
       "3      We recently reviewed your e-gold account, and ...            1  \n",
       "4      Your web mail quota has exceeded the set quota...            1  \n",
       "...                                                  ...          ...  \n",
       "10291  body,#bodyTable,#bodyCell{ height:100% !import...            0  \n",
       "10292  Donald Trump on Thursday fired back at Paul Ry...            0  \n",
       "10293  Let me know if you have any edits Alex Shapiro...            0  \n",
       "10294  By Henry C. Jackson | 04/25/2016 05:43 PM EDT ...            0  \n",
       "10295  Agnes's William's photo appears to be a young ...            0  \n",
       "\n",
       "[10296 rows x 5 columns]"
      ]
     },
     "execution_count": 23,
     "metadata": {},
     "output_type": "execute_result"
    }
   ],
   "source": [
    "iswda_dataset"
   ]
  },
  {
   "cell_type": "code",
   "execution_count": 24,
   "metadata": {},
   "outputs": [],
   "source": [
    "iswda_dataset[\"email_body_clean\"] = iswda_dataset[\"email_body\"].apply(dataCleaning)\n",
    "iswda_dataset[\"email_body_clean\"] = iswda_dataset[\"email_body_clean\"].apply(removestopwords)"
   ]
  },
  {
   "cell_type": "code",
   "execution_count": 145,
   "metadata": {},
   "outputs": [
    {
     "data": {
      "text/html": [
       "<div>\n",
       "<style scoped>\n",
       "    .dataframe tbody tr th:only-of-type {\n",
       "        vertical-align: middle;\n",
       "    }\n",
       "\n",
       "    .dataframe tbody tr th {\n",
       "        vertical-align: top;\n",
       "    }\n",
       "\n",
       "    .dataframe thead th {\n",
       "        text-align: right;\n",
       "    }\n",
       "</style>\n",
       "<table border=\"1\" class=\"dataframe\">\n",
       "  <thead>\n",
       "    <tr style=\"text-align: right;\">\n",
       "      <th></th>\n",
       "      <th>email_from</th>\n",
       "      <th>email_to</th>\n",
       "      <th>email_subject</th>\n",
       "      <th>email_body</th>\n",
       "      <th>is_phishing</th>\n",
       "      <th>email_body_clean</th>\n",
       "    </tr>\n",
       "  </thead>\n",
       "  <tbody>\n",
       "    <tr>\n",
       "      <th>0</th>\n",
       "      <td>\"eBay\"&lt;aw-confirm@ebay.com&gt;</td>\n",
       "      <td>undisclosed-recipients:;</td>\n",
       "      <td>Account On-hold: Please confirm your eBay info...</td>\n",
       "      <td>Message sent trough eBay System Your registere...</td>\n",
       "      <td>1</td>\n",
       "      <td>message sent trough ebay system registered nam...</td>\n",
       "    </tr>\n",
       "    <tr>\n",
       "      <th>1</th>\n",
       "      <td>\"eBay Priority Protection\" &lt;unpaid@eBay.com&gt;</td>\n",
       "      <td>user@domain.com</td>\n",
       "      <td>Alert eBay Unpaid Item Strike Received</td>\n",
       "      <td>&lt;!-- style2 {color: #0000CC} --&gt; Alert eBay Un...</td>\n",
       "      <td>1</td>\n",
       "      <td>&lt;!-- style2 {color : #0000cc} --&gt; alert ebay u...</td>\n",
       "    </tr>\n",
       "    <tr>\n",
       "      <th>2</th>\n",
       "      <td>\"Jenn Crabtree\" &lt;Jenn.Crabtree@alz.org&gt;</td>\n",
       "      <td>undisclosed-recipients:;</td>\n",
       "      <td>Aknowledge The Receipt Of the Mail</td>\n",
       "      <td>A Computer Database Maintainance is currently ...</td>\n",
       "      <td>1</td>\n",
       "      <td>computer database maintainance currently going...</td>\n",
       "    </tr>\n",
       "    <tr>\n",
       "      <th>3</th>\n",
       "      <td>\"E-gold\"&lt;AccSecRobot_noreplay@e-gold.com&gt;</td>\n",
       "      <td>undisclosed-recipients:;</td>\n",
       "      <td>Notification of limited account access</td>\n",
       "      <td>We recently reviewed your e-gold account, and ...</td>\n",
       "      <td>1</td>\n",
       "      <td>recently reviewed e-gold account , suspect acc...</td>\n",
       "    </tr>\n",
       "    <tr>\n",
       "      <th>4</th>\n",
       "      <td>\"Simon John Rubias Dela Cruz\" &lt;SimonJohn@dls.c...</td>\n",
       "      <td>undisclosed-recipients:;</td>\n",
       "      <td>KEEPING TRACK OF YOUR USAGE.</td>\n",
       "      <td>Your web mail quota has exceeded the set quota...</td>\n",
       "      <td>1</td>\n",
       "      <td>web mail quota exceeded set quota 3gb . curren...</td>\n",
       "    </tr>\n",
       "    <tr>\n",
       "      <th>...</th>\n",
       "      <td>...</td>\n",
       "      <td>...</td>\n",
       "      <td>...</td>\n",
       "      <td>...</td>\n",
       "      <td>...</td>\n",
       "      <td>...</td>\n",
       "    </tr>\n",
       "    <tr>\n",
       "      <th>10291</th>\n",
       "      <td>NaN</td>\n",
       "      <td>NaN</td>\n",
       "      <td>NaN</td>\n",
       "      <td>body,#bodyTable,#bodyCell{ height:100% !import...</td>\n",
       "      <td>0</td>\n",
       "      <td>body , #bodytable , #bodycell{ height : 100% !...</td>\n",
       "    </tr>\n",
       "    <tr>\n",
       "      <th>10292</th>\n",
       "      <td>NaN</td>\n",
       "      <td>NaN</td>\n",
       "      <td>NaN</td>\n",
       "      <td>Donald Trump on Thursday fired back at Paul Ry...</td>\n",
       "      <td>0</td>\n",
       "      <td>donald trump thursday fired back paul ryan say...</td>\n",
       "    </tr>\n",
       "    <tr>\n",
       "      <th>10293</th>\n",
       "      <td>NaN</td>\n",
       "      <td>NaN</td>\n",
       "      <td>NaN</td>\n",
       "      <td>Let me know if you have any edits Alex Shapiro...</td>\n",
       "      <td>0</td>\n",
       "      <td>let know edits alex shapiro mid atlantic &amp; pac...</td>\n",
       "    </tr>\n",
       "    <tr>\n",
       "      <th>10294</th>\n",
       "      <td>NaN</td>\n",
       "      <td>NaN</td>\n",
       "      <td>NaN</td>\n",
       "      <td>By Henry C. Jackson | 04/25/2016 05:43 PM EDT ...</td>\n",
       "      <td>0</td>\n",
       "      <td>henry c . jackson | 04/25/2016 05 : 43 pm edt ...</td>\n",
       "    </tr>\n",
       "    <tr>\n",
       "      <th>10295</th>\n",
       "      <td>NaN</td>\n",
       "      <td>NaN</td>\n",
       "      <td>NaN</td>\n",
       "      <td>Agnes's William's photo appears to be a young ...</td>\n",
       "      <td>0</td>\n",
       "      <td>agnes's william's photo appears young woman . ...</td>\n",
       "    </tr>\n",
       "  </tbody>\n",
       "</table>\n",
       "<p>10296 rows × 6 columns</p>\n",
       "</div>"
      ],
      "text/plain": [
       "                                              email_from  \\\n",
       "0                            \"eBay\"<aw-confirm@ebay.com>   \n",
       "1           \"eBay Priority Protection\" <unpaid@eBay.com>   \n",
       "2                \"Jenn Crabtree\" <Jenn.Crabtree@alz.org>   \n",
       "3              \"E-gold\"<AccSecRobot_noreplay@e-gold.com>   \n",
       "4      \"Simon John Rubias Dela Cruz\" <SimonJohn@dls.c...   \n",
       "...                                                  ...   \n",
       "10291                                                NaN   \n",
       "10292                                                NaN   \n",
       "10293                                                NaN   \n",
       "10294                                                NaN   \n",
       "10295                                                NaN   \n",
       "\n",
       "                       email_to  \\\n",
       "0      undisclosed-recipients:;   \n",
       "1               user@domain.com   \n",
       "2      undisclosed-recipients:;   \n",
       "3      undisclosed-recipients:;   \n",
       "4      undisclosed-recipients:;   \n",
       "...                         ...   \n",
       "10291                       NaN   \n",
       "10292                       NaN   \n",
       "10293                       NaN   \n",
       "10294                       NaN   \n",
       "10295                       NaN   \n",
       "\n",
       "                                           email_subject  \\\n",
       "0      Account On-hold: Please confirm your eBay info...   \n",
       "1                 Alert eBay Unpaid Item Strike Received   \n",
       "2                     Aknowledge The Receipt Of the Mail   \n",
       "3                 Notification of limited account access   \n",
       "4                           KEEPING TRACK OF YOUR USAGE.   \n",
       "...                                                  ...   \n",
       "10291                                                NaN   \n",
       "10292                                                NaN   \n",
       "10293                                                NaN   \n",
       "10294                                                NaN   \n",
       "10295                                                NaN   \n",
       "\n",
       "                                              email_body  is_phishing  \\\n",
       "0      Message sent trough eBay System Your registere...            1   \n",
       "1      <!-- style2 {color: #0000CC} --> Alert eBay Un...            1   \n",
       "2      A Computer Database Maintainance is currently ...            1   \n",
       "3      We recently reviewed your e-gold account, and ...            1   \n",
       "4      Your web mail quota has exceeded the set quota...            1   \n",
       "...                                                  ...          ...   \n",
       "10291  body,#bodyTable,#bodyCell{ height:100% !import...            0   \n",
       "10292  Donald Trump on Thursday fired back at Paul Ry...            0   \n",
       "10293  Let me know if you have any edits Alex Shapiro...            0   \n",
       "10294  By Henry C. Jackson | 04/25/2016 05:43 PM EDT ...            0   \n",
       "10295  Agnes's William's photo appears to be a young ...            0   \n",
       "\n",
       "                                        email_body_clean  \n",
       "0      message sent trough ebay system registered nam...  \n",
       "1      <!-- style2 {color : #0000cc} --> alert ebay u...  \n",
       "2      computer database maintainance currently going...  \n",
       "3      recently reviewed e-gold account , suspect acc...  \n",
       "4      web mail quota exceeded set quota 3gb . curren...  \n",
       "...                                                  ...  \n",
       "10291  body , #bodytable , #bodycell{ height : 100% !...  \n",
       "10292  donald trump thursday fired back paul ryan say...  \n",
       "10293  let know edits alex shapiro mid atlantic & pac...  \n",
       "10294  henry c . jackson | 04/25/2016 05 : 43 pm edt ...  \n",
       "10295  agnes's william's photo appears young woman . ...  \n",
       "\n",
       "[10296 rows x 6 columns]"
      ]
     },
     "execution_count": 145,
     "metadata": {},
     "output_type": "execute_result"
    }
   ],
   "source": [
    "iswda_dataset"
   ]
  },
  {
   "cell_type": "code",
   "execution_count": 26,
   "metadata": {},
   "outputs": [],
   "source": [
    "tfidf_features_iswa = tfidf_vectorizer.transform(iswda_dataset[\"email_body_clean\"])\n"
   ]
  },
  {
   "cell_type": "code",
   "execution_count": 28,
   "metadata": {},
   "outputs": [
    {
     "data": {
      "text/plain": [
       "(10296,)"
      ]
     },
     "execution_count": 28,
     "metadata": {},
     "output_type": "execute_result"
    }
   ],
   "source": [
    "testLabels = iswda_dataset['is_phishing'].to_numpy()\n",
    "ypred_iswda_svm_tfidf = SVM_tfidf.predict(tfidf_features_iswa)\n",
    "ypred_iswda_svm_tfidf.shape"
   ]
  },
  {
   "cell_type": "code",
   "execution_count": 29,
   "metadata": {},
   "outputs": [
    {
     "name": "stdout",
     "output_type": "stream",
     "text": [
      "SVM with TFIDF Test:\n",
      "0.46528403967538323 0.4558303886925795 0.4605087014725569 0.8825757575757576\n"
     ]
    }
   ],
   "source": [
    "print(\"SVM with TFIDF Test:\")\n",
    "print_scores(testLabels, ypred_iswda_svm_tfidf)"
   ]
  },
  {
   "cell_type": "code",
   "execution_count": 31,
   "metadata": {},
   "outputs": [
    {
     "data": {
      "text/html": [
       "<div>\n",
       "<style scoped>\n",
       "    .dataframe tbody tr th:only-of-type {\n",
       "        vertical-align: middle;\n",
       "    }\n",
       "\n",
       "    .dataframe tbody tr th {\n",
       "        vertical-align: top;\n",
       "    }\n",
       "\n",
       "    .dataframe thead th {\n",
       "        text-align: right;\n",
       "    }\n",
       "</style>\n",
       "<table border=\"1\" class=\"dataframe\">\n",
       "  <thead>\n",
       "    <tr style=\"text-align: right;\">\n",
       "      <th></th>\n",
       "      <th>Text</th>\n",
       "      <th>Class</th>\n",
       "      <th>email_body_clean</th>\n",
       "    </tr>\n",
       "  </thead>\n",
       "  <tbody>\n",
       "    <tr>\n",
       "      <th>0</th>\n",
       "      <td>Supply Quality China's EXCLUSIVE dimensions at...</td>\n",
       "      <td>1</td>\n",
       "      <td>supply quality china's exclusive dimensions un...</td>\n",
       "    </tr>\n",
       "    <tr>\n",
       "      <th>1</th>\n",
       "      <td>over. SidLet me know. Thx.</td>\n",
       "      <td>0</td>\n",
       "      <td>. sidlet know . thanks .</td>\n",
       "    </tr>\n",
       "    <tr>\n",
       "      <th>2</th>\n",
       "      <td>Dear Friend,Greetings to you.I wish to accost ...</td>\n",
       "      <td>1</td>\n",
       "      <td>dear friend , greetings . wish accost request ...</td>\n",
       "    </tr>\n",
       "    <tr>\n",
       "      <th>3</th>\n",
       "      <td>MR. CHEUNG PUIHANG SENG BANK LTD.DES VOEUX RD....</td>\n",
       "      <td>1</td>\n",
       "      <td>mr . cheung puihang seng bank ltd . des voeux ...</td>\n",
       "    </tr>\n",
       "    <tr>\n",
       "      <th>4</th>\n",
       "      <td>Not a surprising assessment from Embassy.</td>\n",
       "      <td>0</td>\n",
       "      <td>surprising assessment embassy .</td>\n",
       "    </tr>\n",
       "    <tr>\n",
       "      <th>...</th>\n",
       "      <td>...</td>\n",
       "      <td>...</td>\n",
       "      <td>...</td>\n",
       "    </tr>\n",
       "    <tr>\n",
       "      <th>11924</th>\n",
       "      <td>Travel well. I'll look forward to hearing your...</td>\n",
       "      <td>0</td>\n",
       "      <td>travel well . look forward hearing report .</td>\n",
       "    </tr>\n",
       "    <tr>\n",
       "      <th>11925</th>\n",
       "      <td>Dear friend, I wish to begin by way of introdu...</td>\n",
       "      <td>1</td>\n",
       "      <td>dear friend , wish begin way introduction . wi...</td>\n",
       "    </tr>\n",
       "    <tr>\n",
       "      <th>11926</th>\n",
       "      <td>Follow Up Flag: Follow upFlag Status: FlaggedM...</td>\n",
       "      <td>0</td>\n",
       "      <td>follow flag : follow upflag status : flaggedmo...</td>\n",
       "    </tr>\n",
       "    <tr>\n",
       "      <th>11927</th>\n",
       "      <td>sbwhoeop B6Saturday January 23 2010 4:09 PMRe:...</td>\n",
       "      <td>0</td>\n",
       "      <td>sbwhoeop b6saturday january 23 2010 4 : 09 pmr...</td>\n",
       "    </tr>\n",
       "    <tr>\n",
       "      <th>11928</th>\n",
       "      <td>FYI. We are revising call sheet for call to Ka...</td>\n",
       "      <td>0</td>\n",
       "      <td>fyi . revising call sheet call karzai - potent...</td>\n",
       "    </tr>\n",
       "  </tbody>\n",
       "</table>\n",
       "<p>11929 rows × 3 columns</p>\n",
       "</div>"
      ],
      "text/plain": [
       "                                                    Text  Class  \\\n",
       "0      Supply Quality China's EXCLUSIVE dimensions at...      1   \n",
       "1                             over. SidLet me know. Thx.      0   \n",
       "2      Dear Friend,Greetings to you.I wish to accost ...      1   \n",
       "3      MR. CHEUNG PUIHANG SENG BANK LTD.DES VOEUX RD....      1   \n",
       "4              Not a surprising assessment from Embassy.      0   \n",
       "...                                                  ...    ...   \n",
       "11924  Travel well. I'll look forward to hearing your...      0   \n",
       "11925  Dear friend, I wish to begin by way of introdu...      1   \n",
       "11926  Follow Up Flag: Follow upFlag Status: FlaggedM...      0   \n",
       "11927  sbwhoeop B6Saturday January 23 2010 4:09 PMRe:...      0   \n",
       "11928  FYI. We are revising call sheet for call to Ka...      0   \n",
       "\n",
       "                                        email_body_clean  \n",
       "0      supply quality china's exclusive dimensions un...  \n",
       "1                               . sidlet know . thanks .  \n",
       "2      dear friend , greetings . wish accost request ...  \n",
       "3      mr . cheung puihang seng bank ltd . des voeux ...  \n",
       "4                        surprising assessment embassy .  \n",
       "...                                                  ...  \n",
       "11924        travel well . look forward hearing report .  \n",
       "11925  dear friend , wish begin way introduction . wi...  \n",
       "11926  follow flag : follow upflag status : flaggedmo...  \n",
       "11927  sbwhoeop b6saturday january 23 2010 4 : 09 pmr...  \n",
       "11928  fyi . revising call sheet call karzai - potent...  \n",
       "\n",
       "[11929 rows x 3 columns]"
      ]
     },
     "execution_count": 31,
     "metadata": {},
     "output_type": "execute_result"
    }
   ],
   "source": [
    "dataset"
   ]
  },
  {
   "cell_type": "markdown",
   "metadata": {},
   "source": [
    "## Using Word2Vec features"
   ]
  },
  {
   "cell_type": "code",
   "execution_count": 34,
   "metadata": {},
   "outputs": [],
   "source": [
    "wv = api.load('word2vec-google-news-300')"
   ]
  },
  {
   "cell_type": "code",
   "execution_count": 41,
   "metadata": {},
   "outputs": [],
   "source": [
    "def get_word2vec_features(data):\n",
    "    master=[]\n",
    "    for index, row in data.iterrows():\n",
    "        sentence = row['email_body_clean']\n",
    "        words=sentence.split(' ')\n",
    "        sentence_vector=[]\n",
    "        for word in words:\n",
    "            sentence_vector.append(wv[word] if word in wv else np.zeros(300))\n",
    "        master.append(np.mean(sentence_vector, axis=0))\n",
    "    return np.array(master)"
   ]
  },
  {
   "cell_type": "code",
   "execution_count": 42,
   "metadata": {},
   "outputs": [],
   "source": [
    "train_master = get_word2vec_features(dataset)"
   ]
  },
  {
   "cell_type": "code",
   "execution_count": 43,
   "metadata": {},
   "outputs": [],
   "source": [
    "X_train, X_test, y_train, y_test = train_test_split(train_master, dataset['Class'].to_numpy(), test_size=0.2, random_state=45)"
   ]
  },
  {
   "cell_type": "code",
   "execution_count": 44,
   "metadata": {},
   "outputs": [
    {
     "name": "stdout",
     "output_type": "stream",
     "text": [
      "Precision (Word2Vec) - SVM: 0.9767206477732794 Recall (Word2Vec) - SVM: 0.9405458089668616 F1 (Word2Vec) - SVM: 0.9582919563058591\n",
      "Accuracy (Word2Vec) - SVM: 0.9647946353730092\n"
     ]
    }
   ],
   "source": [
    "# SVM model\n",
    "svm_model = LinearSVC(C=1.0)\n",
    "svm_model.fit(X_train, y_train)\n",
    "y_pred_svm = svm_model.predict(X_test)\n",
    "accuracy_svm = accuracy_score(y_test, y_pred_svm)\n",
    "precision = precision_score(y_test, y_pred_svm)\n",
    "recall = recall_score(y_test, y_pred_svm)\n",
    "f1 = f1_score(y_test, y_pred_svm)\n",
    "\n",
    "print(\"Precision (Word2Vec) - SVM:\",precision,\"Recall (Word2Vec) - SVM:\",recall,\"F1 (Word2Vec) - SVM:\",f1)\n",
    "print(\"Accuracy (Word2Vec) - SVM:\", accuracy_svm)\n",
    "\n"
   ]
  },
  {
   "cell_type": "code",
   "execution_count": 47,
   "metadata": {},
   "outputs": [
    {
     "data": {
      "text/plain": [
       "(10296,)"
      ]
     },
     "execution_count": 47,
     "metadata": {},
     "output_type": "execute_result"
    }
   ],
   "source": [
    "# Test features\n",
    "test_features_iswda = get_word2vec_features(iswda_dataset)\n",
    "testLabels = iswda_dataset['is_phishing'].to_numpy()\n",
    "ypred_iswda_svm = svm_model.predict(test_features_iswda)\n",
    "ypred_iswda_svm.shape"
   ]
  },
  {
   "cell_type": "code",
   "execution_count": 49,
   "metadata": {},
   "outputs": [
    {
     "name": "stdout",
     "output_type": "stream",
     "text": [
      "SVM with TFIDF Test:\n",
      "0.45468202303455185 0.8021201413427562 0.580377117289869 0.8724747474747475\n"
     ]
    }
   ],
   "source": [
    "print(\"SVM with TFIDF Test:\")\n",
    "print_scores(testLabels, ypred_iswda_svm)"
   ]
  },
  {
   "cell_type": "code",
   "execution_count": 56,
   "metadata": {},
   "outputs": [],
   "source": [
    "'''\n",
    "P = TP / TP + FP\n",
    "R = TP / TP + FN\n",
    "'''\n",
    "from sklearn.metrics import confusion_matrix, ConfusionMatrixDisplay\n",
    "import matplotlib.pyplot as plt\n",
    "confusion_mat = confusion_matrix(testLabels, ypred_iswda_svm, labels=svm_model.classes_)\n",
    "disp = ConfusionMatrixDisplay(confusion_matrix=confusion_mat, display_labels=svm_model.classes_)"
   ]
  },
  {
   "cell_type": "code",
   "execution_count": 58,
   "metadata": {},
   "outputs": [
    {
     "data": {
      "image/png": "[encoded data removed]",
      "text/plain": [
       "<Figure size 432x288 with 2 Axes>"
      ]
     },
     "metadata": {
      "needs_background": "light"
     },
     "output_type": "display_data"
    }
   ],
   "source": [
    "disp.plot()\n",
    "plt.show()"
   ]
  },
  {
   "cell_type": "code",
   "execution_count": 53,
   "metadata": {},
   "outputs": [
    {
     "data": {
      "text/plain": [
       "array([0, 1])"
      ]
     },
     "execution_count": 53,
     "metadata": {},
     "output_type": "execute_result"
    }
   ],
   "source": [
    "svm_model.classes_"
   ]
  },
  {
   "cell_type": "code",
   "execution_count": null,
   "metadata": {},
   "outputs": [],
   "source": []
  },
  {
   "cell_type": "code",
   "execution_count": null,
   "metadata": {},
   "outputs": [],
   "source": []
  },
  {
   "cell_type": "code",
   "execution_count": null,
   "metadata": {},
   "outputs": [],
   "source": []
  },
  {
   "cell_type": "code",
   "execution_count": null,
   "metadata": {},
   "outputs": [],
   "source": []
  },
  {
   "cell_type": "code",
   "execution_count": null,
   "metadata": {},
   "outputs": [],
   "source": []
  },
  {
   "cell_type": "code",
   "execution_count": null,
   "metadata": {},
   "outputs": [],
   "source": []
  },
  {
   "cell_type": "code",
   "execution_count": null,
   "metadata": {},
   "outputs": [],
   "source": []
  },
  {
   "cell_type": "markdown",
   "metadata": {},
   "source": [
    "## GRU Model"
   ]
  },
  {
   "cell_type": "code",
   "execution_count": 133,
   "metadata": {},
   "outputs": [],
   "source": [
    "def predict(model, dataloader):\n",
    "    prediction_list = []\n",
    "    for data, target in dataloader:\n",
    "        outputs = model(data)\n",
    "        _, predicted = torch.max(outputs.data, 1) \n",
    "        prediction_list.extend(list(np.array(predicted.cpu())))\n",
    "    return prediction_list"
   ]
  },
  {
   "cell_type": "code",
   "execution_count": 71,
   "metadata": {},
   "outputs": [
    {
     "data": {
      "text/plain": [
       "7870"
      ]
     },
     "execution_count": 71,
     "metadata": {},
     "output_type": "execute_result"
    }
   ],
   "source": [
    "max([len(x) for x in dataset['email_body_clean'].str.split()])"
   ]
  },
  {
   "cell_type": "code",
   "execution_count": 76,
   "metadata": {},
   "outputs": [
    {
     "data": {
      "text/plain": [
       "123.94878028334311"
      ]
     },
     "execution_count": 76,
     "metadata": {},
     "output_type": "execute_result"
    }
   ],
   "source": [
    "sum([len(x) for x in dataset['email_body_clean'].str.split()]) / dataset['email_body_clean'].shape[0]"
   ]
  },
  {
   "cell_type": "code",
   "execution_count": 97,
   "metadata": {},
   "outputs": [
    {
     "name": "stdout",
     "output_type": "stream",
     "text": [
      "SimpleGRU(\n",
      "  (GRU): GRU(300, 100, batch_first=True)\n",
      "  (fc): Linear(in_features=100, out_features=2, bias=True)\n",
      ")\n"
     ]
    }
   ],
   "source": [
    "class SimpleGRU(nn.Module):\n",
    "    def __init__(self):\n",
    "        super(SimpleGRU, self).__init__()\n",
    "        self.GRU = nn.GRU(300, 100, batch_first=True)\n",
    "        self.fc = nn.Linear(100, 2)100`````\n",
    "        #self.softmax = nn.Softmax(dim=1)\n",
    "\n",
    "    def forward(self, x):\n",
    "        out, _ = self.GRU(x)\n",
    "        out = self.fc(out[:, -1, :])\n",
    "        return out\n",
    "# initialize the NN\n",
    "model = SimpleGRU()\n",
    "print(model)"
   ]
  },
  {
   "cell_type": "code",
   "execution_count": 98,
   "metadata": {},
   "outputs": [],
   "source": [
    "class CustomDataset(Dataset):\n",
    "    def __init__(self, features, labels):\n",
    "        self.features = features\n",
    "        self.labels = labels\n",
    "\n",
    "    def __len__(self):\n",
    "        return len(self.features)\n",
    "\n",
    "    def __getitem__(self, index):\n",
    "        feature = torch.tensor(self.features[index], dtype=torch.float32)\n",
    "        label = torch.tensor(self.labels[index], dtype=torch.long) \n",
    "        return feature, label\n"
   ]
  },
  {
   "cell_type": "code",
   "execution_count": null,
   "metadata": {},
   "outputs": [],
   "source": []
  },
  {
   "cell_type": "code",
   "execution_count": 137,
   "metadata": {},
   "outputs": [],
   "source": [
    "def get_rnn_features(data):\n",
    "    master=[]\n",
    "    for index, row in data.iterrows():\n",
    "        sentence = row['email_body_clean']\n",
    "        words=sentence.split(' ')\n",
    "        sentence_vector=[]\n",
    "        for word in words[:100]:\n",
    "            sentence_vector.append(wv[word] if word in wv else np.zeros(300))\n",
    "        if len(sentence_vector)<100:\n",
    "            for i in range(100-len(sentence_vector)):\n",
    "                sentence_vector.append(np.zeros(300))\n",
    "        master.append(sentence_vector)\n",
    "    return np.array(master)"
   ]
  },
  {
   "cell_type": "code",
   "execution_count": 138,
   "metadata": {},
   "outputs": [],
   "source": [
    "train_master = get_rnn_features(dataset)"
   ]
  },
  {
   "cell_type": "code",
   "execution_count": 139,
   "metadata": {},
   "outputs": [],
   "source": [
    "X_train, X_test, y_train, y_test = train_test_split(train_master, dataset['Class'].to_numpy(), test_size=0.1, random_state=45)"
   ]
  },
  {
   "cell_type": "code",
   "execution_count": 101,
   "metadata": {},
   "outputs": [],
   "source": [
    "train_data = CustomDataset(features=X_train, labels=np.array(y_train))"
   ]
  },
  {
   "cell_type": "code",
   "execution_count": 128,
   "metadata": {},
   "outputs": [],
   "source": [
    "test_data=CustomDataset(features=X_test, labels=np.array(y_test))"
   ]
  },
  {
   "cell_type": "code",
   "execution_count": 129,
   "metadata": {},
   "outputs": [],
   "source": [
    "# loss function (categorical cross-entropy)\n",
    "criterion = nn.CrossEntropyLoss()\n",
    "optimizer = torch.optim.Adam(model.parameters())"
   ]
  },
  {
   "cell_type": "code",
   "execution_count": 130,
   "metadata": {},
   "outputs": [],
   "source": [
    "num_workers = 0\n",
    "# the number of samples per batch to load\n",
    "batch_size = 20\n",
    "# percentage of training set to use as validation\n",
    "valid_size = 0.2\n",
    "\n",
    "num_train = len(train_data)\n",
    "indices = list(range(num_train))\n",
    "np.random.shuffle(indices)\n",
    "split = int(np.floor(valid_size * num_train))\n",
    "train_idx, valid_idx = indices[split:], indices[:split]\n",
    "\n",
    "train_sampler = SubsetRandomSampler(train_idx)\n",
    "valid_sampler = SubsetRandomSampler(valid_idx)\n",
    "\n",
    "train_loader = torch.utils.data.DataLoader(train_data, batch_size=batch_size,\n",
    "    sampler=train_sampler, num_workers=num_workers,)\n",
    "valid_loader = torch.utils.data.DataLoader(train_data, batch_size=batch_size, \n",
    "    sampler=valid_sampler, num_workers=num_workers)\n",
    "test_loader = torch.utils.data.DataLoader(test_data, batch_size=batch_size, \n",
    "    num_workers=num_workers)"
   ]
  },
  {
   "cell_type": "code",
   "execution_count": 131,
   "metadata": {},
   "outputs": [
    {
     "data": {
      "text/plain": [
       "10736"
      ]
     },
     "execution_count": 131,
     "metadata": {},
     "output_type": "execute_result"
    }
   ],
   "source": [
    "# Test features\n",
    "test_master = get_rnn_features(iswda_dataset)\n",
    "testLabels = iswda_dataset['is_phishing'].to_numpy()\n",
    "test_data=CustomDataset(features=test_master, labels=testLabels)\n",
    "test_iswda_loader = torch.utils.data.DataLoader(test_data, batch_size=batch_size, num_workers=num_workers)"
   ]
  },
  {
   "cell_type": "code",
   "execution_count": 165,
   "metadata": {
    "scrolled": true
   },
   "outputs": [
    {
     "name": "stdout",
     "output_type": "stream",
     "text": [
      "Accuracy scores on validation data :\n",
      "0.981901328469163 0.979114627887083 0.980385485015866 0.980720871751886\n",
      "precision for 1 -  0.990234375 Recall for 1 -  0.9657142857142857\n",
      "525 525\n",
      "668 525\n",
      "precision for 0 -  0.973568281938326 Recall for 0 -  0.9925149700598802\n",
      "Accuracy scores on iwsda data :\n",
      "0.6489123832113621 0.8176078463429644 0.6648926916280815 0.7828282828282829\n",
      "precision for 1 -  0.3193717277486911 Recall for 1 -  0.8621908127208481\n",
      "1132 1132\n",
      "9164 1132\n",
      "precision for 0 -  0.9784530386740331 Recall for 0 -  0.7730248799650807\n",
      "Epoch: 1 \tTraining Loss: 0.020530 \tValidation Loss: 0.009622\n",
      "Validation loss decreased (inf --> 0.009622).  Saving model ...\n",
      "Accuracy scores on validation data :\n",
      "0.981901328469163 0.979114627887083 0.980385485015866 0.980720871751886\n",
      "precision for 1 -  0.990234375 Recall for 1 -  0.9657142857142857\n",
      "525 525\n",
      "668 525\n",
      "precision for 0 -  0.973568281938326 Recall for 0 -  0.9925149700598802\n",
      "Accuracy scores on iwsda data :\n",
      "0.6472624719586426 0.8159164452080888 0.6621046098431176 0.7798174048174048\n",
      "precision for 1 -  0.3161645610625202 Recall for 1 -  0.8621908127208481\n",
      "1132 1132\n",
      "9164 1132\n",
      "precision for 0 -  0.9783603828547649 Recall for 0 -  0.7696420776953296\n",
      "Epoch: 2 \tTraining Loss: 0.020594 \tValidation Loss: 0.009607\n",
      "Validation loss decreased (0.009622 --> 0.009607).  Saving model ...\n",
      "Accuracy scores on validation data :\n",
      "0.9662231970461705 0.970945252352438 0.9678693739156073 0.9681475272422464\n",
      "precision for 1 -  0.9371633752244165 Recall for 1 -  0.9942857142857143\n",
      "525 525\n",
      "668 525\n",
      "precision for 0 -  0.9952830188679245 Recall for 0 -  0.9476047904191617\n",
      "Accuracy scores on iwsda data :\n",
      "0.6397915082164838 0.8087897333705558 0.6485893910701361 0.7643745143745144\n",
      "precision for 1 -  0.3011677934849416 Recall for 1 -  0.8657243816254417\n",
      "1132 1132\n",
      "9164 1132\n",
      "precision for 0 -  0.9784152229480261 Recall for 0 -  0.75185508511567\n",
      "Epoch: 3 \tTraining Loss: 0.020432 \tValidation Loss: 0.009683\n",
      "Accuracy scores on validation data :\n",
      "0.981901328469163 0.979114627887083 0.980385485015866 0.980720871751886\n",
      "precision for 1 -  0.990234375 Recall for 1 -  0.9657142857142857\n",
      "525 525\n",
      "668 525\n",
      "precision for 0 -  0.973568281938326 Recall for 0 -  0.9925149700598802\n",
      "Accuracy scores on iwsda data :\n",
      "0.6460813240551604 0.8149395468209448 0.6599900214848715 0.7773892773892774\n",
      "precision for 1 -  0.31374438021836865 Recall for 1 -  0.8630742049469965\n",
      "1132 1132\n",
      "9164 1132\n",
      "precision for 0 -  0.9784182678919521 Recall for 0 -  0.766804888694893\n",
      "Epoch: 4 \tTraining Loss: 0.020452 \tValidation Loss: 0.009674\n",
      "Accuracy scores on validation data :\n",
      "0.981901328469163 0.979114627887083 0.980385485015866 0.980720871751886\n",
      "precision for 1 -  0.990234375 Recall for 1 -  0.9657142857142857\n",
      "525 525\n",
      "668 525\n",
      "precision for 0 -  0.973568281938326 Recall for 0 -  0.9925149700598802\n",
      "Accuracy scores on iwsda data :\n",
      "0.6468418382925186 0.815479954592637 0.6613885204385321 0.7790404040404041\n",
      "precision for 1 -  0.31534733441033924 Recall for 1 -  0.8621908127208481\n",
      "1132 1132\n",
      "9164 1132\n",
      "precision for 0 -  0.978336342174698 Recall for 0 -  0.768769096464426\n",
      "Epoch: 5 \tTraining Loss: 0.020626 \tValidation Loss: 0.009900\n",
      "Accuracy scores on validation data :\n",
      "0.981901328469163 0.979114627887083 0.980385485015866 0.980720871751886\n",
      "precision for 1 -  0.990234375 Recall for 1 -  0.9657142857142857\n",
      "525 525\n",
      "668 525\n",
      "precision for 0 -  0.973568281938326 Recall for 0 -  0.9925149700598802\n",
      "Accuracy scores on iwsda data :\n",
      "0.645077155991273 0.813624869476967 0.6583604400463878 0.7757381507381508\n",
      "precision for 1 -  0.3119207414509428 Recall for 1 -  0.8621908127208481\n",
      "1132 1132\n",
      "9164 1132\n",
      "precision for 0 -  0.9782335705316032 Recall for 0 -  0.765058926233086\n",
      "Epoch: 6 \tTraining Loss: 0.020423 \tValidation Loss: 0.009752\n",
      "Accuracy scores on validation data :\n",
      "0.9662231970461705 0.970945252352438 0.9678693739156073 0.9681475272422464\n",
      "precision for 1 -  0.9371633752244165 Recall for 1 -  0.9942857142857143\n",
      "525 525\n",
      "668 525\n",
      "precision for 0 -  0.9952830188679245 Recall for 0 -  0.9476047904191617\n",
      "Accuracy scores on iwsda data :\n",
      "0.638264828417259 0.8072672217140971 0.645692743447304 0.760975135975136\n",
      "precision for 1 -  0.29808568824065634 Recall for 1 -  0.8666077738515902\n",
      "1132 1132\n",
      "9164 1132\n",
      "precision for 0 -  0.9784439685938615 Recall for 0 -  0.7479266695766041\n",
      "Epoch: 7 \tTraining Loss: 0.020656 \tValidation Loss: 0.009835\n",
      "Accuracy scores on validation data :\n",
      "0.981901328469163 0.979114627887083 0.980385485015866 0.980720871751886\n",
      "precision for 1 -  0.990234375 Recall for 1 -  0.9657142857142857\n",
      "525 525\n",
      "668 525\n",
      "precision for 0 -  0.973568281938326 Recall for 0 -  0.9925149700598802\n",
      "Accuracy scores on iwsda data :\n",
      "0.6456907513445069 0.8147810683377728 0.6592187866911385 0.7764180264180264\n",
      "precision for 1 -  0.31285988483685223 Recall for 1 -  0.8639575971731449\n",
      "1132 1132\n",
      "9164 1132\n",
      "precision for 0 -  0.9785216178521617 Recall for 0 -  0.7656045395024007\n",
      "Epoch: 8 \tTraining Loss: 0.020748 \tValidation Loss: 0.009824\n",
      "Accuracy scores on validation data :\n",
      "0.9653797307594615 0.970196749358426 0.9670289955206715 0.9673093042749371\n",
      "precision for 1 -  0.9354838709677419 Recall for 1 -  0.9942857142857143\n",
      "525 525\n",
      "668 525\n",
      "precision for 0 -  0.9952755905511811 Recall for 0 -  0.9461077844311377\n",
      "Accuracy scores on iwsda data :\n",
      "0.6363482967781441 0.8057005597259517 0.6417734445721566 0.7561188811188811\n",
      "precision for 1 -  0.29399462204959664 Recall for 1 -  0.8692579505300353\n",
      "1132 1132\n",
      "9164 1132\n",
      "precision for 0 -  0.9787019715066916 Recall for 0 -  0.7421431689218682\n",
      "Epoch: 9 \tTraining Loss: 0.020386 \tValidation Loss: 0.010107\n",
      "Accuracy scores on validation data :\n",
      "0.9662231970461705 0.970945252352438 0.9678693739156073 0.9681475272422464\n",
      "precision for 1 -  0.9371633752244165 Recall for 1 -  0.9942857142857143\n",
      "525 525\n",
      "668 525\n",
      "precision for 0 -  0.9952830188679245 Recall for 0 -  0.9476047904191617\n"
     ]
    },
    {
     "ename": "KeyboardInterrupt",
     "evalue": "",
     "output_type": "error",
     "traceback": [
      "\u001b[0;31m---------------------------------------------------------------------------\u001b[0m",
      "\u001b[0;31mKeyboardInterrupt\u001b[0m                         Traceback (most recent call last)",
      "\u001b[0;32m<ipython-input-165-c7fe1da2a9da>\u001b[0m in \u001b[0;36m<module>\u001b[0;34m\u001b[0m\n\u001b[1;32m     48\u001b[0m     \u001b[0mprint_scores\u001b[0m\u001b[0;34m(\u001b[0m\u001b[0my_test\u001b[0m\u001b[0;34m,\u001b[0m \u001b[0mpreds\u001b[0m\u001b[0;34m)\u001b[0m\u001b[0;34m\u001b[0m\u001b[0;34m\u001b[0m\u001b[0m\n\u001b[1;32m     49\u001b[0m \u001b[0;34m\u001b[0m\u001b[0m\n\u001b[0;32m---> 50\u001b[0;31m     \u001b[0mypred_iswda_gru\u001b[0m \u001b[0;34m=\u001b[0m \u001b[0mpredict\u001b[0m\u001b[0;34m(\u001b[0m\u001b[0mmodel\u001b[0m\u001b[0;34m,\u001b[0m \u001b[0mtest_iswda_loader\u001b[0m\u001b[0;34m)\u001b[0m\u001b[0;34m\u001b[0m\u001b[0;34m\u001b[0m\u001b[0m\n\u001b[0m\u001b[1;32m     51\u001b[0m     \u001b[0mprint\u001b[0m\u001b[0;34m(\u001b[0m\u001b[0;34m\"Accuracy scores on iwsda data :\"\u001b[0m\u001b[0;34m)\u001b[0m\u001b[0;34m\u001b[0m\u001b[0;34m\u001b[0m\u001b[0m\n\u001b[1;32m     52\u001b[0m     \u001b[0mprint_scores\u001b[0m\u001b[0;34m(\u001b[0m\u001b[0mtestLabels\u001b[0m\u001b[0;34m,\u001b[0m \u001b[0mypred_iswda_gru\u001b[0m\u001b[0;34m)\u001b[0m\u001b[0;34m\u001b[0m\u001b[0;34m\u001b[0m\u001b[0m\n",
      "\u001b[0;32m<ipython-input-133-26942388e976>\u001b[0m in \u001b[0;36mpredict\u001b[0;34m(model, dataloader)\u001b[0m\n\u001b[1;32m      1\u001b[0m \u001b[0;32mdef\u001b[0m \u001b[0mpredict\u001b[0m\u001b[0;34m(\u001b[0m\u001b[0mmodel\u001b[0m\u001b[0;34m,\u001b[0m \u001b[0mdataloader\u001b[0m\u001b[0;34m)\u001b[0m\u001b[0;34m:\u001b[0m\u001b[0;34m\u001b[0m\u001b[0;34m\u001b[0m\u001b[0m\n\u001b[1;32m      2\u001b[0m     \u001b[0mprediction_list\u001b[0m \u001b[0;34m=\u001b[0m \u001b[0;34m[\u001b[0m\u001b[0;34m]\u001b[0m\u001b[0;34m\u001b[0m\u001b[0;34m\u001b[0m\u001b[0m\n\u001b[0;32m----> 3\u001b[0;31m     \u001b[0;32mfor\u001b[0m \u001b[0mdata\u001b[0m\u001b[0;34m,\u001b[0m \u001b[0mtarget\u001b[0m \u001b[0;32min\u001b[0m \u001b[0mdataloader\u001b[0m\u001b[0;34m:\u001b[0m\u001b[0;34m\u001b[0m\u001b[0;34m\u001b[0m\u001b[0m\n\u001b[0m\u001b[1;32m      4\u001b[0m         \u001b[0moutputs\u001b[0m \u001b[0;34m=\u001b[0m \u001b[0mmodel\u001b[0m\u001b[0;34m(\u001b[0m\u001b[0mdata\u001b[0m\u001b[0;34m)\u001b[0m\u001b[0;34m\u001b[0m\u001b[0;34m\u001b[0m\u001b[0m\n\u001b[1;32m      5\u001b[0m         \u001b[0m_\u001b[0m\u001b[0;34m,\u001b[0m \u001b[0mpredicted\u001b[0m \u001b[0;34m=\u001b[0m \u001b[0mtorch\u001b[0m\u001b[0;34m.\u001b[0m\u001b[0mmax\u001b[0m\u001b[0;34m(\u001b[0m\u001b[0moutputs\u001b[0m\u001b[0;34m.\u001b[0m\u001b[0mdata\u001b[0m\u001b[0;34m,\u001b[0m \u001b[0;36m1\u001b[0m\u001b[0;34m)\u001b[0m\u001b[0;34m\u001b[0m\u001b[0;34m\u001b[0m\u001b[0m\n",
      "\u001b[0;32m~/opt/anaconda3/lib/python3.8/site-packages/torch/utils/data/dataloader.py\u001b[0m in \u001b[0;36m__next__\u001b[0;34m(self)\u001b[0m\n\u001b[1;32m    631\u001b[0m                 \u001b[0;31m# TODO(https://github.com/pytorch/pytorch/issues/76750)\u001b[0m\u001b[0;34m\u001b[0m\u001b[0;34m\u001b[0m\u001b[0;34m\u001b[0m\u001b[0m\n\u001b[1;32m    632\u001b[0m                 \u001b[0mself\u001b[0m\u001b[0;34m.\u001b[0m\u001b[0m_reset\u001b[0m\u001b[0;34m(\u001b[0m\u001b[0;34m)\u001b[0m  \u001b[0;31m# type: ignore[call-arg]\u001b[0m\u001b[0;34m\u001b[0m\u001b[0;34m\u001b[0m\u001b[0m\n\u001b[0;32m--> 633\u001b[0;31m             \u001b[0mdata\u001b[0m \u001b[0;34m=\u001b[0m \u001b[0mself\u001b[0m\u001b[0;34m.\u001b[0m\u001b[0m_next_data\u001b[0m\u001b[0;34m(\u001b[0m\u001b[0;34m)\u001b[0m\u001b[0;34m\u001b[0m\u001b[0;34m\u001b[0m\u001b[0m\n\u001b[0m\u001b[1;32m    634\u001b[0m             \u001b[0mself\u001b[0m\u001b[0;34m.\u001b[0m\u001b[0m_num_yielded\u001b[0m \u001b[0;34m+=\u001b[0m \u001b[0;36m1\u001b[0m\u001b[0;34m\u001b[0m\u001b[0;34m\u001b[0m\u001b[0m\n\u001b[1;32m    635\u001b[0m             \u001b[0;32mif\u001b[0m \u001b[0mself\u001b[0m\u001b[0;34m.\u001b[0m\u001b[0m_dataset_kind\u001b[0m \u001b[0;34m==\u001b[0m \u001b[0m_DatasetKind\u001b[0m\u001b[0;34m.\u001b[0m\u001b[0mIterable\u001b[0m \u001b[0;32mand\u001b[0m\u001b[0;31m \u001b[0m\u001b[0;31m\\\u001b[0m\u001b[0;34m\u001b[0m\u001b[0;34m\u001b[0m\u001b[0m\n",
      "\u001b[0;32m~/opt/anaconda3/lib/python3.8/site-packages/torch/utils/data/dataloader.py\u001b[0m in \u001b[0;36m_next_data\u001b[0;34m(self)\u001b[0m\n\u001b[1;32m    675\u001b[0m     \u001b[0;32mdef\u001b[0m \u001b[0m_next_data\u001b[0m\u001b[0;34m(\u001b[0m\u001b[0mself\u001b[0m\u001b[0;34m)\u001b[0m\u001b[0;34m:\u001b[0m\u001b[0;34m\u001b[0m\u001b[0;34m\u001b[0m\u001b[0m\n\u001b[1;32m    676\u001b[0m         \u001b[0mindex\u001b[0m \u001b[0;34m=\u001b[0m \u001b[0mself\u001b[0m\u001b[0;34m.\u001b[0m\u001b[0m_next_index\u001b[0m\u001b[0;34m(\u001b[0m\u001b[0;34m)\u001b[0m  \u001b[0;31m# may raise StopIteration\u001b[0m\u001b[0;34m\u001b[0m\u001b[0;34m\u001b[0m\u001b[0m\n\u001b[0;32m--> 677\u001b[0;31m         \u001b[0mdata\u001b[0m \u001b[0;34m=\u001b[0m \u001b[0mself\u001b[0m\u001b[0;34m.\u001b[0m\u001b[0m_dataset_fetcher\u001b[0m\u001b[0;34m.\u001b[0m\u001b[0mfetch\u001b[0m\u001b[0;34m(\u001b[0m\u001b[0mindex\u001b[0m\u001b[0;34m)\u001b[0m  \u001b[0;31m# may raise StopIteration\u001b[0m\u001b[0;34m\u001b[0m\u001b[0;34m\u001b[0m\u001b[0m\n\u001b[0m\u001b[1;32m    678\u001b[0m         \u001b[0;32mif\u001b[0m \u001b[0mself\u001b[0m\u001b[0;34m.\u001b[0m\u001b[0m_pin_memory\u001b[0m\u001b[0;34m:\u001b[0m\u001b[0;34m\u001b[0m\u001b[0;34m\u001b[0m\u001b[0m\n\u001b[1;32m    679\u001b[0m             \u001b[0mdata\u001b[0m \u001b[0;34m=\u001b[0m \u001b[0m_utils\u001b[0m\u001b[0;34m.\u001b[0m\u001b[0mpin_memory\u001b[0m\u001b[0;34m.\u001b[0m\u001b[0mpin_memory\u001b[0m\u001b[0;34m(\u001b[0m\u001b[0mdata\u001b[0m\u001b[0;34m,\u001b[0m \u001b[0mself\u001b[0m\u001b[0;34m.\u001b[0m\u001b[0m_pin_memory_device\u001b[0m\u001b[0;34m)\u001b[0m\u001b[0;34m\u001b[0m\u001b[0;34m\u001b[0m\u001b[0m\n",
      "\u001b[0;32m~/opt/anaconda3/lib/python3.8/site-packages/torch/utils/data/_utils/fetch.py\u001b[0m in \u001b[0;36mfetch\u001b[0;34m(self, possibly_batched_index)\u001b[0m\n\u001b[1;32m     49\u001b[0m                 \u001b[0mdata\u001b[0m \u001b[0;34m=\u001b[0m \u001b[0mself\u001b[0m\u001b[0;34m.\u001b[0m\u001b[0mdataset\u001b[0m\u001b[0;34m.\u001b[0m\u001b[0m__getitems__\u001b[0m\u001b[0;34m(\u001b[0m\u001b[0mpossibly_batched_index\u001b[0m\u001b[0;34m)\u001b[0m\u001b[0;34m\u001b[0m\u001b[0;34m\u001b[0m\u001b[0m\n\u001b[1;32m     50\u001b[0m             \u001b[0;32melse\u001b[0m\u001b[0;34m:\u001b[0m\u001b[0;34m\u001b[0m\u001b[0;34m\u001b[0m\u001b[0m\n\u001b[0;32m---> 51\u001b[0;31m                 \u001b[0mdata\u001b[0m \u001b[0;34m=\u001b[0m \u001b[0;34m[\u001b[0m\u001b[0mself\u001b[0m\u001b[0;34m.\u001b[0m\u001b[0mdataset\u001b[0m\u001b[0;34m[\u001b[0m\u001b[0midx\u001b[0m\u001b[0;34m]\u001b[0m \u001b[0;32mfor\u001b[0m \u001b[0midx\u001b[0m \u001b[0;32min\u001b[0m \u001b[0mpossibly_batched_index\u001b[0m\u001b[0;34m]\u001b[0m\u001b[0;34m\u001b[0m\u001b[0;34m\u001b[0m\u001b[0m\n\u001b[0m\u001b[1;32m     52\u001b[0m         \u001b[0;32melse\u001b[0m\u001b[0;34m:\u001b[0m\u001b[0;34m\u001b[0m\u001b[0;34m\u001b[0m\u001b[0m\n\u001b[1;32m     53\u001b[0m             \u001b[0mdata\u001b[0m \u001b[0;34m=\u001b[0m \u001b[0mself\u001b[0m\u001b[0;34m.\u001b[0m\u001b[0mdataset\u001b[0m\u001b[0;34m[\u001b[0m\u001b[0mpossibly_batched_index\u001b[0m\u001b[0;34m]\u001b[0m\u001b[0;34m\u001b[0m\u001b[0;34m\u001b[0m\u001b[0m\n",
      "\u001b[0;32m~/opt/anaconda3/lib/python3.8/site-packages/torch/utils/data/_utils/fetch.py\u001b[0m in \u001b[0;36m<listcomp>\u001b[0;34m(.0)\u001b[0m\n\u001b[1;32m     49\u001b[0m                 \u001b[0mdata\u001b[0m \u001b[0;34m=\u001b[0m \u001b[0mself\u001b[0m\u001b[0;34m.\u001b[0m\u001b[0mdataset\u001b[0m\u001b[0;34m.\u001b[0m\u001b[0m__getitems__\u001b[0m\u001b[0;34m(\u001b[0m\u001b[0mpossibly_batched_index\u001b[0m\u001b[0;34m)\u001b[0m\u001b[0;34m\u001b[0m\u001b[0;34m\u001b[0m\u001b[0m\n\u001b[1;32m     50\u001b[0m             \u001b[0;32melse\u001b[0m\u001b[0;34m:\u001b[0m\u001b[0;34m\u001b[0m\u001b[0;34m\u001b[0m\u001b[0m\n\u001b[0;32m---> 51\u001b[0;31m                 \u001b[0mdata\u001b[0m \u001b[0;34m=\u001b[0m \u001b[0;34m[\u001b[0m\u001b[0mself\u001b[0m\u001b[0;34m.\u001b[0m\u001b[0mdataset\u001b[0m\u001b[0;34m[\u001b[0m\u001b[0midx\u001b[0m\u001b[0;34m]\u001b[0m \u001b[0;32mfor\u001b[0m \u001b[0midx\u001b[0m \u001b[0;32min\u001b[0m \u001b[0mpossibly_batched_index\u001b[0m\u001b[0;34m]\u001b[0m\u001b[0;34m\u001b[0m\u001b[0;34m\u001b[0m\u001b[0m\n\u001b[0m\u001b[1;32m     52\u001b[0m         \u001b[0;32melse\u001b[0m\u001b[0;34m:\u001b[0m\u001b[0;34m\u001b[0m\u001b[0;34m\u001b[0m\u001b[0m\n\u001b[1;32m     53\u001b[0m             \u001b[0mdata\u001b[0m \u001b[0;34m=\u001b[0m \u001b[0mself\u001b[0m\u001b[0;34m.\u001b[0m\u001b[0mdataset\u001b[0m\u001b[0;34m[\u001b[0m\u001b[0mpossibly_batched_index\u001b[0m\u001b[0;34m]\u001b[0m\u001b[0;34m\u001b[0m\u001b[0;34m\u001b[0m\u001b[0m\n",
      "\u001b[0;32m<ipython-input-98-e5b97592532d>\u001b[0m in \u001b[0;36m__getitem__\u001b[0;34m(self, index)\u001b[0m\n\u001b[1;32m      8\u001b[0m \u001b[0;34m\u001b[0m\u001b[0m\n\u001b[1;32m      9\u001b[0m     \u001b[0;32mdef\u001b[0m \u001b[0m__getitem__\u001b[0m\u001b[0;34m(\u001b[0m\u001b[0mself\u001b[0m\u001b[0;34m,\u001b[0m \u001b[0mindex\u001b[0m\u001b[0;34m)\u001b[0m\u001b[0;34m:\u001b[0m\u001b[0;34m\u001b[0m\u001b[0;34m\u001b[0m\u001b[0m\n\u001b[0;32m---> 10\u001b[0;31m         \u001b[0mfeature\u001b[0m \u001b[0;34m=\u001b[0m \u001b[0mtorch\u001b[0m\u001b[0;34m.\u001b[0m\u001b[0mtensor\u001b[0m\u001b[0;34m(\u001b[0m\u001b[0mself\u001b[0m\u001b[0;34m.\u001b[0m\u001b[0mfeatures\u001b[0m\u001b[0;34m[\u001b[0m\u001b[0mindex\u001b[0m\u001b[0;34m]\u001b[0m\u001b[0;34m,\u001b[0m \u001b[0mdtype\u001b[0m\u001b[0;34m=\u001b[0m\u001b[0mtorch\u001b[0m\u001b[0;34m.\u001b[0m\u001b[0mfloat32\u001b[0m\u001b[0;34m)\u001b[0m\u001b[0;34m\u001b[0m\u001b[0;34m\u001b[0m\u001b[0m\n\u001b[0m\u001b[1;32m     11\u001b[0m         \u001b[0mlabel\u001b[0m \u001b[0;34m=\u001b[0m \u001b[0mtorch\u001b[0m\u001b[0;34m.\u001b[0m\u001b[0mtensor\u001b[0m\u001b[0;34m(\u001b[0m\u001b[0mself\u001b[0m\u001b[0;34m.\u001b[0m\u001b[0mlabels\u001b[0m\u001b[0;34m[\u001b[0m\u001b[0mindex\u001b[0m\u001b[0;34m]\u001b[0m\u001b[0;34m,\u001b[0m \u001b[0mdtype\u001b[0m\u001b[0;34m=\u001b[0m\u001b[0mtorch\u001b[0m\u001b[0;34m.\u001b[0m\u001b[0mlong\u001b[0m\u001b[0;34m)\u001b[0m\u001b[0;34m\u001b[0m\u001b[0;34m\u001b[0m\u001b[0m\n\u001b[1;32m     12\u001b[0m         \u001b[0;32mreturn\u001b[0m \u001b[0mfeature\u001b[0m\u001b[0;34m,\u001b[0m \u001b[0mlabel\u001b[0m\u001b[0;34m\u001b[0m\u001b[0;34m\u001b[0m\u001b[0m\n",
      "\u001b[0;31mKeyboardInterrupt\u001b[0m: "
     ]
    }
   ],
   "source": [
    "# number of epochs to train the model\n",
    "n_epochs = 50\n",
    "\n",
    "# initialize tracker for minimum validation loss\n",
    "valid_loss_min = np.Inf # set initial \"min\" to infinity\n",
    "\n",
    "for epoch in range(n_epochs):\n",
    "    # monitor training loss\n",
    "    train_loss = 0.0\n",
    "    valid_loss = 0.0\n",
    "    \n",
    "    # train the model \n",
    "    \n",
    "    model.train() # prep model for training\n",
    "    for data, target in train_loader:\n",
    "        # clear the gradients of all optimized variables\n",
    "        optimizer.zero_grad()\n",
    "        # forward pass: compute predicted outputs by passing inputs to the model\n",
    "        output = model(data)\n",
    "        # calculate the loss\n",
    "        loss = criterion(output, target)\n",
    "        # backward pass: compute gradient of the loss with respect to model parameters\n",
    "        loss.backward()\n",
    "        # perform a single optimization step (parameter update)\n",
    "        optimizer.step()\n",
    "        # update running training loss\n",
    "        train_loss += loss.item()*data.size(0)\n",
    "        \n",
    "        \n",
    "    # validate the model \n",
    "    \n",
    "    model.eval() # prep model for evaluation\n",
    "    for data, target in valid_loader:\n",
    "        # forward pass: compute predicted outputs by passing inputs to the model\n",
    "        output = model(data)\n",
    "        # calculate the loss\n",
    "        loss = criterion(output, target)\n",
    "        # update running validation loss \n",
    "        valid_loss += loss.item()*data.size(0)\n",
    "        \n",
    "    # printing training/validation statistics \n",
    "    # calculate average loss over an epoch\n",
    "    train_loss = train_loss/len(train_loader.dataset)\n",
    "    valid_loss = valid_loss/len(valid_loader.dataset)\n",
    "    \n",
    "    preds = predict(model, test_loader)\n",
    "    print(\"Accuracy scores on validation data :\")\n",
    "    print_scores(y_test, preds)\n",
    "\n",
    "    ypred_iswda_gru = predict(model, test_iswda_loader)\n",
    "    print(\"Accuracy scores on iwsda data :\")\n",
    "    print_scores(testLabels, ypred_iswda_gru)\n",
    "    \n",
    "    print('Epoch: {} \\tTraining Loss: {:.6f} \\tValidation Loss: {:.6f}'.format(\n",
    "        epoch+1, \n",
    "        train_loss,\n",
    "        valid_loss,\n",
    "        ))\n",
    "    \n",
    "    # saving the model if validation loss has decreased\n",
    "    if valid_loss <= valid_loss_min:\n",
    "        print('Validation loss decreased ({:.6f} --> {:.6f}).  Saving model ...'.format(\n",
    "        valid_loss_min,\n",
    "        valid_loss))\n",
    "        torch.save(model.state_dict(), 'model.pt')\n",
    "        valid_loss_min = valid_loss"
   ]
  },
  {
   "cell_type": "code",
   "execution_count": null,
   "metadata": {},
   "outputs": [],
   "source": []
  },
  {
   "cell_type": "code",
   "execution_count": 141,
   "metadata": {},
   "outputs": [
    {
     "data": {
      "text/plain": [
       "<All keys matched successfully>"
      ]
     },
     "execution_count": 141,
     "metadata": {},
     "output_type": "execute_result"
    }
   ],
   "source": [
    "model.load_state_dict(torch.load('model.pt'))"
   ]
  },
  {
   "cell_type": "code",
   "execution_count": 142,
   "metadata": {},
   "outputs": [],
   "source": []
  },
  {
   "cell_type": "code",
   "execution_count": null,
   "metadata": {},
   "outputs": [],
   "source": []
  },
  {
   "cell_type": "code",
   "execution_count": 144,
   "metadata": {},
   "outputs": [
    {
     "name": "stdout",
     "output_type": "stream",
     "text": [
      "0.33537284894837477 0.7747349823321554 0.46810781958900455 0.8064296814296814\n"
     ]
    }
   ],
   "source": [
    "print_scores(testLabels, ypred_iswda_gru)\n",
    "accuracy = accuracy_score(testLabels, ypred_iswda_gru)"
   ]
  },
  {
   "cell_type": "code",
   "execution_count": null,
   "metadata": {},
   "outputs": [],
   "source": []
  }
 ],
 "metadata": {
  "kernelspec": {
   "display_name": "Python 3",
   "language": "python",
   "name": "python3"
  },
  "language_info": {
   "codemirror_mode": {
    "name": "ipython",
    "version": 3
   },
   "file_extension": ".py",
   "mimetype": "text/x-python",
   "name": "python",
   "nbconvert_exporter": "python",
   "pygments_lexer": "ipython3",
   "version": "3.8.5"
  }
 },
 "nbformat": 4,
 "nbformat_minor": 4
}
