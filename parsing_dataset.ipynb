{
 "cells": [
  {
   "cell_type": "code",
   "execution_count": 378,
   "id": "4451dfc8-799f-4c92-83ce-2c8f17aceff8",
   "metadata": {},
   "outputs": [],
   "source": [
    "import os\n",
    "import re\n",
    "import string\n",
    "import email\n",
    "from email.header import decode_header\n",
    "import csv"
   ]
  },
  {
   "cell_type": "code",
   "execution_count": 379,
   "id": "3e538cf0-2bd8-46cc-a683-c3c92cd58d4e",
   "metadata": {},
   "outputs": [],
   "source": [
    "no_head_train_path_0 = 'IWSPA-AP-traindata/phish/'\n",
    "no_head_train_path_1 = 'IWSPA-AP-traindata/legit/'\n",
    "head_train_phish_0 = 'Dataset_Full_Header_Training/Dataset_Submit_Phish/'\n",
    "head_train_legit_1 = 'Dataset_Full_Header_Training/Dataset_Submit_Legit/'"
   ]
  },
  {
   "cell_type": "code",
   "execution_count": 380,
   "id": "e24fcb3a-0693-46e8-afb1-3a22c9a566cb",
   "metadata": {},
   "outputs": [
    {
     "data": {
      "text/plain": [
       "58"
      ]
     },
     "execution_count": 380,
     "metadata": {},
     "output_type": "execute_result"
    }
   ],
   "source": [
    "# Define the CSV filename\n",
    "csv_filename = \"IWSPA-AP-Parsed.csv\"\n",
    "\n",
    "# Write the extracted information to the CSV file\n",
    "csv_file = open(csv_filename, mode='w', newline='')\n",
    "csv_writer = csv.writer(csv_file)\n",
    "csv_writer.writerow(['email_from', 'email_to', 'email_subject', 'email_body', 'is_phishing'])"
   ]
  },
  {
   "cell_type": "code",
   "execution_count": 381,
   "id": "bc99b6ed-daa1-4936-883b-da11e17d5c0f",
   "metadata": {},
   "outputs": [],
   "source": [
    "import email\n",
    "from email.header import decode_header\n",
    "from bs4 import BeautifulSoup  # You may need to install the BeautifulSoup library\n",
    "\n",
    "def get_content(email_content, is_phishing):\n",
    "    # The email content you provided\n",
    "    # Create an EmailMessage object from the email content\n",
    "    count = 0\n",
    "    try:\n",
    "        from_address = ''\n",
    "        to_address = ''\n",
    "        subject = ''\n",
    "        msg = email.message_from_string(email_content)\n",
    "        # print(\"********\\n\",msg, \"**********\\n\")\n",
    "        # Extract the 'From' address\n",
    "        if (\"From\" in msg.keys()):\n",
    "            from_address = decode_header(msg[\"From\"])[0][0]\n",
    "        \n",
    "        # Extract the 'To' address\n",
    "        if (\"To\" in msg.keys()):\n",
    "            # print(msg[\"To\"])\n",
    "            to_address = decode_header(msg[\"To\"])[0][0]\n",
    "        \n",
    "        # Extract the 'Subject' of the email\n",
    "        if ('Subject' in msg.keys()):\n",
    "            subject = decode_header(msg[\"Subject\"])[0][0]\n",
    "        body = ''\n",
    "        # Extract the email body\n",
    "        if msg.is_multipart():\n",
    "            for part in msg.walk():\n",
    "                if part.get_content_type() == \"text/plain\":\n",
    "                    # Accumulate plain text parts from all components\n",
    "                    body += part.get_payload(decode=True).decode(part.get_content_charset() or 'windows-1251')\n",
    "                elif part.get_content_type() == \"text/html\":\n",
    "                    # If an HTML part is found, parse it and extract the text\n",
    "                    soup = BeautifulSoup(part.get_payload(decode=True).decode(part.get_content_charset() or 'windows-1251'), \"html.parser\")\n",
    "                    body += soup.get_text()\n",
    "        \n",
    "        else:\n",
    "            # If not multipart, directly extract the body\n",
    "            # print(msg.get_content_charset())\n",
    "            body = msg.get_payload(decode=True).decode('windows-1251')\n",
    "    \n",
    "        body = body.replace('\\n', ' ')\n",
    "        body = ' '.join(body.split())\n",
    "        csv_writer.writerow([from_address, to_address, subject, body, is_phishing])\n",
    "        count+=1\n",
    "    except Exception as e:\n",
    "        print(e)\n",
    "\n",
    "    return count\n",
    "    # print(\"From:\", from_address)\n",
    "    # print(\"To:\", to_address)\n",
    "    # print(\"Subject:\", subject)\n",
    "    # print(\"Body:\", body)"
   ]
  },
  {
   "cell_type": "code",
   "execution_count": 382,
   "id": "9fc9bf59-900d-4c30-a5f5-f1810ab56153",
   "metadata": {},
   "outputs": [],
   "source": [
    "def get_data(path, is_phishing):\n",
    "    # text_list = list()\n",
    "    files = os.listdir(path)\n",
    "    # print(len(files))\n",
    "    count_processed_data = 0\n",
    "    for text_file in files:\n",
    "        file_path = os.path.join(path, text_file)\n",
    "        read_file = open(file_path,'r+')\n",
    "        read_text = read_file.read()\n",
    "        read_file.close()\n",
    "        # cleaned_text = clean_text(read_text)\n",
    "        # print(text_file)\n",
    "        count_processed_data+=get_content(read_text, is_phishing)\n",
    "    return count_processed_data\n",
    "        # text_list.append(cleaned_text)"
   ]
  },
  {
   "cell_type": "code",
   "execution_count": 383,
   "id": "03c242f0-0bd4-4487-afe8-a4f7d2606355",
   "metadata": {
    "scrolled": true
   },
   "outputs": [
    {
     "data": {
      "text/plain": [
       "503"
      ]
     },
     "execution_count": 383,
     "metadata": {},
     "output_type": "execute_result"
    }
   ],
   "source": [
    "get_data(head_train_phish_0, 1)"
   ]
  },
  {
   "cell_type": "code",
   "execution_count": 384,
   "id": "23821214-c085-4eac-9bbe-7f0cabe1da34",
   "metadata": {},
   "outputs": [
    {
     "name": "stdout",
     "output_type": "stream",
     "text": [
      "'charmap' codec can't decode byte 0x98 in position 1208: character maps to <undefined>\n"
     ]
    },
    {
     "data": {
      "text/plain": [
       "4081"
      ]
     },
     "execution_count": 384,
     "metadata": {},
     "output_type": "execute_result"
    }
   ],
   "source": [
    "get_data(head_train_legit_1, 0)"
   ]
  },
  {
   "cell_type": "code",
   "execution_count": 385,
   "id": "dc91d732-e6ed-4d57-b208-86346560aa55",
   "metadata": {},
   "outputs": [
    {
     "data": {
      "text/plain": [
       "629"
      ]
     },
     "execution_count": 385,
     "metadata": {},
     "output_type": "execute_result"
    }
   ],
   "source": [
    "get_data(no_head_train_path_0, 1)"
   ]
  },
  {
   "cell_type": "code",
   "execution_count": 386,
   "id": "cd0b24fb-55ac-4e49-b96c-90f9193f9a10",
   "metadata": {},
   "outputs": [
    {
     "data": {
      "text/plain": [
       "5092"
      ]
     },
     "execution_count": 386,
     "metadata": {},
     "output_type": "execute_result"
    }
   ],
   "source": [
    "get_data(no_head_train_path_1, 0)"
   ]
  },
  {
   "cell_type": "code",
   "execution_count": null,
   "id": "ffbcbdbd-c3c4-42a9-a4aa-f238c6b92d23",
   "metadata": {},
   "outputs": [],
   "source": []
  },
  {
   "cell_type": "code",
   "execution_count": null,
   "id": "bb1cc34b-01a2-4a77-9f14-c270b297d242",
   "metadata": {},
   "outputs": [],
   "source": []
  }
 ],
 "metadata": {
  "kernelspec": {
   "display_name": "Python 3 (ipykernel)",
   "language": "python",
   "name": "python3"
  },
  "language_info": {
   "codemirror_mode": {
    "name": "ipython",
    "version": 3
   },
   "file_extension": ".py",
   "mimetype": "text/x-python",
   "name": "python",
   "nbconvert_exporter": "python",
   "pygments_lexer": "ipython3",
   "version": "3.9.2"
  }
 },
 "nbformat": 4,
 "nbformat_minor": 5
}
