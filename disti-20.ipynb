{
 "cells": [
  {
   "cell_type": "markdown",
   "metadata": {},
   "source": [
    "# Importing libraries, loading and transforming data"
   ]
  },
  {
   "cell_type": "code",
   "execution_count": 1,
   "metadata": {
    "execution": {
     "iopub.execute_input": "2023-11-26T19:55:12.933218Z",
     "iopub.status.busy": "2023-11-26T19:55:12.932890Z",
     "iopub.status.idle": "2023-11-26T19:55:31.668683Z",
     "shell.execute_reply": "2023-11-26T19:55:31.667139Z",
     "shell.execute_reply.started": "2023-11-26T19:55:12.933190Z"
    }
   },
   "outputs": [],
   "source": [
    "\n",
    "!pip install -U -q mlflow datasets>=2.14.5 nlp 2>/dev/null"
   ]
  },
  {
   "cell_type": "code",
   "execution_count": 6,
   "metadata": {
    "execution": {
     "iopub.execute_input": "2023-11-26T19:55:50.776719Z",
     "iopub.status.busy": "2023-11-26T19:55:50.776313Z",
     "iopub.status.idle": "2023-11-26T19:55:50.786126Z",
     "shell.execute_reply": "2023-11-26T19:55:50.785173Z",
     "shell.execute_reply.started": "2023-11-26T19:55:50.776683Z"
    }
   },
   "outputs": [],
   "source": [
    "import pandas as pd  \n",
    "import gc  \n",
    "import re  \n",
    "import numpy as np  \n",
    "\n",
    "import warnings \n",
    "warnings.filterwarnings(\"ignore\")  \n",
    "\n",
    "import torch  \n",
    "from transformers import AutoModel, AutoTokenizer \n",
    "from transformers import TextDataset, LineByLineTextDataset, DataCollatorForLanguageModeling, \\\n",
    "pipeline, Trainer, TrainingArguments, DataCollatorWithPadding  \n",
    "from transformers import AutoModelForSequenceClassification  \n",
    "\n",
    "from nlp import Dataset  \n",
    "from imblearn.over_sampling import RandomOverSampler  \n",
    "import datasets  \n",
    "from datasets import Dataset, Image, ClassLabel \n",
    "from transformers import pipeline  \n",
    "from bs4 import BeautifulSoup \n",
    "\n",
    "import matplotlib.pyplot as plt  \n",
    "import itertools  \n",
    "from sklearn.metrics import (  \n",
    "    accuracy_score,  \n",
    "    roc_auc_score, \n",
    "    confusion_matrix, \n",
    "    classification_report, \n",
    "    f1_score  \n",
    ")\n",
    "\n",
    "from datasets import load_metric  \n",
    "\n",
    "from tqdm import tqdm  \n",
    "tqdm.pandas() "
   ]
  },
  {
   "cell_type": "code",
   "execution_count": 7,
   "metadata": {
    "execution": {
     "iopub.execute_input": "2023-11-26T19:55:54.965623Z",
     "iopub.status.busy": "2023-11-26T19:55:54.965019Z",
     "iopub.status.idle": "2023-11-26T19:55:54.971245Z",
     "shell.execute_reply": "2023-11-26T19:55:54.970138Z",
     "shell.execute_reply.started": "2023-11-26T19:55:54.965590Z"
    }
   },
   "outputs": [],
   "source": [
    "\n",
    "train_fraction = 0.8\n",
    "\n",
    "num_train_epochs = 10\n",
    "\n",
    "learning_rate = 3e-7\n",
    "\n",
    "train_batch_size = 8\n",
    "\n",
    "eval_batch_size = 64\n",
    "\n",
    "warmup_steps = 50\n",
    "\n",
    "weight_decay = 0.02\n",
    "\n",
    "BERT_MODEL = \"distilbert-base-cased\"\n",
    "\n",
    "output_dir = \"sms-spam-detection-distilbert\""
   ]
  },
  {
   "cell_type": "code",
   "execution_count": 8,
   "metadata": {
    "execution": {
     "iopub.execute_input": "2023-11-26T19:55:55.602343Z",
     "iopub.status.busy": "2023-11-26T19:55:55.602001Z",
     "iopub.status.idle": "2023-11-26T19:55:55.825270Z",
     "shell.execute_reply": "2023-11-26T19:55:55.824254Z",
     "shell.execute_reply.started": "2023-11-26T19:55:55.602314Z"
    }
   },
   "outputs": [],
   "source": [
    "iswpadf=pd.read_csv(\"/kaggle/input/iswpa-dataset/IWSPA-AP-Parsed.csv\", encoding='latin-1')\n",
    "iswpadf = iswpadf.rename(columns={'is_phishing': 'label', 'email_body': 'title'}) # Rename the columns to standard ones\n",
    "iswpadf\n",
    "\n",
    "df_1 = iswpadf[iswpadf['label'] == 1]\n",
    "df_0 = iswpadf[iswpadf['label'] == 0]\n",
    "\n",
    "sample_size_1 = int(len(df_1) * 0.20)\n",
    "sample_size_0 = int(len(df_0) * 0.20)\n",
    "\n",
    "sampled_1 = df_1.sample(sample_size_1)\n",
    "sampled_0 = df_0.sample(sample_size_0)\n",
    "\n",
    "new_df = pd.concat([sampled_1, sampled_0])\n",
    "new_df=new_df[['label', 'title']]\n"
   ]
  },
  {
   "cell_type": "code",
   "execution_count": 9,
   "metadata": {
    "execution": {
     "iopub.execute_input": "2023-11-26T19:55:55.936662Z",
     "iopub.status.busy": "2023-11-26T19:55:55.936044Z",
     "iopub.status.idle": "2023-11-26T19:55:56.133194Z",
     "shell.execute_reply": "2023-11-26T19:55:56.132292Z",
     "shell.execute_reply.started": "2023-11-26T19:55:55.936631Z"
    }
   },
   "outputs": [
    {
     "name": "stdout",
     "output_type": "stream",
     "text": [
      "                                                  title  label\n",
      "0     Supply Quality China's EXCLUSIVE dimensions at...      1\n",
      "1                            over. SidLet me know. Thx.      0\n",
      "2     Dear Friend,Greetings to you.I wish to accost ...      1\n",
      "3     MR. CHEUNG PUIHANG SENG BANK LTD.DES VOEUX RD....      1\n",
      "4             Not a surprising assessment from Embassy.      0\n",
      "...                                                 ...    ...\n",
      "5324  Ciao Ale, grazie mille. Buona giornata. ciao A...      0\n",
      "2412  Hey gang, we're looking for coverage of Jake H...      0\n",
      "2221  Outgoing call to +1 (202) 738-0059 (Other) +1 ...      0\n",
      "9915  <x-flowed> Dear Eystein and Peck, sorry for th...      0\n",
      "9654  In Honor of the Nov. 9th National Socialist Ma...      0\n",
      "\n",
      "[13987 rows x 2 columns]\n",
      "There are 1761 duplicates found in the dataset\n",
      "(12225, 2)\n",
      "CPU times: user 170 ms, sys: 14 ms, total: 184 ms\n",
      "Wall time: 183 ms\n"
     ]
    },
    {
     "data": {
      "text/html": [
       "<div>\n",
       "<style scoped>\n",
       "    .dataframe tbody tr th:only-of-type {\n",
       "        vertical-align: middle;\n",
       "    }\n",
       "\n",
       "    .dataframe tbody tr th {\n",
       "        vertical-align: top;\n",
       "    }\n",
       "\n",
       "    .dataframe thead th {\n",
       "        text-align: right;\n",
       "    }\n",
       "</style>\n",
       "<table border=\"1\" class=\"dataframe\">\n",
       "  <thead>\n",
       "    <tr style=\"text-align: right;\">\n",
       "      <th></th>\n",
       "      <th>3250</th>\n",
       "      <th>2401</th>\n",
       "      <th>8826</th>\n",
       "      <th>6393</th>\n",
       "      <th>8037</th>\n",
       "    </tr>\n",
       "  </thead>\n",
       "  <tbody>\n",
       "    <tr>\n",
       "      <th>label</th>\n",
       "      <td>1</td>\n",
       "      <td>0</td>\n",
       "      <td>0</td>\n",
       "      <td>0</td>\n",
       "      <td>0</td>\n",
       "    </tr>\n",
       "    <tr>\n",
       "      <th>title</th>\n",
       "      <td>&lt;DIV&gt;&lt;DIV&gt;&lt;DIV&gt;&lt;STRONG&gt;&lt;STRONG&gt;&lt;STRONG&gt;&lt;STRONG...</td>\n",
       "      <td>I talked w him and will download tomorrow.</td>\n",
       "      <td>B6Thursday January 5 2012 12:26 PMH: latest in...</td>\n",
       "      <td>Yes I will get on it.</td>\n",
       "      <td>Latest from Gene.</td>\n",
       "    </tr>\n",
       "  </tbody>\n",
       "</table>\n",
       "</div>"
      ],
      "text/plain": [
       "                                                    3250  \\\n",
       "label                                                  1   \n",
       "title  <DIV><DIV><DIV><STRONG><STRONG><STRONG><STRONG...   \n",
       "\n",
       "                                             2401  \\\n",
       "label                                           0   \n",
       "title  I talked w him and will download tomorrow.   \n",
       "\n",
       "                                                    8826  \\\n",
       "label                                                  0   \n",
       "title  B6Thursday January 5 2012 12:26 PMH: latest in...   \n",
       "\n",
       "                        6393               8037  \n",
       "label                      0                  0  \n",
       "title  Yes I will get on it.  Latest from Gene.  "
      ]
     },
     "execution_count": 9,
     "metadata": {},
     "output_type": "execute_result"
    }
   ],
   "source": [
    "%%time\n",
    "df = pd.read_csv(\"/kaggle/input/radev-data/fraud_email_.csv\", encoding='latin-1')\n",
    "df = df.rename(columns={'Class': 'label', 'Text': 'title'}) \n",
    "\n",
    "df=pd.concat([df,new_df])\n",
    "print(df)\n",
    "item0 = df.shape[0] \n",
    "df = df.drop_duplicates() \n",
    "item1 = df.shape[0] \n",
    "print(f\"There are {item0-item1} duplicates found in the dataset\") \n",
    "\n",
    "df = df.rename(columns={'Class': 'label', 'Text': 'title'})\n",
    "\n",
    "df = df[['label', 'title']] \n",
    "df['label'] = df['label'].astype('str')\n",
    "\n",
    "\n",
    "df = df[~df['title'].isnull()] \n",
    "df = df[~df['label'].isnull()]  \n",
    "print(df.shape)  \n",
    "df.sample(5).T  \n",
    "\n"
   ]
  },
  {
   "cell_type": "code",
   "execution_count": 10,
   "metadata": {
    "execution": {
     "iopub.execute_input": "2023-11-26T19:55:56.645266Z",
     "iopub.status.busy": "2023-11-26T19:55:56.644637Z",
     "iopub.status.idle": "2023-11-26T19:55:56.663583Z",
     "shell.execute_reply": "2023-11-26T19:55:56.662671Z",
     "shell.execute_reply.started": "2023-11-26T19:55:56.645233Z"
    }
   },
   "outputs": [
    {
     "name": "stdout",
     "output_type": "stream",
     "text": [
      "<class 'pandas.core.frame.DataFrame'>\n",
      "Index: 12225 entries, 0 to 9654\n",
      "Data columns (total 2 columns):\n",
      " #   Column  Non-Null Count  Dtype \n",
      "---  ------  --------------  ----- \n",
      " 0   label   12225 non-null  object\n",
      " 1   title   12225 non-null  object\n",
      "dtypes: object(2)\n",
      "memory usage: 286.5+ KB\n"
     ]
    }
   ],
   "source": [
    "df.info()"
   ]
  },
  {
   "cell_type": "code",
   "execution_count": 11,
   "metadata": {
    "execution": {
     "iopub.execute_input": "2023-11-26T19:55:57.044818Z",
     "iopub.status.busy": "2023-11-26T19:55:57.044461Z",
     "iopub.status.idle": "2023-11-26T19:55:57.071060Z",
     "shell.execute_reply": "2023-11-26T19:55:57.070080Z",
     "shell.execute_reply.started": "2023-11-26T19:55:57.044790Z"
    }
   },
   "outputs": [
    {
     "name": "stdout",
     "output_type": "stream",
     "text": [
      "['0' '1']\n",
      "{'0': 0.79620945681907, '1': 1.3439973614775726}\n"
     ]
    }
   ],
   "source": [
    "from sklearn.utils.class_weight import compute_class_weight\n",
    "\n",
    "classes = np.unique(df[['label']])\n",
    "\n",
    "print(classes)\n",
    "\n",
    "weights = compute_class_weight(class_weight='balanced', classes=classes, y=df['label'])\n",
    "\n",
    "class_weights = dict(zip(classes, weights))\n",
    "\n",
    "print(class_weights)"
   ]
  },
  {
   "cell_type": "code",
   "execution_count": 12,
   "metadata": {
    "execution": {
     "iopub.execute_input": "2023-11-26T19:55:57.406809Z",
     "iopub.status.busy": "2023-11-26T19:55:57.406395Z",
     "iopub.status.idle": "2023-11-26T19:55:57.414306Z",
     "shell.execute_reply": "2023-11-26T19:55:57.413399Z",
     "shell.execute_reply.started": "2023-11-26T19:55:57.406780Z"
    }
   },
   "outputs": [
    {
     "name": "stdout",
     "output_type": "stream",
     "text": [
      "Mapping of IDs to Labels: {0: '0', 1: '1'} \n",
      "\n",
      "Mapping of Labels to IDs: {'0': 0, '1': 1}\n"
     ]
    }
   ],
   "source": [
    "labels_list = sorted(list(df['label'].unique()))\n",
    "\n",
    "label2id, id2label = dict(), dict()\n",
    "\n",
    "for i, label in enumerate(labels_list):\n",
    "    label2id[label] = i \n",
    "    id2label[i] = label  \n",
    "\n",
    "print(\"Mapping of IDs to Labels:\", id2label, '\\n')\n",
    "print(\"Mapping of Labels to IDs:\", label2id)"
   ]
  },
  {
   "cell_type": "code",
   "execution_count": 13,
   "metadata": {
    "execution": {
     "iopub.execute_input": "2023-11-26T19:55:58.690046Z",
     "iopub.status.busy": "2023-11-26T19:55:58.689045Z",
     "iopub.status.idle": "2023-11-26T19:55:58.696364Z",
     "shell.execute_reply": "2023-11-26T19:55:58.695489Z",
     "shell.execute_reply.started": "2023-11-26T19:55:58.690000Z"
    }
   },
   "outputs": [
    {
     "data": {
      "text/plain": [
       "[0.79620945681907, 1.3439973614775726]"
      ]
     },
     "execution_count": 13,
     "metadata": {},
     "output_type": "execute_result"
    }
   ],
   "source": [
    "ordered_weigths = [class_weights[x] for x in id2label.values()]\n",
    "ordered_weigths"
   ]
  },
  {
   "cell_type": "code",
   "execution_count": 14,
   "metadata": {
    "execution": {
     "iopub.execute_input": "2023-11-26T19:55:59.135787Z",
     "iopub.status.busy": "2023-11-26T19:55:59.134994Z",
     "iopub.status.idle": "2023-11-26T19:55:59.196187Z",
     "shell.execute_reply": "2023-11-26T19:55:59.195354Z",
     "shell.execute_reply.started": "2023-11-26T19:55:59.135753Z"
    }
   },
   "outputs": [],
   "source": [
    "dataset = Dataset.from_pandas(df)"
   ]
  },
  {
   "cell_type": "code",
   "execution_count": 15,
   "metadata": {
    "execution": {
     "iopub.execute_input": "2023-11-26T19:55:59.606175Z",
     "iopub.status.busy": "2023-11-26T19:55:59.605802Z",
     "iopub.status.idle": "2023-11-26T19:55:59.774042Z",
     "shell.execute_reply": "2023-11-26T19:55:59.773139Z",
     "shell.execute_reply.started": "2023-11-26T19:55:59.606143Z"
    }
   },
   "outputs": [
    {
     "data": {
      "application/vnd.jupyter.widget-view+json": {
       "model_id": "45b1faad483e4ad89eed2f6f8548f6dc",
       "version_major": 2,
       "version_minor": 0
      },
      "text/plain": [
       "Map:   0%|          | 0/12225 [00:00<?, ? examples/s]"
      ]
     },
     "metadata": {},
     "output_type": "display_data"
    },
    {
     "data": {
      "application/vnd.jupyter.widget-view+json": {
       "model_id": "5927fa478d4d4818a4f80b49db1f3625",
       "version_major": 2,
       "version_minor": 0
      },
      "text/plain": [
       "Casting the dataset:   0%|          | 0/12225 [00:00<?, ? examples/s]"
      ]
     },
     "metadata": {},
     "output_type": "display_data"
    }
   ],
   "source": [
    "ClassLabels = ClassLabel(num_classes=len(labels_list), names=labels_list)\n",
    "\n",
    "def map_label2id(example):\n",
    "    example['label'] = ClassLabels.str2int(example['label'])\n",
    "    return example\n",
    "\n",
    "dataset = dataset.map(map_label2id, batched=True)\n",
    "\n",
    "dataset = dataset.cast_column('label', ClassLabels)\n",
    "\n",
    "dataset = dataset.train_test_split(test_size=1-train_fraction, shuffle=True) \n",
    "\n",
    "df_train = dataset['train']\n",
    "\n",
    "df_test = dataset['test']"
   ]
  },
  {
   "cell_type": "code",
   "execution_count": 16,
   "metadata": {
    "execution": {
     "iopub.execute_input": "2023-11-26T19:55:59.811386Z",
     "iopub.status.busy": "2023-11-26T19:55:59.811096Z",
     "iopub.status.idle": "2023-11-26T19:56:00.102812Z",
     "shell.execute_reply": "2023-11-26T19:56:00.101736Z",
     "shell.execute_reply.started": "2023-11-26T19:55:59.811360Z"
    }
   },
   "outputs": [
    {
     "data": {
      "text/plain": [
       "243"
      ]
     },
     "execution_count": 16,
     "metadata": {},
     "output_type": "execute_result"
    }
   ],
   "source": [
    "del df\n",
    "\n",
    "gc.collect()"
   ]
  },
  {
   "cell_type": "code",
   "execution_count": 17,
   "metadata": {
    "execution": {
     "iopub.execute_input": "2023-11-26T19:56:00.325908Z",
     "iopub.status.busy": "2023-11-26T19:56:00.325096Z",
     "iopub.status.idle": "2023-11-26T19:56:01.661239Z",
     "shell.execute_reply": "2023-11-26T19:56:01.660094Z",
     "shell.execute_reply.started": "2023-11-26T19:56:00.325873Z"
    }
   },
   "outputs": [
    {
     "data": {
      "application/vnd.jupyter.widget-view+json": {
       "model_id": "7eee5f2237f74888b557cef6c40586a5",
       "version_major": 2,
       "version_minor": 0
      },
      "text/plain": [
       "tokenizer_config.json:   0%|          | 0.00/29.0 [00:00<?, ?B/s]"
      ]
     },
     "metadata": {},
     "output_type": "display_data"
    },
    {
     "data": {
      "application/vnd.jupyter.widget-view+json": {
       "model_id": "dee8c940157442579530d278ed9e4936",
       "version_major": 2,
       "version_minor": 0
      },
      "text/plain": [
       "config.json:   0%|          | 0.00/465 [00:00<?, ?B/s]"
      ]
     },
     "metadata": {},
     "output_type": "display_data"
    },
    {
     "data": {
      "application/vnd.jupyter.widget-view+json": {
       "model_id": "155bdd199fd7439b902d3297cd9e33fd",
       "version_major": 2,
       "version_minor": 0
      },
      "text/plain": [
       "vocab.txt:   0%|          | 0.00/213k [00:00<?, ?B/s]"
      ]
     },
     "metadata": {},
     "output_type": "display_data"
    },
    {
     "data": {
      "application/vnd.jupyter.widget-view+json": {
       "model_id": "92ce9f7ab3bf433a95309d2a2a9ebe0e",
       "version_major": 2,
       "version_minor": 0
      },
      "text/plain": [
       "tokenizer.json:   0%|          | 0.00/436k [00:00<?, ?B/s]"
      ]
     },
     "metadata": {},
     "output_type": "display_data"
    }
   ],
   "source": [
    "\n",
    "tokenizer = AutoTokenizer.from_pretrained(BERT_MODEL, use_fast=True, low_cpu_mem_usage=False)"
   ]
  },
  {
   "cell_type": "code",
   "execution_count": 18,
   "metadata": {
    "execution": {
     "iopub.execute_input": "2023-11-26T19:56:01.663365Z",
     "iopub.status.busy": "2023-11-26T19:56:01.663074Z",
     "iopub.status.idle": "2023-11-26T19:56:10.025586Z",
     "shell.execute_reply": "2023-11-26T19:56:10.024496Z",
     "shell.execute_reply.started": "2023-11-26T19:56:01.663340Z"
    }
   },
   "outputs": [
    {
     "data": {
      "application/vnd.jupyter.widget-view+json": {
       "model_id": "ca819dea1bb24944a9b029c0532c40ef",
       "version_major": 2,
       "version_minor": 0
      },
      "text/plain": [
       "Map:   0%|          | 0/9780 [00:00<?, ? examples/s]"
      ]
     },
     "metadata": {},
     "output_type": "display_data"
    },
    {
     "data": {
      "application/vnd.jupyter.widget-view+json": {
       "model_id": "e972635f19a34f6d959b3760b0641580",
       "version_major": 2,
       "version_minor": 0
      },
      "text/plain": [
       "Map:   0%|          | 0/2445 [00:00<?, ? examples/s]"
      ]
     },
     "metadata": {},
     "output_type": "display_data"
    }
   ],
   "source": [
    "\n",
    "\n",
    "def preprocess_function(examples):\n",
    "   \n",
    "    return tokenizer(examples[\"title\"], truncation=True)\n",
    "\n",
    "df_train = df_train.map(preprocess_function, batched=True)\n",
    "df_test = df_test.map(preprocess_function, batched=True)"
   ]
  },
  {
   "cell_type": "code",
   "execution_count": 19,
   "metadata": {
    "execution": {
     "iopub.execute_input": "2023-11-26T19:56:10.026871Z",
     "iopub.status.busy": "2023-11-26T19:56:10.026601Z",
     "iopub.status.idle": "2023-11-26T19:56:10.036978Z",
     "shell.execute_reply": "2023-11-26T19:56:10.036204Z",
     "shell.execute_reply.started": "2023-11-26T19:56:10.026845Z"
    }
   },
   "outputs": [],
   "source": [
    "df_train = df_train.remove_columns(['title'])\n",
    "\n",
    "df_test = df_test.remove_columns(['title'])"
   ]
  },
  {
   "cell_type": "code",
   "execution_count": 20,
   "metadata": {
    "execution": {
     "iopub.execute_input": "2023-11-26T19:56:10.039045Z",
     "iopub.status.busy": "2023-11-26T19:56:10.038754Z",
     "iopub.status.idle": "2023-11-26T19:56:10.046834Z",
     "shell.execute_reply": "2023-11-26T19:56:10.046007Z",
     "shell.execute_reply.started": "2023-11-26T19:56:10.039019Z"
    }
   },
   "outputs": [
    {
     "data": {
      "text/plain": [
       "Dataset({\n",
       "    features: ['label', '__index_level_0__', 'input_ids', 'attention_mask'],\n",
       "    num_rows: 9780\n",
       "})"
      ]
     },
     "execution_count": 20,
     "metadata": {},
     "output_type": "execute_result"
    }
   ],
   "source": [
    "df_train"
   ]
  },
  {
   "cell_type": "code",
   "execution_count": 21,
   "metadata": {
    "execution": {
     "iopub.execute_input": "2023-11-26T19:56:10.048198Z",
     "iopub.status.busy": "2023-11-26T19:56:10.047945Z",
     "iopub.status.idle": "2023-11-26T19:56:10.057680Z",
     "shell.execute_reply": "2023-11-26T19:56:10.056663Z",
     "shell.execute_reply.started": "2023-11-26T19:56:10.048166Z"
    }
   },
   "outputs": [
    {
     "data": {
      "text/plain": [
       "Dataset({\n",
       "    features: ['label', '__index_level_0__', 'input_ids', 'attention_mask'],\n",
       "    num_rows: 2445\n",
       "})"
      ]
     },
     "execution_count": 21,
     "metadata": {},
     "output_type": "execute_result"
    }
   ],
   "source": [
    "df_test"
   ]
  },
  {
   "cell_type": "code",
   "execution_count": 22,
   "metadata": {
    "execution": {
     "iopub.execute_input": "2023-11-26T19:56:10.643889Z",
     "iopub.status.busy": "2023-11-26T19:56:10.643532Z",
     "iopub.status.idle": "2023-11-26T19:56:10.648556Z",
     "shell.execute_reply": "2023-11-26T19:56:10.647628Z",
     "shell.execute_reply.started": "2023-11-26T19:56:10.643860Z"
    }
   },
   "outputs": [],
   "source": [
    "data_collator = DataCollatorWithPadding(tokenizer=tokenizer)"
   ]
  },
  {
   "cell_type": "code",
   "execution_count": 23,
   "metadata": {
    "execution": {
     "iopub.execute_input": "2023-11-26T19:56:11.152093Z",
     "iopub.status.busy": "2023-11-26T19:56:11.151404Z",
     "iopub.status.idle": "2023-11-26T19:56:11.165950Z",
     "shell.execute_reply": "2023-11-26T19:56:11.164826Z",
     "shell.execute_reply.started": "2023-11-26T19:56:11.152060Z"
    }
   },
   "outputs": [
    {
     "data": {
      "text/plain": [
       "'[CLS] Sir, Accept my apologies for writing to you in this mode for it might be of inconvenience to you but due to my quest for an honest and reliable international assistance concerning a business here in my country Nigeria I have no other option than to go this length. I need the effectiveness of your professionalism in accomplishing this very business. I am DR. MOHAMMED BELLO Director / coordinator Forex and computer operations department of the Afex Bank of Africa PLC. I am writing this letter to ask your support and cooperation to carry out this business opportunity in my department. We discovered an abandoned sum of $ 42. 500, 000. 00 ( forty two million, Five hundred thousand United States Dollars ) in an account that belongs to one of our customer in Afex Bank of Nigeria, Late Monsieur. Ives Laurent ( a French citizen and an Engineer executing major Federal contract with governments of West African sub region ). He died with a fellow business associate in a ghastly auto crash last October and his remains have since been incarcerated. Since his death, we have been expecting his next of kin to come over and put claims as the next of kin and beneficiary to the resources in Monsieur. Ives Laurent account, for it is against the ethics and norms of the finance institution to claim such resources without a beneficiary unless proclaimed by the government. The federal government of Nigeria has given directives to finance institutions to declare adamant accounts that has stayed more than 8months in their custody as they intend to use it to pay off her military peace keeping force ( ECOMOG ) who fought in War ravaged African countries precisely and as the case may be, Late Monsieur. Ives Laurent account fell into this category thus the necessity for contacting you for I am determined to move this fund out as the rigorous and rash economic decision and policies has really turned we government workers to mere civil laborers. I have worked for almost a decade and half and I have nothing to show as reaps and rewards of my hard earned labor. As I need a next of kin / beneficiary and financial assistance to re - claim this resources for I cannot take on this project alone. My attorney and I have propose a commission of 25 % out of the total resources for your kind assistance and five 5 % has been mapped out to be reimbursed to both parties as sundry expenses incurred in the course of this business. To commence this transaction [SEP]'"
      ]
     },
     "execution_count": 23,
     "metadata": {},
     "output_type": "execute_result"
    }
   ],
   "source": [
    "tokenizer.decode(df_train[0]['input_ids'])"
   ]
  },
  {
   "cell_type": "markdown",
   "metadata": {},
   "source": [
    "# Loading and training model"
   ]
  },
  {
   "cell_type": "code",
   "execution_count": 24,
   "metadata": {
    "execution": {
     "iopub.execute_input": "2023-11-26T19:56:11.811538Z",
     "iopub.status.busy": "2023-11-26T19:56:11.811093Z",
     "iopub.status.idle": "2023-11-26T19:56:13.757720Z",
     "shell.execute_reply": "2023-11-26T19:56:13.756766Z",
     "shell.execute_reply.started": "2023-11-26T19:56:11.811497Z"
    }
   },
   "outputs": [
    {
     "data": {
      "application/vnd.jupyter.widget-view+json": {
       "model_id": "c991523be02446beac82783c523bfefe",
       "version_major": 2,
       "version_minor": 0
      },
      "text/plain": [
       "model.safetensors:   0%|          | 0.00/263M [00:00<?, ?B/s]"
      ]
     },
     "metadata": {},
     "output_type": "display_data"
    },
    {
     "name": "stderr",
     "output_type": "stream",
     "text": [
      "Some weights of DistilBertForSequenceClassification were not initialized from the model checkpoint at distilbert-base-cased and are newly initialized: ['pre_classifier.bias', 'classifier.bias', 'classifier.weight', 'pre_classifier.weight']\n",
      "You should probably TRAIN this model on a down-stream task to be able to use it for predictions and inference.\n"
     ]
    },
    {
     "name": "stdout",
     "output_type": "stream",
     "text": [
      "65.783042\n"
     ]
    }
   ],
   "source": [
    "model = AutoModelForSequenceClassification.from_pretrained(\n",
    "    BERT_MODEL, num_labels=len(labels_list),\n",
    "    output_attentions=False,  \n",
    "    output_hidden_states=False  \n",
    ")\n",
    "\n",
    "model.config.id2label = id2label  \n",
    "model.config.label2id = label2id  \n",
    "\n",
    "print(model.num_parameters(only_trainable=True) / 1e6)"
   ]
  },
  {
   "cell_type": "code",
   "execution_count": 25,
   "metadata": {
    "execution": {
     "iopub.execute_input": "2023-11-26T19:56:13.759969Z",
     "iopub.status.busy": "2023-11-26T19:56:13.759613Z",
     "iopub.status.idle": "2023-11-26T19:56:14.334597Z",
     "shell.execute_reply": "2023-11-26T19:56:14.333758Z",
     "shell.execute_reply.started": "2023-11-26T19:56:13.759934Z"
    }
   },
   "outputs": [
    {
     "data": {
      "application/vnd.jupyter.widget-view+json": {
       "model_id": "a292c30be99d44e5909daeab2e9cabc8",
       "version_major": 2,
       "version_minor": 0
      },
      "text/plain": [
       "Downloading builder script:   0%|          | 0.00/1.65k [00:00<?, ?B/s]"
      ]
     },
     "metadata": {},
     "output_type": "display_data"
    }
   ],
   "source": [
    "metric = load_metric(\"accuracy\")\n",
    "\n",
    "\n",
    "def compute_metrics(eval_pred):\n",
    "    logits, labels = eval_pred\n",
    "    \n",
    "    predictions = np.argmax(logits, axis=-1)\n",
    "    \n",
    "    accuracy = metric.compute(predictions=predictions, references=labels)\n",
    "    \n",
    "    return accuracy"
   ]
  },
  {
   "cell_type": "code",
   "execution_count": 26,
   "metadata": {
    "execution": {
     "iopub.execute_input": "2023-11-26T19:56:14.336048Z",
     "iopub.status.busy": "2023-11-26T19:56:14.335784Z",
     "iopub.status.idle": "2023-11-26T19:56:14.342552Z",
     "shell.execute_reply": "2023-11-26T19:56:14.341665Z",
     "shell.execute_reply.started": "2023-11-26T19:56:14.336023Z"
    }
   },
   "outputs": [],
   "source": [
    "class WeightedTrainer(Trainer):\n",
    "    def compute_loss(self, model, inputs, return_outputs=False):\n",
    "        labels = inputs.pop(\"labels\")\n",
    "        outputs = model(**inputs)\n",
    "        logits = outputs.get(\"logits\")\n",
    "        loss_fct = torch.nn.CrossEntropyLoss(weight=torch.tensor(ordered_weigths, device=model.device).float())\n",
    "        loss = loss_fct(logits.view(-1, self.model.config.num_labels), labels.view(-1))\n",
    "        return (loss, outputs) if return_outputs else loss"
   ]
  },
  {
   "cell_type": "code",
   "execution_count": 27,
   "metadata": {
    "execution": {
     "iopub.execute_input": "2023-11-26T19:56:14.345910Z",
     "iopub.status.busy": "2023-11-26T19:56:14.345082Z",
     "iopub.status.idle": "2023-11-26T19:56:19.845645Z",
     "shell.execute_reply": "2023-11-26T19:56:19.844864Z",
     "shell.execute_reply.started": "2023-11-26T19:56:14.345883Z"
    }
   },
   "outputs": [],
   "source": [
    "# Create TrainingArguments to configure the training process\n",
    "training_args = TrainingArguments(\n",
    "    output_dir=output_dir,  # Directory to save the model checkpoints and logs\n",
    "    logging_dir='./logs',  # Directory to store training logs\n",
    "    num_train_epochs=num_train_epochs,  # Number of training epochs\n",
    "    per_device_train_batch_size=train_batch_size,  # Batch size for training data\n",
    "    per_device_eval_batch_size=eval_batch_size,  # Batch size for evaluation data\n",
    "    logging_strategy='steps',  # Logging frequency during training (steps or epoch)\n",
    "    logging_first_step=True,  # Log the first training step\n",
    "    load_best_model_at_end=True,  # Load the best model at the end of training\n",
    "    logging_steps=1,  # Log every training step (useful for debugging)\n",
    "    learning_rate=learning_rate, # Set the learning rate for the optimizer.\n",
    "    evaluation_strategy='epoch',  # Evaluation frequency (epoch or steps)\n",
    "    warmup_steps=warmup_steps,  # Number of warmup steps for the learning rate\n",
    "    weight_decay=weight_decay,  # Weight decay for regularization\n",
    "    eval_steps=1,  # Evaluate every training step (useful for debugging)\n",
    "    save_strategy='epoch',  # Save model checkpoints every epoch\n",
    "    save_total_limit=1,  # Limit the number of saved checkpoints to save space\n",
    "    report_to=\"mlflow\",  # Log training metrics to MLflow\n",
    ")\n",
    "\n",
    "\n",
    "trainer = WeightedTrainer(\n",
    "    model=model,  # The pretrained or custom model to be trained\n",
    "    args=training_args,  # TrainingArguments for configuring training\n",
    "    compute_metrics=compute_metrics,  # Function for computing evaluation metrics\n",
    "    train_dataset=df_train,  # Training dataset\n",
    "    eval_dataset=df_test,  # Evaluation dataset\n",
    "    data_collator=data_collator  # Data collator for batching and preprocessing\n",
    ")"
   ]
  },
  {
   "cell_type": "code",
   "execution_count": 28,
   "metadata": {
    "execution": {
     "iopub.execute_input": "2023-11-26T19:56:19.847149Z",
     "iopub.status.busy": "2023-11-26T19:56:19.846773Z",
     "iopub.status.idle": "2023-11-26T19:56:44.880180Z",
     "shell.execute_reply": "2023-11-26T19:56:44.879186Z",
     "shell.execute_reply.started": "2023-11-26T19:56:19.847117Z"
    }
   },
   "outputs": [
    {
     "name": "stderr",
     "output_type": "stream",
     "text": [
      "You're using a DistilBertTokenizerFast tokenizer. Please note that with a fast tokenizer, using the `__call__` method is faster than using a method to encode the text followed by a call to the `pad` method to get a padded encoding.\n"
     ]
    },
    {
     "data": {
      "text/html": [
       "\n",
       "    <div>\n",
       "      \n",
       "      <progress value='78' max='39' style='width:300px; height:20px; vertical-align: middle;'></progress>\n",
       "      [39/39 05:22]\n",
       "    </div>\n",
       "    "
      ],
      "text/plain": [
       "<IPython.core.display.HTML object>"
      ]
     },
     "metadata": {},
     "output_type": "display_data"
    },
    {
     "data": {
      "text/plain": [
       "{'eval_loss': 0.700161337852478,\n",
       " 'eval_accuracy': 0.6265848670756646,\n",
       " 'eval_runtime': 24.9301,\n",
       " 'eval_samples_per_second': 98.074,\n",
       " 'eval_steps_per_second': 1.564}"
      ]
     },
     "execution_count": 28,
     "metadata": {},
     "output_type": "execute_result"
    }
   ],
   "source": [
    "trainer.evaluate()"
   ]
  },
  {
   "cell_type": "code",
   "execution_count": 29,
   "metadata": {
    "execution": {
     "iopub.execute_input": "2023-11-26T19:56:44.881841Z",
     "iopub.status.busy": "2023-11-26T19:56:44.881413Z",
     "iopub.status.idle": "2023-11-26T20:47:01.528951Z",
     "shell.execute_reply": "2023-11-26T20:47:01.528077Z",
     "shell.execute_reply.started": "2023-11-26T19:56:44.881777Z"
    }
   },
   "outputs": [
    {
     "data": {
      "text/html": [
       "\n",
       "    <div>\n",
       "      \n",
       "      <progress value='12230' max='12230' style='width:300px; height:20px; vertical-align: middle;'></progress>\n",
       "      [12230/12230 50:15, Epoch 10/10]\n",
       "    </div>\n",
       "    <table border=\"1\" class=\"dataframe\">\n",
       "  <thead>\n",
       " <tr style=\"text-align: left;\">\n",
       "      <th>Epoch</th>\n",
       "      <th>Training Loss</th>\n",
       "      <th>Validation Loss</th>\n",
       "      <th>Accuracy</th>\n",
       "    </tr>\n",
       "  </thead>\n",
       "  <tbody>\n",
       "    <tr>\n",
       "      <td>1</td>\n",
       "      <td>0.434900</td>\n",
       "      <td>0.344561</td>\n",
       "      <td>0.907566</td>\n",
       "    </tr>\n",
       "    <tr>\n",
       "      <td>2</td>\n",
       "      <td>0.467900</td>\n",
       "      <td>0.218107</td>\n",
       "      <td>0.941922</td>\n",
       "    </tr>\n",
       "    <tr>\n",
       "      <td>3</td>\n",
       "      <td>0.882100</td>\n",
       "      <td>0.152759</td>\n",
       "      <td>0.955010</td>\n",
       "    </tr>\n",
       "    <tr>\n",
       "      <td>4</td>\n",
       "      <td>0.020800</td>\n",
       "      <td>0.121247</td>\n",
       "      <td>0.963599</td>\n",
       "    </tr>\n",
       "    <tr>\n",
       "      <td>5</td>\n",
       "      <td>0.263000</td>\n",
       "      <td>0.101931</td>\n",
       "      <td>0.970552</td>\n",
       "    </tr>\n",
       "    <tr>\n",
       "      <td>6</td>\n",
       "      <td>0.007700</td>\n",
       "      <td>0.091590</td>\n",
       "      <td>0.974233</td>\n",
       "    </tr>\n",
       "    <tr>\n",
       "      <td>7</td>\n",
       "      <td>0.003000</td>\n",
       "      <td>0.086196</td>\n",
       "      <td>0.976687</td>\n",
       "    </tr>\n",
       "    <tr>\n",
       "      <td>8</td>\n",
       "      <td>0.033000</td>\n",
       "      <td>0.084211</td>\n",
       "      <td>0.978732</td>\n",
       "    </tr>\n",
       "    <tr>\n",
       "      <td>9</td>\n",
       "      <td>0.090900</td>\n",
       "      <td>0.082801</td>\n",
       "      <td>0.979550</td>\n",
       "    </tr>\n",
       "    <tr>\n",
       "      <td>10</td>\n",
       "      <td>0.002800</td>\n",
       "      <td>0.082558</td>\n",
       "      <td>0.979141</td>\n",
       "    </tr>\n",
       "  </tbody>\n",
       "</table><p>"
      ],
      "text/plain": [
       "<IPython.core.display.HTML object>"
      ]
     },
     "metadata": {},
     "output_type": "display_data"
    },
    {
     "data": {
      "text/plain": [
       "TrainOutput(global_step=12230, training_loss=0.17084757430303404, metrics={'train_runtime': 3016.2734, 'train_samples_per_second': 32.424, 'train_steps_per_second': 4.055, 'total_flos': 1.2623431079649024e+16, 'train_loss': 0.17084757430303404, 'epoch': 10.0})"
      ]
     },
     "execution_count": 29,
     "metadata": {},
     "output_type": "execute_result"
    }
   ],
   "source": [
    "trainer.train()"
   ]
  },
  {
   "cell_type": "code",
   "execution_count": 33,
   "metadata": {
    "execution": {
     "iopub.execute_input": "2023-11-26T20:48:04.699412Z",
     "iopub.status.busy": "2023-11-26T20:48:04.699033Z",
     "iopub.status.idle": "2023-11-26T20:48:28.261483Z",
     "shell.execute_reply": "2023-11-26T20:48:28.260454Z",
     "shell.execute_reply.started": "2023-11-26T20:48:04.699380Z"
    }
   },
   "outputs": [
    {
     "data": {
      "text/html": [],
      "text/plain": [
       "<IPython.core.display.HTML object>"
      ]
     },
     "metadata": {},
     "output_type": "display_data"
    },
    {
     "data": {
      "text/plain": [
       "{'eval_loss': 0.08255771547555923,\n",
       " 'eval_accuracy': 0.9791411042944785,\n",
       " 'eval_runtime': 23.5504,\n",
       " 'eval_samples_per_second': 103.82,\n",
       " 'eval_steps_per_second': 1.656,\n",
       " 'epoch': 10.0}"
      ]
     },
     "execution_count": 33,
     "metadata": {},
     "output_type": "execute_result"
    }
   ],
   "source": [
    "trainer.evaluate()"
   ]
  },
  {
   "cell_type": "code",
   "execution_count": 34,
   "metadata": {
    "execution": {
     "iopub.execute_input": "2023-11-26T20:52:16.398299Z",
     "iopub.status.busy": "2023-11-26T20:52:16.397785Z",
     "iopub.status.idle": "2023-11-26T20:52:39.561492Z",
     "shell.execute_reply": "2023-11-26T20:52:39.560483Z",
     "shell.execute_reply.started": "2023-11-26T20:52:16.398255Z"
    }
   },
   "outputs": [
    {
     "name": "stdout",
     "output_type": "stream",
     "text": [
      "{'test_loss': 0.08255771547555923, 'test_accuracy': 0.9791411042944785, 'test_runtime': 23.1507, 'test_samples_per_second': 105.613, 'test_steps_per_second': 1.685}\n"
     ]
    }
   ],
   "source": [
    "outputs = trainer.predict(df_test)\n",
    "\n",
    "print(outputs.metrics)"
   ]
  },
  {
   "cell_type": "code",
   "execution_count": 35,
   "metadata": {
    "execution": {
     "iopub.execute_input": "2023-11-26T20:52:39.564085Z",
     "iopub.status.busy": "2023-11-26T20:52:39.563741Z",
     "iopub.status.idle": "2023-11-26T20:52:39.909950Z",
     "shell.execute_reply": "2023-11-26T20:52:39.908878Z",
     "shell.execute_reply.started": "2023-11-26T20:52:39.564053Z"
    }
   },
   "outputs": [
    {
     "name": "stdout",
     "output_type": "stream",
     "text": [
      "Accuracy: 0.9791\n",
      "F1 Score: 0.9776\n"
     ]
    },
    {
     "data": {
      "image/png": "[encoded data removed]",
      "text/plain": [
       "<Figure size 800x600 with 2 Axes>"
      ]
     },
     "metadata": {},
     "output_type": "display_data"
    },
    {
     "name": "stdout",
     "output_type": "stream",
     "text": [
      "\n",
      "Classification report:\n",
      "\n",
      "              precision    recall  f1-score   support\n",
      "\n",
      "           0     0.9787    0.9883    0.9834      1532\n",
      "           1     0.9800    0.9639    0.9718       913\n",
      "\n",
      "    accuracy                         0.9791      2445\n",
      "   macro avg     0.9793    0.9761    0.9776      2445\n",
      "weighted avg     0.9791    0.9791    0.9791      2445\n",
      "\n"
     ]
    }
   ],
   "source": [
    "y_true = outputs.label_ids\n",
    "\n",
    "y_pred = outputs.predictions.argmax(1)\n",
    "\n",
    "def plot_confusion_matrix(cm, classes, title='Confusion Matrix', cmap=plt.cm.Blues, figsize=(10, 8), is_norm=True):\n",
    "    \n",
    "    plt.figure(figsize=figsize)\n",
    "    \n",
    "    \n",
    "    plt.imshow(cm, interpolation='nearest', cmap=cmap)\n",
    "    plt.title(title)\n",
    "    plt.colorbar()\n",
    "\n",
    "    tick_marks = np.arange(len(classes))\n",
    "    plt.xticks(tick_marks, classes, rotation=90)\n",
    "    plt.yticks(tick_marks, classes)\n",
    "    \n",
    "    if is_norm:\n",
    "        fmt = '.3f'\n",
    "    else:\n",
    "        fmt = '.0f'\n",
    "    thresh = cm.max() / 2.0\n",
    "    for i, j in itertools.product(range(cm.shape[0]), range(cm.shape[1])):\n",
    "        plt.text(j, i, format(cm[i, j], fmt), horizontalalignment=\"center\", color=\"white\" if cm[i, j] > thresh else \"black\")\n",
    "\n",
    "    plt.ylabel('True label')\n",
    "    plt.xlabel('Predicted label')\n",
    "\n",
    "    plt.tight_layout()\n",
    "    plt.show()\n",
    "\n",
    "accuracy = accuracy_score(y_true, y_pred)\n",
    "f1 = f1_score(y_true, y_pred, average='macro')\n",
    "\n",
    "print(f\"Accuracy: {accuracy:.4f}\")\n",
    "print(f\"F1 Score: {f1:.4f}\")\n",
    "\n",
    "if len(labels_list) <= 120:\n",
    "    cm = confusion_matrix(y_true, y_pred, normalize='true')\n",
    "\n",
    "    plot_confusion_matrix(cm, labels_list, figsize=(8, 6))\n",
    "\n",
    "print()\n",
    "print(\"Classification report:\")\n",
    "print()\n",
    "print(classification_report(y_true, y_pred, target_names=labels_list, digits=4))"
   ]
  },
  {
   "cell_type": "markdown",
   "metadata": {},
   "source": [
    "# Saving the model and checking its performance with a sample input"
   ]
  },
  {
   "cell_type": "code",
   "execution_count": 36,
   "metadata": {
    "execution": {
     "iopub.execute_input": "2023-11-26T20:52:45.770629Z",
     "iopub.status.busy": "2023-11-26T20:52:45.770255Z",
     "iopub.status.idle": "2023-11-26T20:52:46.355398Z",
     "shell.execute_reply": "2023-11-26T20:52:46.354597Z",
     "shell.execute_reply.started": "2023-11-26T20:52:45.770596Z"
    }
   },
   "outputs": [],
   "source": [
    "trainer.save_model()"
   ]
  },
  {
   "cell_type": "code",
   "execution_count": 37,
   "metadata": {
    "execution": {
     "iopub.execute_input": "2023-11-26T20:52:49.180019Z",
     "iopub.status.busy": "2023-11-26T20:52:49.179374Z",
     "iopub.status.idle": "2023-11-26T20:52:49.195635Z",
     "shell.execute_reply": "2023-11-26T20:52:49.194575Z",
     "shell.execute_reply.started": "2023-11-26T20:52:49.179985Z"
    }
   },
   "outputs": [
    {
     "data": {
      "text/plain": [
       "('./sms-spam-detection-distilbert/vocab.txt',)"
      ]
     },
     "execution_count": 37,
     "metadata": {},
     "output_type": "execute_result"
    }
   ],
   "source": [
    "tokenizer.save_vocabulary(save_directory=f\"./{output_dir}\")"
   ]
  },
  {
   "cell_type": "code",
   "execution_count": 38,
   "metadata": {
    "execution": {
     "iopub.execute_input": "2023-11-26T20:52:49.533848Z",
     "iopub.status.busy": "2023-11-26T20:52:49.533500Z",
     "iopub.status.idle": "2023-11-26T20:52:50.503108Z",
     "shell.execute_reply": "2023-11-26T20:52:50.501691Z",
     "shell.execute_reply.started": "2023-11-26T20:52:49.533819Z"
    }
   },
   "outputs": [
    {
     "data": {
      "text/plain": [
       "[{'label': '0', 'score': 0.9966498017311096},\n",
       " {'label': '1', 'score': 0.003350190818309784}]"
      ]
     },
     "execution_count": 38,
     "metadata": {},
     "output_type": "execute_result"
    }
   ],
   "source": [
    "pipe = pipeline(\"text-classification\", output_dir, tokenizer=BERT_MODEL)\n",
    "sample_title = '''Elon Musk buys Twitter, and so can you'''\n",
    "pipe(sample_title, top_k=10)"
   ]
  },
  {
   "cell_type": "code",
   "execution_count": null,
   "metadata": {},
   "outputs": [],
   "source": []
  },
  {
   "cell_type": "code",
   "execution_count": 40,
   "metadata": {
    "execution": {
     "iopub.execute_input": "2023-11-26T20:52:55.216506Z",
     "iopub.status.busy": "2023-11-26T20:52:55.216128Z",
     "iopub.status.idle": "2023-11-26T20:52:55.471825Z",
     "shell.execute_reply": "2023-11-26T20:52:55.470883Z",
     "shell.execute_reply.started": "2023-11-26T20:52:55.216473Z"
    }
   },
   "outputs": [
    {
     "name": "stdout",
     "output_type": "stream",
     "text": [
      "There are 1019 duplicates found in the dataset\n",
      "(9275, 2)\n",
      "CPU times: user 220 ms, sys: 20 ms, total: 240 ms\n",
      "Wall time: 242 ms\n"
     ]
    },
    {
     "data": {
      "text/html": [
       "<div>\n",
       "<style scoped>\n",
       "    .dataframe tbody tr th:only-of-type {\n",
       "        vertical-align: middle;\n",
       "    }\n",
       "\n",
       "    .dataframe tbody tr th {\n",
       "        vertical-align: top;\n",
       "    }\n",
       "\n",
       "    .dataframe thead th {\n",
       "        text-align: right;\n",
       "    }\n",
       "</style>\n",
       "<table border=\"1\" class=\"dataframe\">\n",
       "  <thead>\n",
       "    <tr style=\"text-align: right;\">\n",
       "      <th></th>\n",
       "      <th>1384</th>\n",
       "      <th>5288</th>\n",
       "      <th>5840</th>\n",
       "      <th>7103</th>\n",
       "      <th>1073</th>\n",
       "    </tr>\n",
       "  </thead>\n",
       "  <tbody>\n",
       "    <tr>\n",
       "      <th>label</th>\n",
       "      <td>0</td>\n",
       "      <td>0</td>\n",
       "      <td>0</td>\n",
       "      <td>0</td>\n",
       "      <td>0</td>\n",
       "    </tr>\n",
       "    <tr>\n",
       "      <th>title</th>\n",
       "      <td>Finance Guest Account (GUEST)'s trip approval ...</td>\n",
       "      <td>ST. 1st Class Herring, Its not a problem, I ca...</td>\n",
       "      <td>\"Thanks\" Ben for this, hi all and happy new ye...</td>\n",
       "      <td>fatto Da: Lucia Rana [mailto:l.rana@hackingtea...</td>\n",
       "      <td>To be automatically unsubscribed from this lis...</td>\n",
       "    </tr>\n",
       "  </tbody>\n",
       "</table>\n",
       "</div>"
      ],
      "text/plain": [
       "                                                    1384  \\\n",
       "label                                                  0   \n",
       "title  Finance Guest Account (GUEST)'s trip approval ...   \n",
       "\n",
       "                                                    5288  \\\n",
       "label                                                  0   \n",
       "title  ST. 1st Class Herring, Its not a problem, I ca...   \n",
       "\n",
       "                                                    5840  \\\n",
       "label                                                  0   \n",
       "title  \"Thanks\" Ben for this, hi all and happy new ye...   \n",
       "\n",
       "                                                    7103  \\\n",
       "label                                                  0   \n",
       "title  fatto Da: Lucia Rana [mailto:l.rana@hackingtea...   \n",
       "\n",
       "                                                    1073  \n",
       "label                                                  0  \n",
       "title  To be automatically unsubscribed from this lis...  "
      ]
     },
     "execution_count": 40,
     "metadata": {},
     "output_type": "execute_result"
    }
   ],
   "source": [
    "%%time\n",
    "df = pd.read_csv(\"/kaggle/input/iswpa-dataset/IWSPA-AP-Parsed.csv\", encoding='latin-1')\n",
    "\n",
    "item0 = df.shape[0]  \n",
    "df = df.drop_duplicates() \n",
    "item1 = df.shape[0]  \n",
    "print(f\"There are {item0-item1} duplicates found in the dataset\") \n",
    "\n",
    "df = df.rename(columns={'is_phishing': 'label', 'email_body': 'title'}) \n",
    "\n",
    "df = df[['label', 'title']] \n",
    "df['label'] = df['label'].astype('str')\n",
    "\n",
    "\n",
    "df = df[~df['title'].isnull()]  \n",
    "df = df[~df['label'].isnull()] \n",
    "\n",
    "print(df.shape) \n",
    "df.sample(5).T  "
   ]
  },
  {
   "cell_type": "code",
   "execution_count": 41,
   "metadata": {
    "execution": {
     "iopub.execute_input": "2023-11-26T20:52:55.741397Z",
     "iopub.status.busy": "2023-11-26T20:52:55.740334Z",
     "iopub.status.idle": "2023-11-26T20:52:55.753161Z",
     "shell.execute_reply": "2023-11-26T20:52:55.752192Z",
     "shell.execute_reply.started": "2023-11-26T20:52:55.741356Z"
    }
   },
   "outputs": [
    {
     "name": "stdout",
     "output_type": "stream",
     "text": [
      "<class 'pandas.core.frame.DataFrame'>\n",
      "Index: 9275 entries, 0 to 10295\n",
      "Data columns (total 2 columns):\n",
      " #   Column  Non-Null Count  Dtype \n",
      "---  ------  --------------  ----- \n",
      " 0   label   9275 non-null   object\n",
      " 1   title   9275 non-null   object\n",
      "dtypes: object(2)\n",
      "memory usage: 217.4+ KB\n"
     ]
    }
   ],
   "source": [
    "df.info()"
   ]
  },
  {
   "cell_type": "code",
   "execution_count": 42,
   "metadata": {
    "execution": {
     "iopub.execute_input": "2023-11-26T20:52:56.084413Z",
     "iopub.status.busy": "2023-11-26T20:52:56.083684Z",
     "iopub.status.idle": "2023-11-26T20:52:56.123416Z",
     "shell.execute_reply": "2023-11-26T20:52:56.122370Z",
     "shell.execute_reply.started": "2023-11-26T20:52:56.084369Z"
    }
   },
   "outputs": [],
   "source": [
    "dataset = Dataset.from_pandas(df)"
   ]
  },
  {
   "cell_type": "code",
   "execution_count": null,
   "metadata": {},
   "outputs": [],
   "source": []
  },
  {
   "cell_type": "code",
   "execution_count": null,
   "metadata": {},
   "outputs": [],
   "source": []
  },
  {
   "cell_type": "code",
   "execution_count": 43,
   "metadata": {
    "execution": {
     "iopub.execute_input": "2023-11-26T20:52:57.313791Z",
     "iopub.status.busy": "2023-11-26T20:52:57.313408Z",
     "iopub.status.idle": "2023-11-26T20:52:57.442227Z",
     "shell.execute_reply": "2023-11-26T20:52:57.441483Z",
     "shell.execute_reply.started": "2023-11-26T20:52:57.313759Z"
    }
   },
   "outputs": [
    {
     "data": {
      "application/vnd.jupyter.widget-view+json": {
       "model_id": "14f08c3b4cec45bc80e22c78e67e7237",
       "version_major": 2,
       "version_minor": 0
      },
      "text/plain": [
       "Map:   0%|          | 0/9275 [00:00<?, ? examples/s]"
      ]
     },
     "metadata": {},
     "output_type": "display_data"
    },
    {
     "data": {
      "application/vnd.jupyter.widget-view+json": {
       "model_id": "e42c25ba758d46cd9949f52fa291d4e5",
       "version_major": 2,
       "version_minor": 0
      },
      "text/plain": [
       "Casting the dataset:   0%|          | 0/9275 [00:00<?, ? examples/s]"
      ]
     },
     "metadata": {},
     "output_type": "display_data"
    }
   ],
   "source": [
    "ClassLabels = ClassLabel(num_classes=len(labels_list), names=labels_list)\n",
    "\n",
    "def map_label2id(example):\n",
    "    example['label'] = ClassLabels.str2int(example['label'])\n",
    "    return example\n",
    "\n",
    "dataset = dataset.map(map_label2id, batched=True)\n",
    "\n",
    "dataset = dataset.cast_column('label', ClassLabels)\n",
    "\n",
    "dataset = dataset.train_test_split(test_size=1, shuffle=True) # , stratify_by_column=\"label\"\n",
    "\n",
    "df_train = dataset['train']\n",
    "\n",
    "df_test = dataset['test']"
   ]
  },
  {
   "cell_type": "code",
   "execution_count": 44,
   "metadata": {
    "execution": {
     "iopub.execute_input": "2023-11-26T20:52:57.444578Z",
     "iopub.status.busy": "2023-11-26T20:52:57.443953Z",
     "iopub.status.idle": "2023-11-26T20:52:57.559259Z",
     "shell.execute_reply": "2023-11-26T20:52:57.558484Z",
     "shell.execute_reply.started": "2023-11-26T20:52:57.444541Z"
    }
   },
   "outputs": [],
   "source": [
    "\n",
    "tokenizer = AutoTokenizer.from_pretrained(BERT_MODEL, use_fast=True, low_cpu_mem_usage=False)"
   ]
  },
  {
   "cell_type": "code",
   "execution_count": 45,
   "metadata": {
    "execution": {
     "iopub.execute_input": "2023-11-26T20:52:57.561096Z",
     "iopub.status.busy": "2023-11-26T20:52:57.560782Z",
     "iopub.status.idle": "2023-11-26T20:53:09.457007Z",
     "shell.execute_reply": "2023-11-26T20:53:09.456106Z",
     "shell.execute_reply.started": "2023-11-26T20:52:57.561069Z"
    }
   },
   "outputs": [
    {
     "data": {
      "application/vnd.jupyter.widget-view+json": {
       "model_id": "86608e178a914be1994c835e5bfa02cc",
       "version_major": 2,
       "version_minor": 0
      },
      "text/plain": [
       "Map:   0%|          | 0/9274 [00:00<?, ? examples/s]"
      ]
     },
     "metadata": {},
     "output_type": "display_data"
    },
    {
     "data": {
      "application/vnd.jupyter.widget-view+json": {
       "model_id": "2e71a2b683d243afb8ff671365a67d1a",
       "version_major": 2,
       "version_minor": 0
      },
      "text/plain": [
       "Map:   0%|          | 0/1 [00:00<?, ? examples/s]"
      ]
     },
     "metadata": {},
     "output_type": "display_data"
    }
   ],
   "source": [
    "\n",
    "def preprocess_function(examples):\n",
    "   \n",
    "    return tokenizer(examples[\"title\"], truncation=True)\n",
    "\n",
    "df_train = df_train.map(preprocess_function, batched=True)\n",
    "df_test = df_test.map(preprocess_function, batched=True)"
   ]
  },
  {
   "cell_type": "code",
   "execution_count": 46,
   "metadata": {
    "execution": {
     "iopub.execute_input": "2023-11-26T20:53:09.459155Z",
     "iopub.status.busy": "2023-11-26T20:53:09.458867Z",
     "iopub.status.idle": "2023-11-26T20:53:09.468655Z",
     "shell.execute_reply": "2023-11-26T20:53:09.467787Z",
     "shell.execute_reply.started": "2023-11-26T20:53:09.459128Z"
    }
   },
   "outputs": [],
   "source": [
    "df_train = df_train.remove_columns(['title'])\n",
    "\n",
    "df_test = df_test.remove_columns(['title'])"
   ]
  },
  {
   "cell_type": "code",
   "execution_count": 47,
   "metadata": {
    "execution": {
     "iopub.execute_input": "2023-11-26T20:53:09.469876Z",
     "iopub.status.busy": "2023-11-26T20:53:09.469590Z",
     "iopub.status.idle": "2023-11-26T20:53:09.476761Z",
     "shell.execute_reply": "2023-11-26T20:53:09.475875Z",
     "shell.execute_reply.started": "2023-11-26T20:53:09.469850Z"
    }
   },
   "outputs": [],
   "source": [
    "\n",
    "data_collator = DataCollatorWithPadding(tokenizer=tokenizer)"
   ]
  },
  {
   "cell_type": "code",
   "execution_count": 48,
   "metadata": {
    "execution": {
     "iopub.execute_input": "2023-11-26T20:53:09.479016Z",
     "iopub.status.busy": "2023-11-26T20:53:09.478737Z",
     "iopub.status.idle": "2023-11-26T20:53:09.492293Z",
     "shell.execute_reply": "2023-11-26T20:53:09.491486Z",
     "shell.execute_reply.started": "2023-11-26T20:53:09.478991Z"
    }
   },
   "outputs": [
    {
     "data": {
      "text/plain": [
       "'[CLS] Alessandro Scarafile updated a event in the 00. TENTATIVE calendar Jan 2013, 2015 Until Jan 2114, 2015 Support Morocco ( ALFAHAD ) Client needs help for firewall configuration and system check. Refer to ticket YMN - 265 - 89975. You are receiving this notification because you are watching the following : 00. TENTATIVE Sent by Atlassian Confluence 5. 6. 3, the Enterprise Wiki [SEP]'"
      ]
     },
     "execution_count": 48,
     "metadata": {},
     "output_type": "execute_result"
    }
   ],
   "source": [
    "tokenizer.decode(df_train[0]['input_ids'])"
   ]
  },
  {
   "cell_type": "code",
   "execution_count": 49,
   "metadata": {
    "execution": {
     "iopub.execute_input": "2023-11-26T20:53:09.494168Z",
     "iopub.status.busy": "2023-11-26T20:53:09.493539Z",
     "iopub.status.idle": "2023-11-26T20:54:38.639976Z",
     "shell.execute_reply": "2023-11-26T20:54:38.639003Z",
     "shell.execute_reply.started": "2023-11-26T20:53:09.494133Z"
    }
   },
   "outputs": [
    {
     "data": {
      "text/html": [],
      "text/plain": [
       "<IPython.core.display.HTML object>"
      ]
     },
     "metadata": {},
     "output_type": "display_data"
    },
    {
     "name": "stdout",
     "output_type": "stream",
     "text": [
      "{'test_loss': 0.32046690583229065, 'test_accuracy': 0.9346560276040543, 'test_runtime': 89.1329, 'test_samples_per_second': 104.047, 'test_steps_per_second': 1.627}\n"
     ]
    }
   ],
   "source": [
    "outputs = trainer.predict(df_train)\n",
    "\n",
    "print(outputs.metrics)"
   ]
  },
  {
   "cell_type": "code",
   "execution_count": 50,
   "metadata": {
    "execution": {
     "iopub.execute_input": "2023-11-26T20:54:38.641633Z",
     "iopub.status.busy": "2023-11-26T20:54:38.641313Z",
     "iopub.status.idle": "2023-11-26T20:54:38.920844Z",
     "shell.execute_reply": "2023-11-26T20:54:38.919824Z",
     "shell.execute_reply.started": "2023-11-26T20:54:38.641605Z"
    }
   },
   "outputs": [
    {
     "name": "stdout",
     "output_type": "stream",
     "text": [
      "Accuracy: 0.9347\n",
      "F1 Score: 0.8324\n"
     ]
    },
    {
     "data": {
      "image/png": "[encoded data removed]",
      "text/plain": [
       "<Figure size 800x600 with 2 Axes>"
      ]
     },
     "metadata": {},
     "output_type": "display_data"
    },
    {
     "name": "stdout",
     "output_type": "stream",
     "text": [
      "\n",
      "Classification report:\n",
      "\n",
      "              precision    recall  f1-score   support\n",
      "\n",
      "           0     0.9588    0.9679    0.9633      8220\n",
      "           1     0.7295    0.6755    0.7015      1054\n",
      "\n",
      "    accuracy                         0.9347      9274\n",
      "   macro avg     0.8441    0.8217    0.8324      9274\n",
      "weighted avg     0.9327    0.9347    0.9336      9274\n",
      "\n"
     ]
    }
   ],
   "source": [
    "y_true = outputs.label_ids\n",
    "\n",
    "y_pred = outputs.predictions.argmax(1)\n",
    "\n",
    "def plot_confusion_matrix(cm, classes, title='Confusion Matrix', cmap=plt.cm.Blues, figsize=(10, 8), is_norm=True):\n",
    "   \n",
    "    plt.figure(figsize=figsize)\n",
    "    \n",
    "    \n",
    "    plt.imshow(cm, interpolation='nearest', cmap=cmap)\n",
    "    plt.title(title)\n",
    "    plt.colorbar()\n",
    "\n",
    "    tick_marks = np.arange(len(classes))\n",
    "    plt.xticks(tick_marks, classes, rotation=90)\n",
    "    plt.yticks(tick_marks, classes)\n",
    "    \n",
    "    if is_norm:\n",
    "        fmt = '.3f'\n",
    "    else:\n",
    "        fmt = '.0f'\n",
    "    thresh = cm.max() / 2.0\n",
    "    for i, j in itertools.product(range(cm.shape[0]), range(cm.shape[1])):\n",
    "        plt.text(j, i, format(cm[i, j], fmt), horizontalalignment=\"center\", color=\"white\" if cm[i, j] > thresh else \"black\")\n",
    "\n",
    "    plt.ylabel('True label')\n",
    "    plt.xlabel('Predicted label')\n",
    "\n",
    "    plt.tight_layout()\n",
    "    plt.show()\n",
    "\n",
    "accuracy = accuracy_score(y_true, y_pred)\n",
    "f1 = f1_score(y_true, y_pred, average='macro')\n",
    "\n",
    "print(f\"Accuracy: {accuracy:.4f}\")\n",
    "print(f\"F1 Score: {f1:.4f}\")\n",
    "\n",
    "if len(labels_list) <= 120:\n",
    "    cm = confusion_matrix(y_true, y_pred, normalize='true')\n",
    "\n",
    "    plot_confusion_matrix(cm, labels_list, figsize=(8, 6))\n",
    "\n",
    "print()\n",
    "print(\"Classification report:\")\n",
    "print()\n",
    "print(classification_report(y_true, y_pred, target_names=labels_list, digits=4))"
   ]
  },
  {
   "cell_type": "code",
   "execution_count": null,
   "metadata": {},
   "outputs": [],
   "source": []
  },
  {
   "cell_type": "code",
   "execution_count": null,
   "metadata": {},
   "outputs": [],
   "source": []
  },
  {
   "cell_type": "code",
   "execution_count": null,
   "metadata": {},
   "outputs": [],
   "source": []
  }
 ],
 "metadata": {
  "kaggle": {
   "accelerator": "gpu",
   "dataSources": [
    {
     "datasetId": 483,
     "sourceId": 982,
     "sourceType": "datasetVersion"
    },
    {
     "datasetId": 4015456,
     "sourceId": 6986875,
     "sourceType": "datasetVersion"
    },
    {
     "datasetId": 4015659,
     "sourceId": 6987166,
     "sourceType": "datasetVersion"
    }
   ],
   "dockerImageVersionId": 30588,
   "isGpuEnabled": true,
   "isInternetEnabled": true,
   "language": "python",
   "sourceType": "notebook"
  },
  "kernelspec": {
   "display_name": "Python 3",
   "language": "python",
   "name": "python3"
  },
  "language_info": {
   "codemirror_mode": {
    "name": "ipython",
    "version": 3
   },
   "file_extension": ".py",
   "mimetype": "text/x-python",
   "name": "python",
   "nbconvert_exporter": "python",
   "pygments_lexer": "ipython3",
   "version": "3.8.5"
  }
 },
 "nbformat": 4,
 "nbformat_minor": 4
}
